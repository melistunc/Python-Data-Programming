{
 "cells": [
  {
   "cell_type": "code",
   "execution_count": 1,
   "id": "400e5d73-ed83-43af-8ae0-765c1dc5f3fa",
   "metadata": {},
   "outputs": [],
   "source": [
    "my_list = [10,20,30,40,50,60]"
   ]
  },
  {
   "cell_type": "code",
   "execution_count": 2,
   "id": "f90d2681-5c17-4d62-bfbf-eaa435fffce1",
   "metadata": {},
   "outputs": [
    {
     "name": "stdout",
     "output_type": "stream",
     "text": [
      "5.0\n",
      "10.0\n",
      "15.0\n",
      "20.0\n",
      "25.0\n",
      "30.0\n"
     ]
    }
   ],
   "source": [
    "for num in my_list:\n",
    "    print(num/2)"
   ]
  },
  {
   "cell_type": "markdown",
   "id": "12d41ea4-c435-4201-949e-827c49d83b2b",
   "metadata": {},
   "source": [
    "range, kapsam oluşturur."
   ]
  },
  {
   "cell_type": "code",
   "execution_count": 3,
   "id": "6f8f55da-d4b6-42c1-aa35-da405edbc2cc",
   "metadata": {},
   "outputs": [
    {
     "data": {
      "text/plain": [
       "range(0, 50)"
      ]
     },
     "execution_count": 3,
     "metadata": {},
     "output_type": "execute_result"
    }
   ],
   "source": [
    "range(50) # range, 0'dan 50'ye kadar olan kapsamları bize diziyor."
   ]
  },
  {
   "cell_type": "code",
   "execution_count": 5,
   "id": "b6c3208e-de88-4719-8bf7-da7ce27e0cce",
   "metadata": {},
   "outputs": [
    {
     "data": {
      "text/plain": [
       "[0, 1, 2, 3, 4, 5, 6, 7, 8, 9]"
      ]
     },
     "execution_count": 5,
     "metadata": {},
     "output_type": "execute_result"
    }
   ],
   "source": [
    "list(range(10)) #10'ye kadar olan bir liste oluşturur."
   ]
  },
  {
   "cell_type": "code",
   "execution_count": 6,
   "id": "adabeb35-d06c-4ec8-b83a-530611fd777f",
   "metadata": {},
   "outputs": [
    {
     "name": "stdout",
     "output_type": "stream",
     "text": [
      "0\n",
      "2\n",
      "4\n",
      "6\n",
      "8\n",
      "10\n",
      "12\n",
      "14\n",
      "16\n",
      "18\n",
      "20\n",
      "22\n",
      "24\n",
      "26\n",
      "28\n",
      "30\n",
      "32\n",
      "34\n",
      "36\n",
      "38\n"
     ]
    }
   ],
   "source": [
    "for num in list(range(20)): #list içinde 0'dan 20'ye kadar sayı yazdır ve bunları num'a ata.\n",
    "    print(num * 2) # num içindeki sayıları 2 ile çarp ve bize göster."
   ]
  },
  {
   "cell_type": "code",
   "execution_count": 7,
   "id": "55a016a2-1736-48fb-badf-2799216e2310",
   "metadata": {},
   "outputs": [
    {
     "data": {
      "text/plain": [
       "[5, 6, 7, 8, 9, 10, 11, 12, 13, 14, 15, 16, 17, 18, 19, 20, 21, 22, 23, 24]"
      ]
     },
     "execution_count": 7,
     "metadata": {},
     "output_type": "execute_result"
    }
   ],
   "source": [
    "list(range(5,25)) # 5'ten 25'e kadar olan sayıları listeler."
   ]
  },
  {
   "cell_type": "code",
   "execution_count": 8,
   "id": "9866dd24-8540-443a-a3b3-c14cd86b2045",
   "metadata": {},
   "outputs": [
    {
     "data": {
      "text/plain": [
       "[5, 7, 9, 11, 13, 15, 17, 19, 21, 23]"
      ]
     },
     "execution_count": 8,
     "metadata": {},
     "output_type": "execute_result"
    }
   ],
   "source": [
    "list(range(5,25,2)) # 5'ten 25'e kadar yazdır ama bunları ikişer ikişer atlayarak yazdır."
   ]
  },
  {
   "cell_type": "code",
   "execution_count": 9,
   "id": "49673541-5bce-4ed5-82ae-358caf84bc4d",
   "metadata": {},
   "outputs": [],
   "source": [
    "my_list = [20,30,40,50,60]"
   ]
  },
  {
   "cell_type": "code",
   "execution_count": 10,
   "id": "b43386b6-f8b2-44d4-9db6-62a5d2da8c88",
   "metadata": {},
   "outputs": [
    {
     "name": "stdout",
     "output_type": "stream",
     "text": [
      "20\n",
      "30\n",
      "40\n",
      "50\n",
      "60\n"
     ]
    }
   ],
   "source": [
    "for num in my_list:\n",
    "    print(num) # indexleri değil değerleri verir bize."
   ]
  },
  {
   "cell_type": "markdown",
   "id": "5b230bdf-24ef-4784-bf8c-35d84a2fbc9c",
   "metadata": {},
   "source": [
    "numaralar yerine indexleri yazdırmak istersek"
   ]
  },
  {
   "cell_type": "markdown",
   "id": "2d47ebb4-7e27-460e-b8f6-595406731b61",
   "metadata": {},
   "source": [
    "1.yol"
   ]
  },
  {
   "cell_type": "code",
   "execution_count": 11,
   "id": "b00dee09-3f81-4a40-bd3a-b2a7396e026f",
   "metadata": {},
   "outputs": [
    {
     "name": "stdout",
     "output_type": "stream",
     "text": [
      "0\n",
      "1\n",
      "2\n",
      "3\n",
      "4\n"
     ]
    }
   ],
   "source": [
    "for ix in range(len(my_list)): # len ile mylist içindekilerin sayısını ver dedik. range ile de bu sayıyı liste şeklinde yazdırdık.\n",
    "    print(ix) #indexleri gösterdik. 1. 2. 3. gibi."
   ]
  },
  {
   "cell_type": "markdown",
   "id": "2cdc3e58-5051-4c96-826a-7050e88368a5",
   "metadata": {},
   "source": [
    "2.yol"
   ]
  },
  {
   "cell_type": "markdown",
   "id": "6781aa93-3795-49b3-89bf-81733a2604cd",
   "metadata": {},
   "source": [
    "enumerate, indexleri ve değerleri tuple şeklinde veriyor."
   ]
  },
  {
   "cell_type": "code",
   "execution_count": 17,
   "id": "1022b5d7-22ca-480b-a3bf-bc728c8b0583",
   "metadata": {},
   "outputs": [
    {
     "name": "stdout",
     "output_type": "stream",
     "text": [
      "(0, 20)\n",
      "(1, 30)\n",
      "(2, 40)\n",
      "(3, 50)\n",
      "(4, 60)\n"
     ]
    }
   ],
   "source": [
    "for element in enumerate (my_list): #enumerate, indexleri ve değerleri tuple şeklinde veriyor.\n",
    "    print(element) "
   ]
  },
  {
   "cell_type": "code",
   "execution_count": 20,
   "id": "db3ce1c0-adf4-4d64-9d5b-4a610dc22ebd",
   "metadata": {},
   "outputs": [
    {
     "name": "stdout",
     "output_type": "stream",
     "text": [
      "0\n",
      "1\n",
      "2\n",
      "3\n",
      "4\n"
     ]
    }
   ],
   "source": [
    "for (ix,value) in enumerate(my_list): # enumerate ile index ve value'leri gösteririz.\n",
    "    print(ix) #bizden sadece indexleri göstermemiz istenmiş."
   ]
  },
  {
   "cell_type": "code",
   "execution_count": 19,
   "id": "e6a1ae05-0099-445d-90ea-37fa64c9d3b3",
   "metadata": {},
   "outputs": [
    {
     "name": "stdout",
     "output_type": "stream",
     "text": [
      "20\n",
      "30\n",
      "40\n",
      "50\n",
      "60\n"
     ]
    }
   ],
   "source": [
    "for (ix,value) in enumerate(my_list): \n",
    "    print(value) # sadece value'leri gösterdik."
   ]
  },
  {
   "cell_type": "markdown",
   "id": "ee073154-1891-4629-a9dc-192d9a8414d1",
   "metadata": {},
   "source": [
    "random"
   ]
  },
  {
   "cell_type": "code",
   "execution_count": 22,
   "id": "06bd5bb2-2911-49b1-9872-76fc7f2d78be",
   "metadata": {},
   "outputs": [],
   "source": [
    "from random import randint #random isimli kütüphane var onun içinden randint isimli fonksiyonu import ediyoruz. "
   ]
  },
  {
   "cell_type": "code",
   "execution_count": 23,
   "id": "96ccbc13-c06a-4912-8cd4-118434374da0",
   "metadata": {},
   "outputs": [
    {
     "data": {
      "text/plain": [
       "86"
      ]
     },
     "execution_count": 23,
     "metadata": {},
     "output_type": "execute_result"
    }
   ],
   "source": [
    "randint (0,100) # 0 ile 100 arasından rastgele bir sayı getiriyor."
   ]
  },
  {
   "cell_type": "code",
   "execution_count": 24,
   "id": "9bd67709-9c47-42b0-b78c-a4f09a9577fc",
   "metadata": {},
   "outputs": [
    {
     "data": {
      "text/plain": [
       "85"
      ]
     },
     "execution_count": 24,
     "metadata": {},
     "output_type": "execute_result"
    }
   ],
   "source": [
    "randint (0,100)"
   ]
  },
  {
   "cell_type": "code",
   "execution_count": 25,
   "id": "8166039e-7e05-408b-9898-01ecb4a4f870",
   "metadata": {},
   "outputs": [
    {
     "data": {
      "text/plain": [
       "40"
      ]
     },
     "execution_count": 25,
     "metadata": {},
     "output_type": "execute_result"
    }
   ],
   "source": [
    "randint (0,100)"
   ]
  },
  {
   "cell_type": "code",
   "execution_count": 26,
   "id": "930f9de2-94b1-473a-80f1-a249bc4e8b3e",
   "metadata": {},
   "outputs": [],
   "source": [
    "from random import shuffle #random içinden shuffle çağırıldı."
   ]
  },
  {
   "cell_type": "code",
   "execution_count": 27,
   "id": "af2d21a7-9d25-41bb-a6b4-c9b5ba7cbc60",
   "metadata": {},
   "outputs": [
    {
     "data": {
      "text/plain": [
       "[20, 30, 40, 50, 60]"
      ]
     },
     "execution_count": 27,
     "metadata": {},
     "output_type": "execute_result"
    }
   ],
   "source": [
    "my_list"
   ]
  },
  {
   "cell_type": "code",
   "execution_count": 28,
   "id": "d72cfe67-171b-4f78-ba24-8a90802b87e3",
   "metadata": {},
   "outputs": [],
   "source": [
    "shuffle(my_list) # liste içindeki elemanların sırasını rastgele karıştırdı."
   ]
  },
  {
   "cell_type": "code",
   "execution_count": 29,
   "id": "9fb59950-3a0c-43c2-bd35-82d8cfccd701",
   "metadata": {},
   "outputs": [
    {
     "data": {
      "text/plain": [
       "[20, 30, 50, 60, 40]"
      ]
     },
     "execution_count": 29,
     "metadata": {},
     "output_type": "execute_result"
    }
   ],
   "source": [
    "my_list"
   ]
  },
  {
   "cell_type": "code",
   "execution_count": 30,
   "id": "c285389f-f6a7-4fe7-baee-9edd82d06b1e",
   "metadata": {},
   "outputs": [],
   "source": [
    "my_list = [20,30,40,50,60,70,80]"
   ]
  },
  {
   "cell_type": "code",
   "execution_count": 31,
   "id": "7386fc8d-919c-4e0c-8838-827dc95d0c9f",
   "metadata": {},
   "outputs": [
    {
     "data": {
      "text/plain": [
       "1"
      ]
     },
     "execution_count": 31,
     "metadata": {},
     "output_type": "execute_result"
    }
   ],
   "source": [
    "randint(0,len(my_list)) # 0'dan başlayarak len mylist arasından rastgele bir rakam ver dedik."
   ]
  },
  {
   "cell_type": "code",
   "execution_count": 33,
   "id": "70f63c6e-bea0-4e22-bbf7-9e6cb38cea7d",
   "metadata": {},
   "outputs": [
    {
     "data": {
      "text/plain": [
       "20"
      ]
     },
     "execution_count": 33,
     "metadata": {},
     "output_type": "execute_result"
    }
   ],
   "source": [
    "my_list[randint(0,len(my_list))] # mylist içinden 0 ile len mylist içinden rastgele bir sayı oluştur, ver dedik"
   ]
  },
  {
   "cell_type": "code",
   "execution_count": 34,
   "id": "adf31815-e847-4223-8c39-57e360b1dc69",
   "metadata": {},
   "outputs": [
    {
     "data": {
      "text/plain": [
       "60"
      ]
     },
     "execution_count": 34,
     "metadata": {},
     "output_type": "execute_result"
    }
   ],
   "source": [
    "my_list[randint(0,len(my_list))] #0 ile mylist arasından rastgele eleman değeri verir."
   ]
  },
  {
   "cell_type": "code",
   "execution_count": 35,
   "id": "ad9c1168-00c9-4d3f-89b8-cbd5f0fff387",
   "metadata": {},
   "outputs": [
    {
     "data": {
      "text/plain": [
       "30"
      ]
     },
     "execution_count": 35,
     "metadata": {},
     "output_type": "execute_result"
    }
   ],
   "source": [
    "my_list[randint(0,len(my_list))] # 0 ile mylist eleman sayısından rastgele bir sayı seçer ve o eleman sayısındaki değeri ekrana verir."
   ]
  },
  {
   "cell_type": "code",
   "execution_count": 36,
   "id": "f240f2dc-ef4b-4ee8-9f12-fff216f734fa",
   "metadata": {},
   "outputs": [
    {
     "data": {
      "text/plain": [
       "6"
      ]
     },
     "execution_count": 36,
     "metadata": {},
     "output_type": "execute_result"
    }
   ],
   "source": [
    "randint(0,len(my_list)) # 0 ile mylist uzunluğu arasındaki index sayılarını ekrana verir."
   ]
  },
  {
   "cell_type": "code",
   "execution_count": 40,
   "id": "ff5a70a0-91b3-4119-aed6-113d8dfd304d",
   "metadata": {},
   "outputs": [
    {
     "data": {
      "text/plain": [
       "2"
      ]
     },
     "execution_count": 40,
     "metadata": {},
     "output_type": "execute_result"
    }
   ],
   "source": [
    "randint(0,len(my_list)) #burada 0 ile mylist uzunluğu arasından bir sayı verir."
   ]
  },
  {
   "cell_type": "code",
   "execution_count": 41,
   "id": "58116801-224e-418b-bfa4-9619b927e478",
   "metadata": {},
   "outputs": [
    {
     "data": {
      "text/plain": [
       "30"
      ]
     },
     "execution_count": 41,
     "metadata": {},
     "output_type": "execute_result"
    }
   ],
   "source": [
    "my_list[randint(0,len(my_list)-1)] #burasının eleman sayısı 6'dan fazla olan 7'yi vermemesi için (eleman indexleri 0'dan başlar) buraya -1 ekleriz. "
   ]
  },
  {
   "cell_type": "markdown",
   "id": "7373c2f6-1567-4165-808b-db9d2270ea49",
   "metadata": {},
   "source": [
    "zip, yaptığımız yapıyı, koleksiyonu tek bir yapı haline getirip sıkıştırmaktır."
   ]
  },
  {
   "cell_type": "code",
   "execution_count": 42,
   "id": "013f2917-419d-42d1-8396-9b27ba97a6f6",
   "metadata": {},
   "outputs": [],
   "source": [
    "food_list = [\"taco\",\"burger\",\"sushi\"]"
   ]
  },
  {
   "cell_type": "code",
   "execution_count": 43,
   "id": "029f3998-749c-4722-b966-4907395c62b6",
   "metadata": {},
   "outputs": [],
   "source": [
    "calories_list = [300,450,500]"
   ]
  },
  {
   "cell_type": "code",
   "execution_count": 44,
   "id": "8f90d459-3593-4546-9ef1-a90846d209d4",
   "metadata": {},
   "outputs": [],
   "source": [
    "day_list = [\"monday\",\"tuesday\",\"wednesday\"]"
   ]
  },
  {
   "cell_type": "code",
   "execution_count": 47,
   "id": "58de9683-1087-4138-a90a-7a0973e0cf08",
   "metadata": {},
   "outputs": [],
   "source": [
    "zipped_list =list( zip(food_list,calories_list,day_list)) #üç liste zip ile birleştirildi. (listeye çevrilip)"
   ]
  },
  {
   "cell_type": "code",
   "execution_count": 48,
   "id": "b5d04505-6b34-4dab-bd51-cba4e869d9a3",
   "metadata": {},
   "outputs": [
    {
     "data": {
      "text/plain": [
       "list"
      ]
     },
     "execution_count": 48,
     "metadata": {},
     "output_type": "execute_result"
    }
   ],
   "source": [
    "type(zipped_list) # zip ile birleştirdiğimiz listeyi göremeyiz bunu listeye çevirmemiz lazım.(üst kodda list'e çevrilmiş hali yapılmıştır.)"
   ]
  },
  {
   "cell_type": "code",
   "execution_count": 49,
   "id": "05a9d99c-6917-4792-9264-66b8e76beb7d",
   "metadata": {},
   "outputs": [
    {
     "data": {
      "text/plain": [
       "[('taco', 300, 'monday'),\n",
       " ('burger', 450, 'tuesday'),\n",
       " ('sushi', 500, 'wednesday')]"
      ]
     },
     "execution_count": 49,
     "metadata": {},
     "output_type": "execute_result"
    }
   ],
   "source": [
    "zipped_list # zip ile listeler birleştirlip tuple içinde tanımlanmıştır."
   ]
  },
  {
   "cell_type": "code",
   "execution_count": 52,
   "id": "7576a1e2-b095-434e-906c-87d0bc2bdbb1",
   "metadata": {},
   "outputs": [],
   "source": [
    "new_list = [] #boş liste\n",
    "my_string = \"frank ocean\" #string\n",
    "\n",
    "for elm in my_string: #elm içine mystringtekileri atadık.\n",
    "    new_list.append(elm) #boş listeye elm'dekileri yazdırdık."
   ]
  },
  {
   "cell_type": "code",
   "execution_count": 53,
   "id": "dd96a3d9-5c80-4663-9e5d-77fbf8569b01",
   "metadata": {},
   "outputs": [
    {
     "data": {
      "text/plain": [
       "['f', 'r', 'a', 'n', 'k', ' ', 'o', 'c', 'e', 'a', 'n']"
      ]
     },
     "execution_count": 53,
     "metadata": {},
     "output_type": "execute_result"
    }
   ],
   "source": [
    "new_list "
   ]
  },
  {
   "cell_type": "markdown",
   "id": "5532bd79-18cd-4c41-b290-fc78657b73ef",
   "metadata": {},
   "source": [
    "list comprehension, yukarıda tanımladığımız for loop'un aynısını tek bir satırda oluşturmak için kullanılmıştır."
   ]
  },
  {
   "cell_type": "code",
   "execution_count": 54,
   "id": "39e9fb6e-af2c-48e1-9c82-28a3ea7bc095",
   "metadata": {},
   "outputs": [],
   "source": [
    "new_list = [elm for elm in my_string] # başta liste için [ ] açıldı. elm in mystring'te alınan her veriyi elm for içerisinde kayde."
   ]
  },
  {
   "cell_type": "code",
   "execution_count": 55,
   "id": "c37a1815-956d-4354-a525-74504ffb4b4e",
   "metadata": {},
   "outputs": [
    {
     "data": {
      "text/plain": [
       "['f', 'r', 'a', 'n', 'k', ' ', 'o', 'c', 'e', 'a', 'n']"
      ]
     },
     "execution_count": 55,
     "metadata": {},
     "output_type": "execute_result"
    }
   ],
   "source": [
    "new_list"
   ]
  },
  {
   "cell_type": "code",
   "execution_count": 56,
   "id": "1c58e430-9e57-4363-8fda-d3c68dcdf15b",
   "metadata": {},
   "outputs": [],
   "source": [
    "number_list = [1,2,3,4,5,6,7]"
   ]
  },
  {
   "cell_type": "code",
   "execution_count": 59,
   "id": "35fdf524-19e3-4960-81c8-9e0f28b53d18",
   "metadata": {},
   "outputs": [],
   "source": [
    "new_number_list = [num / 2 for num in number_list] #hepsini 2'ye bölüp yeni listeye koyuyor."
   ]
  },
  {
   "cell_type": "code",
   "execution_count": 60,
   "id": "0439b426-18ba-4006-903c-279fabd3e6b9",
   "metadata": {},
   "outputs": [
    {
     "data": {
      "text/plain": [
       "[0.5, 1.0, 1.5, 2.0, 2.5, 3.0, 3.5]"
      ]
     },
     "execution_count": 60,
     "metadata": {},
     "output_type": "execute_result"
    }
   ],
   "source": [
    "new_number_list"
   ]
  },
  {
   "cell_type": "code",
   "execution_count": 62,
   "id": "0e979672-b8c3-4545-95c1-54351619ad97",
   "metadata": {},
   "outputs": [],
   "source": [
    "new_number_list = []\n",
    "for num in number_list:\n",
    "    new_number_list.append(num/2) \n",
    "#üstteki kodun yazılışının diğer versiyonu."
   ]
  },
  {
   "cell_type": "code",
   "execution_count": 63,
   "id": "362f8d25-543a-4796-96e6-290ff1d3609b",
   "metadata": {},
   "outputs": [
    {
     "data": {
      "text/plain": [
       "[0.5, 1.0, 1.5, 2.0, 2.5, 3.0, 3.5]"
      ]
     },
     "execution_count": 63,
     "metadata": {},
     "output_type": "execute_result"
    }
   ],
   "source": [
    "new_number_list"
   ]
  },
  {
   "cell_type": "code",
   "execution_count": 65,
   "id": "a2b51995-277b-4f4a-bb53-53edc11ad9cb",
   "metadata": {},
   "outputs": [],
   "source": [
    "from random import uniform "
   ]
  },
  {
   "cell_type": "code",
   "execution_count": 66,
   "id": "d4e1006c-31eb-4f63-aea6-1a4189560676",
   "metadata": {},
   "outputs": [
    {
     "data": {
      "text/plain": [
       "4.346850470259291"
      ]
     },
     "execution_count": 66,
     "metadata": {},
     "output_type": "execute_result"
    }
   ],
   "source": [
    "uniform(2.5, 10.0)  #float sayılarında 2.5 ile 10.0 arasından rastgele sayı seçer."
   ]
  },
  {
   "cell_type": "code",
   "execution_count": 71,
   "id": "76d7a93b-e647-4d20-9731-c5399c343a08",
   "metadata": {},
   "outputs": [],
   "source": [
    "from random import randrange"
   ]
  },
  {
   "cell_type": "code",
   "execution_count": 72,
   "id": "c43056c4-eaf8-4db1-a2e8-48b17d3a3616",
   "metadata": {},
   "outputs": [
    {
     "data": {
      "text/plain": [
       "2"
      ]
     },
     "execution_count": 72,
     "metadata": {},
     "output_type": "execute_result"
    }
   ],
   "source": [
    "randrange(10) # 0 ile 10 arasından rastgele bir tam sayı yazar"
   ]
  },
  {
   "cell_type": "code",
   "execution_count": 73,
   "id": "fad50151-ca81-489f-ac07-5cd1e056a553",
   "metadata": {},
   "outputs": [],
   "source": [
    "from random import randrange "
   ]
  },
  {
   "cell_type": "code",
   "execution_count": 74,
   "id": "bc4683b0-7725-49c7-a252-6cc4a9dc9725",
   "metadata": {},
   "outputs": [
    {
     "data": {
      "text/plain": [
       "58"
      ]
     },
     "execution_count": 74,
     "metadata": {},
     "output_type": "execute_result"
    }
   ],
   "source": [
    "randrange(0, 101, 2) # 0'dan 100'e kadar olan çift sayıları verir."
   ]
  },
  {
   "cell_type": "code",
   "execution_count": 75,
   "id": "f1b53225-c197-44c2-9d61-083a6fdb168e",
   "metadata": {},
   "outputs": [],
   "source": [
    "from random import choice"
   ]
  },
  {
   "cell_type": "code",
   "execution_count": 76,
   "id": "903a87c6-773d-4a7d-9bf5-f7bcc0ce2285",
   "metadata": {},
   "outputs": [
    {
     "data": {
      "text/plain": [
       "'win'"
      ]
     },
     "execution_count": 76,
     "metadata": {},
     "output_type": "execute_result"
    }
   ],
   "source": [
    "choice(['win', 'lose', 'draw']) # bir diziden tek bir rastgele eleman seçer."
   ]
  },
  {
   "cell_type": "code",
   "execution_count": 77,
   "id": "6638e189-8167-44f5-9286-f2a7533d1a95",
   "metadata": {},
   "outputs": [],
   "source": [
    "from random import sample"
   ]
  },
  {
   "cell_type": "code",
   "execution_count": 78,
   "id": "017aea77-b698-460b-a965-54ec5fcf1348",
   "metadata": {},
   "outputs": [
    {
     "data": {
      "text/plain": [
       "[50, 10, 20, 30]"
      ]
     },
     "execution_count": 78,
     "metadata": {},
     "output_type": "execute_result"
    }
   ],
   "source": [
    "sample([10, 20, 30, 40, 50], k=4) #yerine yenisi konulmayan dört örnek verdi."
   ]
  },
  {
   "cell_type": "code",
   "execution_count": 79,
   "id": "eb53f349-9da7-41ad-9bc3-e747397955dd",
   "metadata": {},
   "outputs": [],
   "source": [
    "from random import choices"
   ]
  },
  {
   "cell_type": "code",
   "execution_count": 80,
   "id": "cbdf4e01-9583-4a56-b284-5d0d6c48977b",
   "metadata": {},
   "outputs": [
    {
     "data": {
      "text/plain": [
       "['red', 'red', 'black', 'red', 'red', 'black']"
      ]
     },
     "execution_count": 80,
     "metadata": {},
     "output_type": "execute_result"
    }
   ],
   "source": [
    "choices(['red', 'black', 'green'], [18, 18, 2], k=6) # 6 elemanı rulet misali döndürdü."
   ]
  },
  {
   "cell_type": "code",
   "execution_count": 81,
   "id": "8998f9cb-bba6-401f-92d2-e6ddc8d0c6c0",
   "metadata": {},
   "outputs": [
    {
     "data": {
      "text/plain": [
       "['black', 'black', 'red', 'black', 'black', 'black']"
      ]
     },
     "execution_count": 81,
     "metadata": {},
     "output_type": "execute_result"
    }
   ],
   "source": [
    "choices(['red', 'black', 'green'], [18, 18, 2], k=6)"
   ]
  }
 ],
 "metadata": {
  "kernelspec": {
   "display_name": "Python 3 (ipykernel)",
   "language": "python",
   "name": "python3"
  },
  "language_info": {
   "codemirror_mode": {
    "name": "ipython",
    "version": 3
   },
   "file_extension": ".py",
   "mimetype": "text/x-python",
   "name": "python",
   "nbconvert_exporter": "python",
   "pygments_lexer": "ipython3",
   "version": "3.11.9"
  }
 },
 "nbformat": 4,
 "nbformat_minor": 5
}
