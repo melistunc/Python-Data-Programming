{
 "cells": [
  {
   "cell_type": "markdown",
   "id": "b9997744-4f69-45b2-8895-927205b2e8a2",
   "metadata": {},
   "source": [
    "bool'da iki değer vardır, iki değer alır. True veya false."
   ]
  },
  {
   "cell_type": "code",
   "execution_count": 2,
   "id": "07bbca63-c5dc-4bbe-acba-541b08d99964",
   "metadata": {},
   "outputs": [],
   "source": [
    "myBoolen = True"
   ]
  },
  {
   "cell_type": "code",
   "execution_count": 3,
   "id": "20943a4b-ea76-431f-9937-2bf124d9b039",
   "metadata": {},
   "outputs": [
    {
     "data": {
      "text/plain": [
       "bool"
      ]
     },
     "execution_count": 3,
     "metadata": {},
     "output_type": "execute_result"
    }
   ],
   "source": [
    "type(myBoolen)"
   ]
  },
  {
   "cell_type": "code",
   "execution_count": 4,
   "id": "3e6b30d2-b1db-44e9-9716-e58b327abdc7",
   "metadata": {},
   "outputs": [],
   "source": [
    "myBoolen = False"
   ]
  },
  {
   "cell_type": "code",
   "execution_count": 5,
   "id": "78a9f7b8-31d3-4b6b-9d86-a2849ca2bbf4",
   "metadata": {},
   "outputs": [
    {
     "data": {
      "text/plain": [
       "False"
      ]
     },
     "execution_count": 5,
     "metadata": {},
     "output_type": "execute_result"
    }
   ],
   "source": [
    "myBoolen"
   ]
  },
  {
   "cell_type": "markdown",
   "id": "26d103fd-f5d7-4fa8-b1e2-9cd6ecd09a6b",
   "metadata": {},
   "source": [
    "Kullanıcıya mesaj gösterildi mi , gösterildiyse bir daha gösterme, eğer bu olursa şunu yap gibi koşullarda kontrol edilebilir. Bu gibi yerlerde bool kullanılabilir."
   ]
  },
  {
   "cell_type": "code",
   "execution_count": 6,
   "id": "13bf0520-e574-4b9f-9987-7e7f9c8dca78",
   "metadata": {},
   "outputs": [
    {
     "data": {
      "text/plain": [
       "True"
      ]
     },
     "execution_count": 6,
     "metadata": {},
     "output_type": "execute_result"
    }
   ],
   "source": [
    "5 > 3 #kontrol mekanizması."
   ]
  },
  {
   "cell_type": "code",
   "execution_count": 7,
   "id": "3dd9dbe6-9143-4406-ba47-bc3b96e60791",
   "metadata": {},
   "outputs": [
    {
     "data": {
      "text/plain": [
       "False"
      ]
     },
     "execution_count": 7,
     "metadata": {},
     "output_type": "execute_result"
    }
   ],
   "source": [
    "3 > 5 "
   ]
  },
  {
   "cell_type": "code",
   "execution_count": 8,
   "id": "b1991499-2c36-4ba7-bacd-21469ebe9616",
   "metadata": {},
   "outputs": [
    {
     "name": "stdin",
     "output_type": "stream",
     "text": [
      "enter age:  35\n"
     ]
    }
   ],
   "source": [
    "age = input(\"enter age: \") #dışarıdan veri girmek input ile sağlanır. age değişkendir bunu inputa eşitleyip dışarıdan gelecek değeri kayıt ederiz."
   ]
  },
  {
   "cell_type": "code",
   "execution_count": 9,
   "id": "c729eb54-c86a-433b-8482-de98f16ce3b4",
   "metadata": {},
   "outputs": [
    {
     "data": {
      "text/plain": [
       "'35'"
      ]
     },
     "execution_count": 9,
     "metadata": {},
     "output_type": "execute_result"
    }
   ],
   "source": [
    "age"
   ]
  },
  {
   "cell_type": "code",
   "execution_count": 11,
   "id": "52ed0b06-cfcc-4ad8-87b0-022066829fb8",
   "metadata": {},
   "outputs": [
    {
     "data": {
      "text/plain": [
       "True"
      ]
     },
     "execution_count": 11,
     "metadata": {},
     "output_type": "execute_result"
    }
   ],
   "source": [
    "int(age) > 18 # age string olduğu için ve bunu int ile karşılaştıracağımız için age'i int'e çevirmemiz gerekiyor. \n",
    "# age 35'ti, 35 18'den büyük mü dedik ve sonuç true çıktı."
   ]
  },
  {
   "cell_type": "code",
   "execution_count": null,
   "id": "a5713fec-9990-4151-af6d-88b5c0abd523",
   "metadata": {},
   "outputs": [],
   "source": []
  }
 ],
 "metadata": {
  "kernelspec": {
   "display_name": "Python 3 (ipykernel)",
   "language": "python",
   "name": "python3"
  },
  "language_info": {
   "codemirror_mode": {
    "name": "ipython",
    "version": 3
   },
   "file_extension": ".py",
   "mimetype": "text/x-python",
   "name": "python",
   "nbconvert_exporter": "python",
   "pygments_lexer": "ipython3",
   "version": "3.11.9"
  }
 },
 "nbformat": 4,
 "nbformat_minor": 5
}
