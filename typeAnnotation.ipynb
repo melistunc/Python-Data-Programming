{
 "cells": [
  {
   "cell_type": "code",
   "execution_count": 3,
   "id": "84d13792-41f4-4318-92b7-dacf83f8547b",
   "metadata": {},
   "outputs": [],
   "source": [
    "name : str = \"mel\" #string tipinde olduğunu gösterdik."
   ]
  },
  {
   "cell_type": "code",
   "execution_count": 5,
   "id": "d96d1f1f-8513-4519-b5a8-1a4bef973db0",
   "metadata": {},
   "outputs": [],
   "source": [
    "surname : str = 20"
   ]
  },
  {
   "cell_type": "code",
   "execution_count": 6,
   "id": "b1d6b79c-e1c5-416c-ac5f-d77f23131b03",
   "metadata": {},
   "outputs": [
    {
     "data": {
      "text/plain": [
       "int"
      ]
     },
     "execution_count": 6,
     "metadata": {},
     "output_type": "execute_result"
    }
   ],
   "source": [
    "type(surname) # str bunun type'ını değiştirmedi. Etkilemiyor."
   ]
  },
  {
   "cell_type": "code",
   "execution_count": 8,
   "id": "ff03d2ac-f168-4f6c-a352-55e63cbda8ce",
   "metadata": {},
   "outputs": [],
   "source": [
    "name : str = \"mel\"\n",
    "age  : int =  22\n",
    "is_student : bool = True"
   ]
  },
  {
   "cell_type": "code",
   "execution_count": 11,
   "id": "2a739903-9124-4832-a97b-83bb86e62f81",
   "metadata": {},
   "outputs": [],
   "source": [
    "def add_numbers(a: int, b:int) -> int: # a bir int, b bir int, -> ile de geriye bir int döndürecek fonksiyon diyoruz.\n",
    "    return a + b"
   ]
  },
  {
   "cell_type": "code",
   "execution_count": 12,
   "id": "1005922f-bbf2-4146-8580-028a463cc4ab",
   "metadata": {},
   "outputs": [
    {
     "data": {
      "text/plain": [
       "9"
      ]
     },
     "execution_count": 12,
     "metadata": {},
     "output_type": "execute_result"
    }
   ],
   "source": [
    "add_numbers(4,5)"
   ]
  },
  {
   "cell_type": "code",
   "execution_count": 13,
   "id": "9ff34f36-e891-4eb3-a8a0-e96321475690",
   "metadata": {},
   "outputs": [],
   "source": [
    "def process_value(value: int | str) -> str: # bir değer alacak bu değer ya int ya da string olacak ve sonucu string döndürecek.\n",
    "    if isinstance(value, int): #bir şeyin sınıfından mı? diye sorar.Burada value bir int sınıfından mı diye sormuş. Eğer oyleyse burası true dönüyor.\n",
    "       return f\"processed integer: {value}\" #ekrana döndürülecek yazı.\n",
    "    else:\n",
    "        return f\"processsed string: {value}\""
   ]
  },
  {
   "cell_type": "code",
   "execution_count": 14,
   "id": "9f9dc3f5-aa5b-45d3-a82a-10d20a6eb624",
   "metadata": {},
   "outputs": [
    {
     "data": {
      "text/plain": [
       "'processed integer: 50'"
      ]
     },
     "execution_count": 14,
     "metadata": {},
     "output_type": "execute_result"
    }
   ],
   "source": [
    "process_value(50) "
   ]
  },
  {
   "cell_type": "code",
   "execution_count": 15,
   "id": "d3557d15-1226-464a-8de0-cfacbbe8777f",
   "metadata": {},
   "outputs": [
    {
     "data": {
      "text/plain": [
       "'processsed string: bla bla bla'"
      ]
     },
     "execution_count": 15,
     "metadata": {},
     "output_type": "execute_result"
    }
   ],
   "source": [
    "process_value(\"bla bla bla\")"
   ]
  },
  {
   "cell_type": "code",
   "execution_count": 16,
   "id": "39bd007e-c266-4110-8ad8-f58e1cf28405",
   "metadata": {},
   "outputs": [
    {
     "data": {
      "text/plain": [
       "'processsed string: [10, 20, 30]'"
      ]
     },
     "execution_count": 16,
     "metadata": {},
     "output_type": "execute_result"
    }
   ],
   "source": [
    "process_value([10,20,30]) #listeyi de görür. int or string dediğim için ikisini de burada görür."
   ]
  },
  {
   "cell_type": "code",
   "execution_count": 18,
   "id": "771b9986-03c0-43a2-8fa2-91c36e6beb67",
   "metadata": {},
   "outputs": [],
   "source": [
    "from typing import List #typing'ten list metodu importladık.\n",
    "\n",
    "def sum_list(numbers: List[int]): # bu fonksiyon içine bir int listesi alacak diyoruz.\n",
    "    return sum(numbers) #girilecek sayıları topla fonksiyonuyla toplatacağız."
   ]
  },
  {
   "cell_type": "code",
   "execution_count": 19,
   "id": "7ccfda86-b39a-4c36-a90c-066e215dee04",
   "metadata": {},
   "outputs": [
    {
     "data": {
      "text/plain": [
       "10"
      ]
     },
     "execution_count": 19,
     "metadata": {},
     "output_type": "execute_result"
    }
   ],
   "source": [
    "numbers = [1,2,3,4] # liste oluşturduk.\n",
    "sum_list(numbers) #fonksiyona bu listeyi atadık ve fonksiyon çalıştı."
   ]
  },
  {
   "cell_type": "code",
   "execution_count": null,
   "id": "a2b2bbc1-068c-46f9-8080-684cf44a993e",
   "metadata": {},
   "outputs": [],
   "source": []
  }
 ],
 "metadata": {
  "kernelspec": {
   "display_name": "Python 3 (ipykernel)",
   "language": "python",
   "name": "python3"
  },
  "language_info": {
   "codemirror_mode": {
    "name": "ipython",
    "version": 3
   },
   "file_extension": ".py",
   "mimetype": "text/x-python",
   "name": "python",
   "nbconvert_exporter": "python",
   "pygments_lexer": "ipython3",
   "version": "3.11.9"
  }
 },
 "nbformat": 4,
 "nbformat_minor": 5
}
