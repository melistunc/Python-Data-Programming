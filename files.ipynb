{
 "cells": [
  {
   "cell_type": "code",
   "execution_count": 1,
   "id": "ee4c95ec-05b4-41e3-8871-e0005b591834",
   "metadata": {},
   "outputs": [
    {
     "name": "stdout",
     "output_type": "stream",
     "text": [
      "Writing myfile.txt\n"
     ]
    }
   ],
   "source": [
    "%%writefile myfile.txt #myfile txt oluşturup içine test1,test2,test3 yaz demektir.\n",
    "test1\n",
    "test2\n",
    "test3"
   ]
  },
  {
   "cell_type": "code",
   "execution_count": 3,
   "id": "b7648efc-952b-4b88-92ab-4d49d6f28e6f",
   "metadata": {},
   "outputs": [],
   "source": [
    "#txt dosyasını dışarıdan alıp okumak istiyoruz.\n",
    "myFile = open(\"/Users/lenovo/2myNotes/myfile.txt\") \n",
    "#dosyayı dışarıdan alır ve açar ve myFile değişkenine kayıt eder."
   ]
  },
  {
   "cell_type": "code",
   "execution_count": 4,
   "id": "a96b7734-235c-4049-be25-01d056f970b8",
   "metadata": {},
   "outputs": [
    {
     "data": {
      "text/plain": [
       "_io.TextIOWrapper"
      ]
     },
     "execution_count": 4,
     "metadata": {},
     "output_type": "execute_result"
    }
   ],
   "source": [
    "type(myFile)"
   ]
  },
  {
   "cell_type": "code",
   "execution_count": 5,
   "id": "165396c4-d6f7-47e8-81f9-52548d9e1a44",
   "metadata": {},
   "outputs": [
    {
     "data": {
      "text/plain": [
       "'test1\\ntest2\\ntest3\\n'"
      ]
     },
     "execution_count": 5,
     "metadata": {},
     "output_type": "execute_result"
    }
   ],
   "source": [
    "myFile.read() #myFile içindekileri oku dedik."
   ]
  },
  {
   "cell_type": "code",
   "execution_count": 6,
   "id": "e95c1a84-0023-4455-9a81-555c384801e2",
   "metadata": {},
   "outputs": [
    {
     "data": {
      "text/plain": [
       "''"
      ]
     },
     "execution_count": 6,
     "metadata": {},
     "output_type": "execute_result"
    }
   ],
   "source": [
    "myFile.read() #hepsini okudu, okuması bitti en sonda kaldı bu yüzden boş görünür."
   ]
  },
  {
   "cell_type": "code",
   "execution_count": 7,
   "id": "cbab69fd-154c-4204-8484-f17631f946c5",
   "metadata": {},
   "outputs": [
    {
     "data": {
      "text/plain": [
       "0"
      ]
     },
     "execution_count": 7,
     "metadata": {},
     "output_type": "execute_result"
    }
   ],
   "source": [
    "myFile.seek(0) #tx dosyasının en başına geldik."
   ]
  },
  {
   "cell_type": "code",
   "execution_count": 8,
   "id": "4e1392bf-b3ab-44d7-8d14-1d8a0865d181",
   "metadata": {},
   "outputs": [
    {
     "data": {
      "text/plain": [
       "'test1\\ntest2\\ntest3\\n'"
      ]
     },
     "execution_count": 8,
     "metadata": {},
     "output_type": "execute_result"
    }
   ],
   "source": [
    "myFile.read() #başa geldi tekrar okudu."
   ]
  },
  {
   "cell_type": "code",
   "execution_count": 9,
   "id": "b1c0dd56-1e61-4bae-aa0c-5fe46b985645",
   "metadata": {},
   "outputs": [
    {
     "data": {
      "text/plain": [
       "''"
      ]
     },
     "execution_count": 9,
     "metadata": {},
     "output_type": "execute_result"
    }
   ],
   "source": [
    "myFile.read() #okuması bittiği için tekrar sona geldi."
   ]
  },
  {
   "cell_type": "code",
   "execution_count": 10,
   "id": "6f4f4329-8c5f-4149-85cd-e7a407aa1432",
   "metadata": {},
   "outputs": [],
   "source": [
    "myFile.close() #dosyayı en son kapatmamız gerekir.\n",
    "\n",
    "#bunlar manuel olarak yapılır."
   ]
  },
  {
   "cell_type": "code",
   "execution_count": 11,
   "id": "9e76b9ea-90ef-4f9e-b49c-acb3fa89933a",
   "metadata": {},
   "outputs": [],
   "source": [
    "# manuel yapmamak için şu şekilde bir yöntem kullanırız.\n",
    "\n",
    "with open(\"/Users/lenovo/2myNotes/myfile.txt\") as myFile: # with ile bunu otomatikleştiririz. myfile.txt yolunu yazarız ve bunu bir değişkene yazdırırız. sonra bu myFile.read komutunu bir değişkenine atarız. Atadığımız bu değişkeni ne zaman çağırırsak çağıralım her zaman bize read komutunu çalıştırır.\n",
    "    myContent = myFile.read()"
   ]
  },
  {
   "cell_type": "code",
   "execution_count": 12,
   "id": "c7c25c06-9ab5-47ca-87ea-eb3ed8489132",
   "metadata": {},
   "outputs": [
    {
     "data": {
      "text/plain": [
       "'test1\\ntest2\\ntest3\\n'"
      ]
     },
     "execution_count": 12,
     "metadata": {},
     "output_type": "execute_result"
    }
   ],
   "source": [
    "myContent # dosyayı okudu."
   ]
  },
  {
   "cell_type": "code",
   "execution_count": 13,
   "id": "17fce0d9-1468-43de-aea4-d1220f372665",
   "metadata": {},
   "outputs": [
    {
     "data": {
      "text/plain": [
       "'test1\\ntest2\\ntest3\\n'"
      ]
     },
     "execution_count": 13,
     "metadata": {},
     "output_type": "execute_result"
    }
   ],
   "source": [
    "myContent #sonda kalmadı her çalıştırdığımızda başa dönerek çalıştırdı."
   ]
  },
  {
   "cell_type": "code",
   "execution_count": 15,
   "id": "4ddb465a-fe6d-4929-9101-cbb35363e400",
   "metadata": {},
   "outputs": [],
   "source": [
    "with open(\"/Users/lenovo/2myNotes/myfile.txt\", mode=\"w\") as myAddFile:\n",
    "    myAddFile.write(\"test4\")\n",
    "\n",
    "# with open ile dosyayı açıyoruz. mode olarak w yazmamızın sebebi buranın write(yazma) olacağını belirlememizdendir.Bunu yeni bir değişkene atıyoruz.\n",
    "#sonra değişkeni write komutuyla çalıştırıp içine yeni bir test4 textini yazdırıyoruz."
   ]
  },
  {
   "cell_type": "code",
   "execution_count": 16,
   "id": "68cb1dca-14f2-4296-97b4-bbcc120e2fff",
   "metadata": {},
   "outputs": [
    {
     "data": {
      "text/plain": [
       "<_io.TextIOWrapper name='/Users/lenovo/2myNotes/myfile.txt' mode='w' encoding='cp1254'>"
      ]
     },
     "execution_count": 16,
     "metadata": {},
     "output_type": "execute_result"
    }
   ],
   "source": [
    "myAddFile #yeni yazdırdığımız değişkeni çalıştırıyoruz. Bize yerini gösteriyor."
   ]
  },
  {
   "cell_type": "code",
   "execution_count": 17,
   "id": "f27bb772-a9dd-41f8-8d78-9d2a8cee409f",
   "metadata": {},
   "outputs": [],
   "source": [
    "with open (\"/Users/lenovo/2myNotes/myfile.txt\", mode=\"r\") as myFile2:\n",
    "    myContent = myFile2.read()\n",
    "\n",
    "# with ile dosyayı açıyoruz mode'unu r yapıyoruz reading(okuma) ve bunu bir değişkene atıyoruz.\n",
    "#yeni bir değişkene(mycontent) üstte atadığımız değişkenin okunmasını çalıştırıp atıyoruz."
   ]
  },
  {
   "cell_type": "code",
   "execution_count": 18,
   "id": "1ccb39c1-a1ed-4be3-9459-65c10f795e52",
   "metadata": {},
   "outputs": [
    {
     "data": {
      "text/plain": [
       "'test4'"
      ]
     },
     "execution_count": 18,
     "metadata": {},
     "output_type": "execute_result"
    }
   ],
   "source": [
    "myContent #değişkeni çalıştırıyoruz fakat görüyoruz ki önceden yazdığımız test1'ler tamamen silinmiş yerine test4 yazılmış."
   ]
  },
  {
   "cell_type": "markdown",
   "id": "80e2c919-df11-44cc-8d32-233b529e6a66",
   "metadata": {},
   "source": [
    " w : write ile açmak anlamına geliyor.\n",
    " \n",
    " r: read ile açmak anlamına geliyor.\n",
    " \n",
    " a: append (eklemek) ile açmak anlamına geliyor."
   ]
  },
  {
   "cell_type": "code",
   "execution_count": 30,
   "id": "6035973b-d543-4821-8d5e-2e15871f8c7f",
   "metadata": {},
   "outputs": [],
   "source": [
    "with open(\"/Users/lenovo/2myNotes/myfile.txt\", mode=\"a\") as myAddFile2:\n",
    "    myAddFile2.write(\"test5\")\n",
    "\n",
    "# mode a yapıyoruz append için fakat komutta gene write'ı kullanıyoruz."
   ]
  },
  {
   "cell_type": "code",
   "execution_count": 31,
   "id": "02f76242-2993-468a-a87a-f058acc2f0d3",
   "metadata": {},
   "outputs": [],
   "source": [
    "with open (\"/Users/lenovo/2myNotes/myfile.txt\", mode=\"r\") as myFile3:\n",
    "    myContent = myFile3.read()\n",
    "    \n",
    "#read komutunda değişiklik olmuyor. "
   ]
  },
  {
   "cell_type": "code",
   "execution_count": 32,
   "id": "52bd4dc8-0389-4dff-ae41-67eccc739398",
   "metadata": {},
   "outputs": [
    {
     "data": {
      "text/plain": [
       "'test4test5test5test5test5test5'"
      ]
     },
     "execution_count": 32,
     "metadata": {},
     "output_type": "execute_result"
    }
   ],
   "source": [
    "myContent # test4'ü silmeden üzerine test5'i yazdırdı. (Fazla yazmasının sebebi birçok defa çalıştırdığım içineğer siz de birden fazla defa çalıştırırsanız her seferinde yeni test5 yazdırırsınız.)"
   ]
  },
  {
   "cell_type": "code",
   "execution_count": null,
   "id": "bad1f84e-4848-44b1-857b-16adb2e8f53b",
   "metadata": {},
   "outputs": [],
   "source": []
  }
 ],
 "metadata": {
  "kernelspec": {
   "display_name": "Python 3 (ipykernel)",
   "language": "python",
   "name": "python3"
  },
  "language_info": {
   "codemirror_mode": {
    "name": "ipython",
    "version": 3
   },
   "file_extension": ".py",
   "mimetype": "text/x-python",
   "name": "python",
   "nbconvert_exporter": "python",
   "pygments_lexer": "ipython3",
   "version": "3.11.9"
  }
 },
 "nbformat": 4,
 "nbformat_minor": 5
}
