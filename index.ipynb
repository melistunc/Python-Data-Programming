{
 "cells": [
  {
   "cell_type": "code",
   "execution_count": 1,
   "id": "8705e565-7312-4593-9c72-d63b351d2c5f",
   "metadata": {},
   "outputs": [],
   "source": [
    "myString = \"hello python\""
   ]
  },
  {
   "cell_type": "code",
   "execution_count": 2,
   "id": "9a985b7a-f9b7-4ecb-9a16-5ee40c5066ac",
   "metadata": {},
   "outputs": [
    {
     "data": {
      "text/plain": [
       "'o'"
      ]
     },
     "execution_count": 2,
     "metadata": {},
     "output_type": "execute_result"
    }
   ],
   "source": [
    "myString[4] #4. indexi bana getir dedik.\n",
    "#python boşluklar da dahil her bir harfe bir index atıyor. \n",
    "#index numarası 0'dan başlar."
   ]
  },
  {
   "cell_type": "code",
   "execution_count": 3,
   "id": "8ea258f0-abbc-4998-b18e-c8c6d4f777c8",
   "metadata": {},
   "outputs": [
    {
     "data": {
      "text/plain": [
       "'h'"
      ]
     },
     "execution_count": 3,
     "metadata": {},
     "output_type": "execute_result"
    }
   ],
   "source": [
    "myString[0]"
   ]
  },
  {
   "cell_type": "code",
   "execution_count": 4,
   "id": "50c34420-713e-4a68-9df4-12cf5204b9b8",
   "metadata": {},
   "outputs": [],
   "source": [
    "myString =\"melfox irllve\""
   ]
  },
  {
   "cell_type": "code",
   "execution_count": 5,
   "id": "121db9a7-7357-4ff3-8717-87d4c77195b0",
   "metadata": {},
   "outputs": [
    {
     "data": {
      "text/plain": [
       "'m'"
      ]
     },
     "execution_count": 5,
     "metadata": {},
     "output_type": "execute_result"
    }
   ],
   "source": [
    "myString[0]"
   ]
  },
  {
   "cell_type": "code",
   "execution_count": 6,
   "id": "56e2b3db-e740-403f-8eda-bc37f06899ea",
   "metadata": {},
   "outputs": [
    {
     "data": {
      "text/plain": [
       "' '"
      ]
     },
     "execution_count": 6,
     "metadata": {},
     "output_type": "execute_result"
    }
   ],
   "source": [
    "myString[6] #6. index boşluktur."
   ]
  },
  {
   "cell_type": "code",
   "execution_count": 7,
   "id": "e147ac5a-99f2-4c58-80d7-18e1f7e6ef5d",
   "metadata": {},
   "outputs": [
    {
     "data": {
      "text/plain": [
       "'e'"
      ]
     },
     "execution_count": 7,
     "metadata": {},
     "output_type": "execute_result"
    }
   ],
   "source": [
    "myString [12]"
   ]
  },
  {
   "cell_type": "code",
   "execution_count": 8,
   "id": "be627aac-855b-47ec-9484-aa62c0884f36",
   "metadata": {},
   "outputs": [
    {
     "data": {
      "text/plain": [
       "13"
      ]
     },
     "execution_count": 8,
     "metadata": {},
     "output_type": "execute_result"
    }
   ],
   "source": [
    "len(myString) #13 uzunluklu karakter."
   ]
  },
  {
   "cell_type": "code",
   "execution_count": 9,
   "id": "e6e2b865-51df-4d11-96e2-7fa4a96d16b6",
   "metadata": {},
   "outputs": [
    {
     "data": {
      "text/plain": [
       "12"
      ]
     },
     "execution_count": 9,
     "metadata": {},
     "output_type": "execute_result"
    }
   ],
   "source": [
    "len(myString) - 1 #Bu bana stringin kaç indexli olduğunu verir."
   ]
  },
  {
   "cell_type": "code",
   "execution_count": 10,
   "id": "cdd43b2a-51a8-4270-b4b5-ce04e6874c36",
   "metadata": {},
   "outputs": [],
   "source": [
    "myName = \"Natalie Portman\""
   ]
  },
  {
   "cell_type": "code",
   "execution_count": 15,
   "id": "ce867c69-8add-42b4-84ba-865562b1b658",
   "metadata": {},
   "outputs": [
    {
     "data": {
      "text/plain": [
       "15"
      ]
     },
     "execution_count": 15,
     "metadata": {},
     "output_type": "execute_result"
    }
   ],
   "source": [
    "len(myName)"
   ]
  },
  {
   "cell_type": "code",
   "execution_count": 16,
   "id": "ac914d90-05da-4ddd-856b-02b2341febb2",
   "metadata": {},
   "outputs": [
    {
     "data": {
      "text/plain": [
       "'n'"
      ]
     },
     "execution_count": 16,
     "metadata": {},
     "output_type": "execute_result"
    }
   ],
   "source": [
    "myName[15 - 1] #son indexi verdi."
   ]
  },
  {
   "cell_type": "code",
   "execution_count": 17,
   "id": "7b716782-1f37-4583-8890-8b2e228b4cbe",
   "metadata": {},
   "outputs": [
    {
     "data": {
      "text/plain": [
       "'n'"
      ]
     },
     "execution_count": 17,
     "metadata": {},
     "output_type": "execute_result"
    }
   ],
   "source": [
    "myName[len(myName)-1] #son indexi verdi."
   ]
  },
  {
   "cell_type": "code",
   "execution_count": 18,
   "id": "f8100ed0-c070-4f7e-b11d-8836d6c9b959",
   "metadata": {},
   "outputs": [
    {
     "data": {
      "text/plain": [
       "'n'"
      ]
     },
     "execution_count": 18,
     "metadata": {},
     "output_type": "execute_result"
    }
   ],
   "source": [
    "myName[-1] #-1 ' inci index demek son karakteri almak demektir."
   ]
  },
  {
   "cell_type": "code",
   "execution_count": 19,
   "id": "a58ec902-cece-452a-bb84-b048e9e2afb4",
   "metadata": {},
   "outputs": [
    {
     "data": {
      "text/plain": [
       "'a'"
      ]
     },
     "execution_count": 19,
     "metadata": {},
     "output_type": "execute_result"
    }
   ],
   "source": [
    "myName[-2] #sondan 2. indexi getirdi."
   ]
  },
  {
   "cell_type": "code",
   "execution_count": 21,
   "id": "b87ab287-f729-458a-8ac1-744b2d127067",
   "metadata": {},
   "outputs": [],
   "source": [
    "barcode = \"ABCDEFGH12348956\" #müşterilerin ilk 3 indexi aynı olsun (ABC) diğerleri farklı."
   ]
  },
  {
   "cell_type": "code",
   "execution_count": 22,
   "id": "c4144184-b1d6-4c22-8549-ffe35b0795ee",
   "metadata": {},
   "outputs": [
    {
     "data": {
      "text/plain": [
       "'A'"
      ]
     },
     "execution_count": 22,
     "metadata": {},
     "output_type": "execute_result"
    }
   ],
   "source": [
    "barcode[0]"
   ]
  },
  {
   "cell_type": "code",
   "execution_count": 23,
   "id": "3c4d06a2-2844-43aa-ba3f-2ac359bd9b1e",
   "metadata": {},
   "outputs": [
    {
     "data": {
      "text/plain": [
       "'B'"
      ]
     },
     "execution_count": 23,
     "metadata": {},
     "output_type": "execute_result"
    }
   ],
   "source": [
    "barcode[1]"
   ]
  },
  {
   "cell_type": "code",
   "execution_count": 24,
   "id": "d295e375-ff88-44d4-8acd-6cd7d41d399e",
   "metadata": {},
   "outputs": [
    {
     "data": {
      "text/plain": [
       "'C'"
      ]
     },
     "execution_count": 24,
     "metadata": {},
     "output_type": "execute_result"
    }
   ],
   "source": [
    "barcode[2]"
   ]
  },
  {
   "cell_type": "code",
   "execution_count": 25,
   "id": "38ce96d5-566d-4592-b546-a8bf39f87707",
   "metadata": {},
   "outputs": [
    {
     "data": {
      "text/plain": [
       "'AB'"
      ]
     },
     "execution_count": 25,
     "metadata": {},
     "output_type": "execute_result"
    }
   ],
   "source": [
    "\"A\" + \"B\" #stringlerde toplama demek yanyana koymak demektir."
   ]
  },
  {
   "cell_type": "code",
   "execution_count": 26,
   "id": "e61f8183-f14f-4ff2-887a-99e85523c978",
   "metadata": {},
   "outputs": [],
   "source": [
    "name = \"melfox\""
   ]
  },
  {
   "cell_type": "code",
   "execution_count": 27,
   "id": "b7dfccfe-dad2-4a21-a1db-3b1cdc4a5d8b",
   "metadata": {},
   "outputs": [],
   "source": [
    "surname = \"irllve\""
   ]
  },
  {
   "cell_type": "code",
   "execution_count": 28,
   "id": "6ea0d62b-8b5d-4bbf-bda3-310c5813e96c",
   "metadata": {},
   "outputs": [],
   "source": [
    "fullname = name + surname # name ile surname'i yanyana getirir."
   ]
  },
  {
   "cell_type": "code",
   "execution_count": 29,
   "id": "46132451-25f4-4e01-a31e-1ba0ab2bd599",
   "metadata": {},
   "outputs": [
    {
     "data": {
      "text/plain": [
       "'melfoxirllve'"
      ]
     },
     "execution_count": 29,
     "metadata": {},
     "output_type": "execute_result"
    }
   ],
   "source": [
    "fullname"
   ]
  },
  {
   "cell_type": "code",
   "execution_count": 30,
   "id": "0e3edc30-7eff-4f80-bf31-afdae878cd73",
   "metadata": {},
   "outputs": [],
   "source": [
    "fullname = name + \" \" + surname #aralarına bir boşluk bıraktım."
   ]
  },
  {
   "cell_type": "code",
   "execution_count": 31,
   "id": "8b253a32-349c-4a78-a055-e7d99b664ece",
   "metadata": {},
   "outputs": [
    {
     "data": {
      "text/plain": [
       "'melfox irllve'"
      ]
     },
     "execution_count": 31,
     "metadata": {},
     "output_type": "execute_result"
    }
   ],
   "source": [
    "fullname"
   ]
  },
  {
   "cell_type": "code",
   "execution_count": 32,
   "id": "62e29136-fdbc-49f9-8c34-203efb725576",
   "metadata": {},
   "outputs": [
    {
     "data": {
      "text/plain": [
       "'melfox irllvemelfox irllvemelfox irllvemelfox irllvemelfox irllve'"
      ]
     },
     "execution_count": 32,
     "metadata": {},
     "output_type": "execute_result"
    }
   ],
   "source": [
    "fullname * 5  #stringleri yanyana çarpabiliriz."
   ]
  },
  {
   "cell_type": "code",
   "execution_count": 33,
   "id": "24ebcbe4-d50f-447d-9e6b-e538089e960e",
   "metadata": {},
   "outputs": [
    {
     "data": {
      "text/plain": [
       "'aaaaaaaaaaaaaaaaaaaaaaaaaaaaaaaaaaaaaaaaaaaaaaaaaaaaaaaaaaaaaaaaaaaaaaaaaaaaaaaaaaaaaaaaaaaaaaaaaaaa'"
      ]
     },
     "execution_count": 33,
     "metadata": {},
     "output_type": "execute_result"
    }
   ],
   "source": [
    "100 * \"a\" #100 tane a'yı yanyana çarptık."
   ]
  },
  {
   "cell_type": "code",
   "execution_count": 34,
   "id": "ff045577-b0f5-4e12-963b-90ebea24581b",
   "metadata": {},
   "outputs": [
    {
     "data": {
      "text/plain": [
       "'ABCDEFGH12348956'"
      ]
     },
     "execution_count": 34,
     "metadata": {},
     "output_type": "execute_result"
    }
   ],
   "source": [
    "barcode"
   ]
  },
  {
   "cell_type": "code",
   "execution_count": 35,
   "id": "443dcc45-f180-43d2-9409-f7227eccbc9c",
   "metadata": {},
   "outputs": [
    {
     "data": {
      "text/plain": [
       "'ABC'"
      ]
     },
     "execution_count": 35,
     "metadata": {},
     "output_type": "execute_result"
    }
   ],
   "source": [
    "barcode[0] + barcode[1] + barcode[2]"
   ]
  },
  {
   "cell_type": "code",
   "execution_count": 36,
   "id": "e041c83d-ed17-4d9a-9b0e-2bc84b30ab4d",
   "metadata": {},
   "outputs": [],
   "source": [
    "#slicing (dilimlemek), strating index, stoping index, stepping size"
   ]
  },
  {
   "cell_type": "code",
   "execution_count": 37,
   "id": "c845a771-dfa6-4ae9-bc02-825650495405",
   "metadata": {},
   "outputs": [
    {
     "data": {
      "text/plain": [
       "'ABCDEFGH12348956'"
      ]
     },
     "execution_count": 37,
     "metadata": {},
     "output_type": "execute_result"
    }
   ],
   "source": [
    "barcode[::]"
   ]
  },
  {
   "cell_type": "code",
   "execution_count": 38,
   "id": "0ca1b232-6ced-49f3-b760-bd0420cd28a4",
   "metadata": {},
   "outputs": [],
   "source": [
    "#barcode[#starting index (hangi indexten başlayalım): stoping index (hangi indexte duralım): stepping size (kaçar kaçar ilerleyelim)]"
   ]
  },
  {
   "cell_type": "code",
   "execution_count": 40,
   "id": "c7583119-1200-49cc-89a1-f762c3f9a771",
   "metadata": {},
   "outputs": [
    {
     "data": {
      "text/plain": [
       "'DEFGH12348956'"
      ]
     },
     "execution_count": 40,
     "metadata": {},
     "output_type": "execute_result"
    }
   ],
   "source": [
    "barcode[3::] #3. indexten başladı.ilk üç harfi eledi."
   ]
  },
  {
   "cell_type": "code",
   "execution_count": 41,
   "id": "731420d8-6981-4dd4-845d-219e437c5e20",
   "metadata": {},
   "outputs": [
    {
     "data": {
      "text/plain": [
       "'ABC'"
      ]
     },
     "execution_count": 41,
     "metadata": {},
     "output_type": "execute_result"
    }
   ],
   "source": [
    "barcode[:3:] #3. indexte dur diyoruz. Burada 0'dan 2. indexe kadar alır. 3'te dur 3'ü alma."
   ]
  },
  {
   "cell_type": "code",
   "execution_count": 42,
   "id": "1dcdb7c1-ac0f-4128-8926-9d53a79ca5cd",
   "metadata": {},
   "outputs": [
    {
     "data": {
      "text/plain": [
       "'ABCDE'"
      ]
     },
     "execution_count": 42,
     "metadata": {},
     "output_type": "execute_result"
    }
   ],
   "source": [
    "barcode[:5:] #5'e gelince durur."
   ]
  },
  {
   "cell_type": "code",
   "execution_count": 43,
   "id": "c06a5e6e-229f-4cee-b3b6-d66459cb3b44",
   "metadata": {},
   "outputs": [
    {
     "data": {
      "text/plain": [
       "'ACEG1385'"
      ]
     },
     "execution_count": 43,
     "metadata": {},
     "output_type": "execute_result"
    }
   ],
   "source": [
    "barcode[::2] #ikişer ikişer atlayarak gitti."
   ]
  },
  {
   "cell_type": "code",
   "execution_count": 44,
   "id": "aeb511f9-31e9-4d4c-a217-0208dc329278",
   "metadata": {},
   "outputs": [
    {
     "data": {
      "text/plain": [
       "'ADG286'"
      ]
     },
     "execution_count": 44,
     "metadata": {},
     "output_type": "execute_result"
    }
   ],
   "source": [
    "barcode[::3] #üçer üçer atlayarak ilerledi."
   ]
  },
  {
   "cell_type": "code",
   "execution_count": 45,
   "id": "93c9a23a-fbad-452c-bf45-f6eb311a5647",
   "metadata": {},
   "outputs": [
    {
     "data": {
      "text/plain": [
       "'DEFGH12348956'"
      ]
     },
     "execution_count": 45,
     "metadata": {},
     "output_type": "execute_result"
    }
   ],
   "source": [
    "barcode[3::] #ilk üçünü atladı."
   ]
  },
  {
   "cell_type": "code",
   "execution_count": 46,
   "id": "0f6fcb23-e85e-4dc6-aaf8-f23b30052b8e",
   "metadata": {},
   "outputs": [
    {
     "data": {
      "text/plain": [
       "'DE'"
      ]
     },
     "execution_count": 46,
     "metadata": {},
     "output_type": "execute_result"
    }
   ],
   "source": [
    "barcode[3:5:] #ilk üçünü atladı 5.'de durdu yanı sadece DE'yi almış olduk."
   ]
  },
  {
   "cell_type": "code",
   "execution_count": 47,
   "id": "e9f81307-1c81-4a1c-920b-07744df77d69",
   "metadata": {},
   "outputs": [
    {
     "data": {
      "text/plain": [
       "'CEG1'"
      ]
     },
     "execution_count": 47,
     "metadata": {},
     "output_type": "execute_result"
    }
   ],
   "source": [
    "barcode[2:9:2] #ikinci indexten başla dokuzuncu indexte dur ikişer atlayarak ilerle."
   ]
  },
  {
   "cell_type": "code",
   "execution_count": 48,
   "id": "bfc4601e-cc44-41ef-b390-4f453b1ef6cf",
   "metadata": {},
   "outputs": [
    {
     "data": {
      "text/plain": [
       "'65984321HGFEDCBA'"
      ]
     },
     "execution_count": 48,
     "metadata": {},
     "output_type": "execute_result"
    }
   ],
   "source": [
    "barcode[::-1] #sondan başlar. stepping size'a -1 verirsek ters çevirir."
   ]
  },
  {
   "cell_type": "code",
   "execution_count": 2,
   "id": "a648c530-86d3-48df-87ab-f4c0e5514969",
   "metadata": {},
   "outputs": [],
   "source": [
    "name = \"melfox irllve\""
   ]
  },
  {
   "cell_type": "code",
   "execution_count": 3,
   "id": "40e11cf0-f742-4ee8-a599-16fa8b244307",
   "metadata": {},
   "outputs": [
    {
     "name": "stdout",
     "output_type": "stream",
     "text": [
      "Help on built-in function index:\n",
      "\n",
      "index(...) method of builtins.str instance\n",
      "    S.index(sub[, start[, end]]) -> int\n",
      "    \n",
      "    Return the lowest index in S where substring sub is found,\n",
      "    such that sub is contained within S[start:end].  Optional\n",
      "    arguments start and end are interpreted as in slice notation.\n",
      "    \n",
      "    Raises ValueError when the substring is not found.\n",
      "\n"
     ]
    }
   ],
   "source": [
    "help(name.index)"
   ]
  },
  {
   "cell_type": "code",
   "execution_count": 4,
   "id": "a04a853a-df31-41c7-b1fd-b3820c20ba13",
   "metadata": {},
   "outputs": [
    {
     "data": {
      "text/plain": [
       "2"
      ]
     },
     "execution_count": 4,
     "metadata": {},
     "output_type": "execute_result"
    }
   ],
   "source": [
    "name.index(\"l\") # S harfinin kaçıncı indexte olduğunu bize veriyor. "
   ]
  },
  {
   "cell_type": "code",
   "execution_count": 5,
   "id": "3dc6ad00-1a50-4e66-9719-b29f08b6b2f3",
   "metadata": {},
   "outputs": [
    {
     "data": {
      "text/plain": [
       "['melfox', 'irllve']"
      ]
     },
     "execution_count": 5,
     "metadata": {},
     "output_type": "execute_result"
    }
   ],
   "source": [
    "name.split() #split böler."
   ]
  },
  {
   "cell_type": "code",
   "execution_count": 6,
   "id": "a50e0f43-d316-4ac3-9abb-60e2c67a0ead",
   "metadata": {},
   "outputs": [
    {
     "data": {
      "text/plain": [
       "list"
      ]
     },
     "execution_count": 6,
     "metadata": {},
     "output_type": "execute_result"
    }
   ],
   "source": [
    "type(name.split()) #türü listedir."
   ]
  },
  {
   "cell_type": "code",
   "execution_count": 9,
   "id": "89667256-f4d7-42f8-9863-38cca49548eb",
   "metadata": {},
   "outputs": [
    {
     "data": {
      "text/plain": [
       "'mplfox irllvp'"
      ]
     },
     "execution_count": 9,
     "metadata": {},
     "output_type": "execute_result"
    }
   ],
   "source": [
    "name.replace(\"e\",\"p\",-1) #replace ile istediğimiz bir harfi başka bir harf ile değiştiririz. ilk yere eski değeri, ikinci yere yeni değeri, üçüncü yere değiştireceğimiz ürünün yerini yazarız."
   ]
  },
  {
   "cell_type": "code",
   "execution_count": 10,
   "id": "d12eb23e-6401-4a7a-aa44-e370e83128d1",
   "metadata": {},
   "outputs": [],
   "source": [
    "twoname = name[4] # name'in dördüncü elemanını bir değişkene atadık."
   ]
  },
  {
   "cell_type": "code",
   "execution_count": 11,
   "id": "f3752b79-a8cb-4d93-bd34-f9ceac5582e3",
   "metadata": {},
   "outputs": [
    {
     "data": {
      "text/plain": [
       "'o'"
      ]
     },
     "execution_count": 11,
     "metadata": {},
     "output_type": "execute_result"
    }
   ],
   "source": [
    "twoname"
   ]
  },
  {
   "cell_type": "code",
   "execution_count": 12,
   "id": "9d6692d2-379e-417a-b99a-d83cc583972b",
   "metadata": {},
   "outputs": [],
   "source": [
    "my_dictionary = {\"key1\":20.25, \"kk2\":[40,{\"k21\":\"a\"}]}"
   ]
  },
  {
   "cell_type": "code",
   "execution_count": 13,
   "id": "98624f2c-9f58-4714-ac83-66a7d61f4820",
   "metadata": {},
   "outputs": [
    {
     "data": {
      "text/plain": [
       "'a'"
      ]
     },
     "execution_count": 13,
     "metadata": {},
     "output_type": "execute_result"
    }
   ],
   "source": [
    "my_dictionary[\"kk2\"][1][\"k21\"]"
   ]
  }
 ],
 "metadata": {
  "kernelspec": {
   "display_name": "Python 3 (ipykernel)",
   "language": "python",
   "name": "python3"
  },
  "language_info": {
   "codemirror_mode": {
    "name": "ipython",
    "version": 3
   },
   "file_extension": ".py",
   "mimetype": "text/x-python",
   "name": "python",
   "nbconvert_exporter": "python",
   "pygments_lexer": "ipython3",
   "version": "3.11.9"
  }
 },
 "nbformat": 4,
 "nbformat_minor": 5
}
