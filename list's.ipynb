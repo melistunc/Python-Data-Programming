{
 "cells": [
  {
   "cell_type": "code",
   "execution_count": 1,
   "id": "d2f962a4-a674-4197-bd62-60b93c02d438",
   "metadata": {},
   "outputs": [],
   "source": [
    "myString = \"hello python\""
   ]
  },
  {
   "cell_type": "code",
   "execution_count": 2,
   "id": "61c5a3c4-aa70-498a-9135-2e0621c7f86e",
   "metadata": {},
   "outputs": [
    {
     "data": {
      "text/plain": [
       "['hello', 'python']"
      ]
     },
     "execution_count": 2,
     "metadata": {},
     "output_type": "execute_result"
    }
   ],
   "source": [
    "myString.split()"
   ]
  },
  {
   "cell_type": "code",
   "execution_count": 3,
   "id": "a92c0380-57ec-47b8-b782-e83ee212df9a",
   "metadata": {},
   "outputs": [
    {
     "data": {
      "text/plain": [
       "list"
      ]
     },
     "execution_count": 3,
     "metadata": {},
     "output_type": "execute_result"
    }
   ],
   "source": [
    "type(myString.split())"
   ]
  },
  {
   "cell_type": "code",
   "execution_count": 4,
   "id": "4c6317a7-9738-46ab-8d2c-7736b3146d6e",
   "metadata": {},
   "outputs": [
    {
     "data": {
      "text/plain": [
       "'hello python'"
      ]
     },
     "execution_count": 4,
     "metadata": {},
     "output_type": "execute_result"
    }
   ],
   "source": [
    "myString"
   ]
  },
  {
   "cell_type": "code",
   "execution_count": 5,
   "id": "83b7a779-0070-4cbb-b9d6-7f3785853e0b",
   "metadata": {},
   "outputs": [
    {
     "data": {
      "text/plain": [
       "'h'"
      ]
     },
     "execution_count": 5,
     "metadata": {},
     "output_type": "execute_result"
    }
   ],
   "source": [
    "myString[0]"
   ]
  },
  {
   "cell_type": "markdown",
   "id": "19b3cc9b-b142-4e32-9fc9-e01e6904e6b5",
   "metadata": {},
   "source": [
    "String objeleri tek bir elemanın değiştirilmesini desteklemez.Buna immutable-immutability yani değiştirilemez özelliği. "
   ]
  },
  {
   "cell_type": "markdown",
   "id": "109d3eb4-8fa6-4455-b475-4eb3acf68fba",
   "metadata": {},
   "source": [
    "List"
   ]
  },
  {
   "cell_type": "markdown",
   "id": "34ebbd68-5487-41ae-9af1-a35d64f42c45",
   "metadata": {},
   "source": [
    "list, içinde birden fazla veriyi tutan bir yapıdır. Değiştirilebilirlerdir. Listede [ ] kullanılır. Maddeler virgülle ayrılır."
   ]
  },
  {
   "cell_type": "code",
   "execution_count": 6,
   "id": "5615e77b-d9b7-49ff-92a2-e56602eb28ad",
   "metadata": {},
   "outputs": [],
   "source": [
    "myList = [10, 20, 30]"
   ]
  },
  {
   "cell_type": "code",
   "execution_count": 7,
   "id": "b5ee5337-890c-4a2e-bdf7-efe0ab77bbb6",
   "metadata": {},
   "outputs": [
    {
     "data": {
      "text/plain": [
       "list"
      ]
     },
     "execution_count": 7,
     "metadata": {},
     "output_type": "execute_result"
    }
   ],
   "source": [
    "type(myList)"
   ]
  },
  {
   "cell_type": "code",
   "execution_count": 8,
   "id": "2b166815-9a0c-46b0-b9cf-40ec035599fa",
   "metadata": {},
   "outputs": [],
   "source": [
    "x = 10\n",
    "y = 20\n",
    "z = 30 #değişkenlere atayarak yaptık."
   ]
  },
  {
   "cell_type": "code",
   "execution_count": 9,
   "id": "28d2ca24-f962-4162-a92d-72991214c3c6",
   "metadata": {},
   "outputs": [],
   "source": [
    "myList  = [x,y,z] #değişkenlerle değerler yazıldı."
   ]
  },
  {
   "cell_type": "code",
   "execution_count": 10,
   "id": "4e2e76bd-03d0-4bd9-b55c-3be24ea4a667",
   "metadata": {},
   "outputs": [
    {
     "data": {
      "text/plain": [
       "[10, 20, 30]"
      ]
     },
     "execution_count": 10,
     "metadata": {},
     "output_type": "execute_result"
    }
   ],
   "source": [
    "myList"
   ]
  },
  {
   "cell_type": "code",
   "execution_count": 11,
   "id": "1251d751-1ded-4267-b452-553fb3a8f76f",
   "metadata": {},
   "outputs": [],
   "source": [
    "myList = [10, 20, 30, 40, 50, 60, 70]"
   ]
  },
  {
   "cell_type": "code",
   "execution_count": 12,
   "id": "e1f57d42-e7d9-46f3-a34b-d3d5347a4a3b",
   "metadata": {},
   "outputs": [
    {
     "data": {
      "text/plain": [
       "10"
      ]
     },
     "execution_count": 12,
     "metadata": {},
     "output_type": "execute_result"
    }
   ],
   "source": [
    "myList[0] #sıfırıncı indexli elemanı verdi."
   ]
  },
  {
   "cell_type": "code",
   "execution_count": 13,
   "id": "edcce41f-8b5f-4f1f-b063-a8f29442f04e",
   "metadata": {},
   "outputs": [
    {
     "data": {
      "text/plain": [
       "list"
      ]
     },
     "execution_count": 13,
     "metadata": {},
     "output_type": "execute_result"
    }
   ],
   "source": [
    "type(myList)"
   ]
  },
  {
   "cell_type": "code",
   "execution_count": 14,
   "id": "ccd14e30-3676-4044-9b9a-4b726a5d36d6",
   "metadata": {},
   "outputs": [
    {
     "data": {
      "text/plain": [
       "int"
      ]
     },
     "execution_count": 14,
     "metadata": {},
     "output_type": "execute_result"
    }
   ],
   "source": [
    "type(myList[0]) #değeri verir yani int olur. değerler sayılardı."
   ]
  },
  {
   "cell_type": "code",
   "execution_count": 16,
   "id": "4b795d5c-974a-4b9b-9013-8a2a115e4022",
   "metadata": {},
   "outputs": [],
   "source": [
    "myList[0] = 100 #mutable(değiştirilebilir). sıfırıncı index 100 yapıldı."
   ]
  },
  {
   "cell_type": "code",
   "execution_count": 17,
   "id": "4451199d-9bf1-403e-a98d-8b9d3ebca4fa",
   "metadata": {},
   "outputs": [
    {
     "data": {
      "text/plain": [
       "[100, 20, 30, 40, 50, 60, 70]"
      ]
     },
     "execution_count": 17,
     "metadata": {},
     "output_type": "execute_result"
    }
   ],
   "source": [
    "myList "
   ]
  },
  {
   "cell_type": "code",
   "execution_count": 18,
   "id": "0b5260dc-1218-4e18-b878-d1f88af83d91",
   "metadata": {},
   "outputs": [
    {
     "data": {
      "text/plain": [
       "7"
      ]
     },
     "execution_count": 18,
     "metadata": {},
     "output_type": "execute_result"
    }
   ],
   "source": [
    "len(myList) #listedeki eleman sayısını verdi."
   ]
  },
  {
   "cell_type": "code",
   "execution_count": 19,
   "id": "0d70ddea-78f7-4ac4-8c8d-d7f2a7b7e68e",
   "metadata": {},
   "outputs": [
    {
     "data": {
      "text/plain": [
       "70"
      ]
     },
     "execution_count": 19,
     "metadata": {},
     "output_type": "execute_result"
    }
   ],
   "source": [
    "myList[len(myList)-1] #listenin son elemanını verdi."
   ]
  },
  {
   "cell_type": "code",
   "execution_count": 20,
   "id": "6c18c5df-24bb-46ef-9c46-82ab7f952269",
   "metadata": {},
   "outputs": [
    {
     "data": {
      "text/plain": [
       "70"
      ]
     },
     "execution_count": 20,
     "metadata": {},
     "output_type": "execute_result"
    }
   ],
   "source": [
    "myList[-1]"
   ]
  },
  {
   "cell_type": "markdown",
   "id": "c7eb32f2-aadf-411c-aed9-27e7057c2239",
   "metadata": {},
   "source": [
    "myList[-2] #sondan bir önceki eleman."
   ]
  },
  {
   "cell_type": "code",
   "execution_count": 22,
   "id": "c1920f4a-5ef9-4adb-a1eb-e0413d3288e3",
   "metadata": {},
   "outputs": [
    {
     "data": {
      "text/plain": [
       "[100, 20, 30, 40, 50, 60, 70]"
      ]
     },
     "execution_count": 22,
     "metadata": {},
     "output_type": "execute_result"
    }
   ],
   "source": [
    "myList"
   ]
  },
  {
   "cell_type": "code",
   "execution_count": 23,
   "id": "3e3a8419-8148-4b1b-8276-0f207284bc98",
   "metadata": {},
   "outputs": [],
   "source": [
    "myList.append(80) # listenin sonuna istenilen elemanı ekler."
   ]
  },
  {
   "cell_type": "code",
   "execution_count": 24,
   "id": "049f068c-2c48-4692-9c67-d130aadda208",
   "metadata": {},
   "outputs": [
    {
     "data": {
      "text/plain": [
       "[100, 20, 30, 40, 50, 60, 70, 80]"
      ]
     },
     "execution_count": 24,
     "metadata": {},
     "output_type": "execute_result"
    }
   ],
   "source": [
    "myList"
   ]
  },
  {
   "cell_type": "markdown",
   "id": "bd9be41c-7fbf-4304-a7cc-536518c0e432",
   "metadata": {},
   "source": [
    "clear, listedeki her şeyi siler.\n",
    "copy, listedeki her şeyi kopyalar."
   ]
  },
  {
   "cell_type": "code",
   "execution_count": 26,
   "id": "f81f7279-35e5-40e1-b9f9-9f18ebd29a16",
   "metadata": {},
   "outputs": [
    {
     "data": {
      "text/plain": [
       "1"
      ]
     },
     "execution_count": 26,
     "metadata": {},
     "output_type": "execute_result"
    }
   ],
   "source": [
    "myList.count(20) #içinde istenilen elemandan kaç tane var onu bize gösterir."
   ]
  },
  {
   "cell_type": "markdown",
   "id": "f8bb1174-1619-42bc-b8a3-a17d0b1f2839",
   "metadata": {},
   "source": [
    "extend, başka bir listeyi ekleyip eklenti gibi uzatabiliyor."
   ]
  },
  {
   "cell_type": "code",
   "execution_count": 27,
   "id": "d4411104-0b4a-4acb-a4c5-d5b3f27bd849",
   "metadata": {},
   "outputs": [
    {
     "data": {
      "text/plain": [
       "3"
      ]
     },
     "execution_count": 27,
     "metadata": {},
     "output_type": "execute_result"
    }
   ],
   "source": [
    "myList.index(40) #istenilen elemanın kaçıncı indexte olduğunu söyler.\n",
    "#aynı sayıdan iki tane varsa ilk hangisi gelirse onun yerini söyler."
   ]
  },
  {
   "cell_type": "code",
   "execution_count": 28,
   "id": "aa86878f-0b6f-4b2d-be22-b7598e7e0f75",
   "metadata": {},
   "outputs": [],
   "source": [
    "myList.insert(2,35) #insertte kaçıncı indexe eklemek istiyorum ve hangi indexe eklemek istiyoruz onu söyler. appendle farkı budur."
   ]
  },
  {
   "cell_type": "code",
   "execution_count": 29,
   "id": "5cd8a902-05c2-4bf9-9db0-37d4f20cf976",
   "metadata": {},
   "outputs": [
    {
     "data": {
      "text/plain": [
       "[100, 20, 35, 30, 40, 50, 60, 70, 80]"
      ]
     },
     "execution_count": 29,
     "metadata": {},
     "output_type": "execute_result"
    }
   ],
   "source": [
    "myList #ikinci indexe 35 ekler. bir şey silmez indexler arasına girer."
   ]
  },
  {
   "cell_type": "code",
   "execution_count": 30,
   "id": "33d35414-5e65-4179-a61f-cc810534076d",
   "metadata": {},
   "outputs": [
    {
     "data": {
      "text/plain": [
       "80"
      ]
     },
     "execution_count": 30,
     "metadata": {},
     "output_type": "execute_result"
    }
   ],
   "source": [
    "myList.pop() #son elemanı siler atar."
   ]
  },
  {
   "cell_type": "code",
   "execution_count": 31,
   "id": "1149e68f-d61e-4d58-9bf6-bbf4eb107e14",
   "metadata": {},
   "outputs": [
    {
     "data": {
      "text/plain": [
       "[100, 20, 35, 30, 40, 50, 60, 70]"
      ]
     },
     "execution_count": 31,
     "metadata": {},
     "output_type": "execute_result"
    }
   ],
   "source": [
    "myList #80'i attı."
   ]
  },
  {
   "cell_type": "code",
   "execution_count": 32,
   "id": "8c9ebc34-dc82-4ae1-a4b3-08e3450f28b9",
   "metadata": {},
   "outputs": [],
   "source": [
    "myList.remove(20) #remove neyi çıkarmak istiyorsak onu çıkartır."
   ]
  },
  {
   "cell_type": "code",
   "execution_count": 33,
   "id": "8db878b1-bf31-46a8-b4e8-032d43c82855",
   "metadata": {},
   "outputs": [
    {
     "data": {
      "text/plain": [
       "[100, 35, 30, 40, 50, 60, 70]"
      ]
     },
     "execution_count": 33,
     "metadata": {},
     "output_type": "execute_result"
    }
   ],
   "source": [
    "myList #20'yi çıkardı."
   ]
  },
  {
   "cell_type": "code",
   "execution_count": 34,
   "id": "d3c8ec7b-0f18-4b84-8536-ed7719318d75",
   "metadata": {},
   "outputs": [],
   "source": [
    "myList.reverse() #listeyi tersine çevirir."
   ]
  },
  {
   "cell_type": "code",
   "execution_count": 35,
   "id": "839c8f99-18ce-4003-bcb1-2ea675c10294",
   "metadata": {},
   "outputs": [
    {
     "data": {
      "text/plain": [
       "[70, 60, 50, 40, 30, 35, 100]"
      ]
     },
     "execution_count": 35,
     "metadata": {},
     "output_type": "execute_result"
    }
   ],
   "source": [
    "myList"
   ]
  },
  {
   "cell_type": "code",
   "execution_count": 36,
   "id": "ec7ff4e7-9bc8-486f-8da6-af89a36a8ad7",
   "metadata": {},
   "outputs": [],
   "source": [
    "myList.sort() #listeyi diziyor."
   ]
  },
  {
   "cell_type": "code",
   "execution_count": 37,
   "id": "69a1f0d7-3235-44be-be09-0317394fd3d4",
   "metadata": {},
   "outputs": [
    {
     "data": {
      "text/plain": [
       "[30, 35, 40, 50, 60, 70, 100]"
      ]
     },
     "execution_count": 37,
     "metadata": {},
     "output_type": "execute_result"
    }
   ],
   "source": [
    "myList #listeyi küçükten büyüğe doğru dizdi. harf olsaydı alfabetiğe göre dizecekti."
   ]
  },
  {
   "cell_type": "code",
   "execution_count": 38,
   "id": "9c0c4231-64df-4572-9059-817d277d79dd",
   "metadata": {},
   "outputs": [],
   "source": [
    "#Kullanıcıdan 3 tane sayı istedik ve bunları listede tutacağız. kullanıcıdan arka arkaya rakam isteyelim."
   ]
  },
  {
   "cell_type": "code",
   "execution_count": 39,
   "id": "b79ce29c-9ef1-4972-b9f7-a15194b4923c",
   "metadata": {},
   "outputs": [
    {
     "name": "stdin",
     "output_type": "stream",
     "text": [
      "enter x 10\n"
     ]
    }
   ],
   "source": [
    "x = input(\"enter x\") #input daha önceden tanımlı bir fonksiyondur dışarıdan veri girdirir.. x değerini gir dedik."
   ]
  },
  {
   "cell_type": "code",
   "execution_count": 40,
   "id": "94b739d3-d8f7-40e7-9da6-2eeeb49bf72d",
   "metadata": {},
   "outputs": [
    {
     "data": {
      "text/plain": [
       "'10'"
      ]
     },
     "execution_count": 40,
     "metadata": {},
     "output_type": "execute_result"
    }
   ],
   "source": [
    "x"
   ]
  },
  {
   "cell_type": "code",
   "execution_count": 41,
   "id": "d4b89d5c-8cd5-41b9-9ca8-2bf9971bf25c",
   "metadata": {},
   "outputs": [
    {
     "data": {
      "text/plain": [
       "str"
      ]
     },
     "execution_count": 41,
     "metadata": {},
     "output_type": "execute_result"
    }
   ],
   "source": [
    "type(x) #x stringtir çünkü içine istediğimizi yazabiliriz."
   ]
  },
  {
   "cell_type": "code",
   "execution_count": 42,
   "id": "54119249-3145-46d1-8a23-dbc3dc540462",
   "metadata": {},
   "outputs": [
    {
     "name": "stdin",
     "output_type": "stream",
     "text": [
      "enter y: 20\n"
     ]
    }
   ],
   "source": [
    "y = input(\"enter y:\")"
   ]
  },
  {
   "cell_type": "code",
   "execution_count": 43,
   "id": "e567b831-f7c6-40cd-8b30-fd7ad553f037",
   "metadata": {},
   "outputs": [
    {
     "data": {
      "text/plain": [
       "'20'"
      ]
     },
     "execution_count": 43,
     "metadata": {},
     "output_type": "execute_result"
    }
   ],
   "source": [
    "y"
   ]
  },
  {
   "cell_type": "code",
   "execution_count": 44,
   "id": "80def882-bca3-4de3-aca8-447e50ee4e51",
   "metadata": {},
   "outputs": [
    {
     "name": "stdin",
     "output_type": "stream",
     "text": [
      "enter z: 30\n"
     ]
    }
   ],
   "source": [
    "z = input(\"enter z:\")"
   ]
  },
  {
   "cell_type": "code",
   "execution_count": 45,
   "id": "686aa12b-945d-459a-8acf-dc66b0313cab",
   "metadata": {},
   "outputs": [
    {
     "data": {
      "text/plain": [
       "'30'"
      ]
     },
     "execution_count": 45,
     "metadata": {},
     "output_type": "execute_result"
    }
   ],
   "source": [
    "z"
   ]
  },
  {
   "cell_type": "code",
   "execution_count": 46,
   "id": "37c9773b-610c-48ac-9fb6-458af9ce70ed",
   "metadata": {},
   "outputs": [],
   "source": [
    "inputList = [] #yeni bir liste"
   ]
  },
  {
   "cell_type": "code",
   "execution_count": 47,
   "id": "3af0a388-54ca-4ec8-9819-10341b2097c8",
   "metadata": {},
   "outputs": [],
   "source": [
    "inputList.append(x)  \n",
    "inputList.append(y) \n",
    "inputList.append(z) \n",
    "#içlerine önceden tanımladıklarımızı ekledik."
   ]
  },
  {
   "cell_type": "code",
   "execution_count": 48,
   "id": "aada086a-c1b3-4915-9815-1693e70143b7",
   "metadata": {},
   "outputs": [
    {
     "data": {
      "text/plain": [
       "['10', '20', '30']"
      ]
     },
     "execution_count": 48,
     "metadata": {},
     "output_type": "execute_result"
    }
   ],
   "source": [
    "inputList "
   ]
  },
  {
   "cell_type": "code",
   "execution_count": 49,
   "id": "b68b5db2-b5f0-4fb7-aee0-eeea226eafa5",
   "metadata": {},
   "outputs": [
    {
     "data": {
      "text/plain": [
       "'20'"
      ]
     },
     "execution_count": 49,
     "metadata": {},
     "output_type": "execute_result"
    }
   ],
   "source": [
    "inputList[1]"
   ]
  },
  {
   "cell_type": "code",
   "execution_count": 51,
   "id": "9fe518ec-5e77-40c2-bea7-004b83194c96",
   "metadata": {},
   "outputs": [
    {
     "data": {
      "text/plain": [
       "'2020'"
      ]
     },
     "execution_count": 51,
     "metadata": {},
     "output_type": "execute_result"
    }
   ],
   "source": [
    "inputList[1]*2 "
   ]
  },
  {
   "cell_type": "code",
   "execution_count": 52,
   "id": "1acc529b-e7e8-4ecc-9823-ad6866bec946",
   "metadata": {},
   "outputs": [
    {
     "data": {
      "text/plain": [
       "str"
      ]
     },
     "execution_count": 52,
     "metadata": {},
     "output_type": "execute_result"
    }
   ],
   "source": [
    "type(inputList[1]) #mat çarpması yapamaz yanyana yazar çarparsak çünkü bu bir stringtir. "
   ]
  },
  {
   "cell_type": "code",
   "execution_count": 1,
   "id": "5bd84d50-8f6c-4667-ad4d-4481f4ba98a5",
   "metadata": {},
   "outputs": [],
   "source": [
    "myInteger = 50 "
   ]
  },
  {
   "cell_type": "code",
   "execution_count": 2,
   "id": "b67672f5-e9b3-41fe-baf9-1bcd95374c3a",
   "metadata": {},
   "outputs": [
    {
     "data": {
      "text/plain": [
       "'50'"
      ]
     },
     "execution_count": 2,
     "metadata": {},
     "output_type": "execute_result"
    }
   ],
   "source": [
    "str(myInteger) # integeri stringe çevirdik."
   ]
  },
  {
   "cell_type": "code",
   "execution_count": 4,
   "id": "9ef86559-e293-400a-a87e-c0073900262b",
   "metadata": {},
   "outputs": [
    {
     "data": {
      "text/plain": [
       "str"
      ]
     },
     "execution_count": 4,
     "metadata": {},
     "output_type": "execute_result"
    }
   ],
   "source": [
    "type(str(myInteger))"
   ]
  },
  {
   "cell_type": "code",
   "execution_count": 5,
   "id": "4677bb2d-688c-47d0-9b56-6340ca3f7a7c",
   "metadata": {},
   "outputs": [],
   "source": [
    "myString = \"40\""
   ]
  },
  {
   "cell_type": "code",
   "execution_count": 6,
   "id": "c3597090-4a56-4f7c-8793-7c90e9fa41e1",
   "metadata": {},
   "outputs": [
    {
     "data": {
      "text/plain": [
       "40"
      ]
     },
     "execution_count": 6,
     "metadata": {},
     "output_type": "execute_result"
    }
   ],
   "source": [
    "int(myString) #stringi integere çevirmek için bunu kullanırız."
   ]
  },
  {
   "cell_type": "code",
   "execution_count": 7,
   "id": "a509d903-75a9-47ca-b1a7-26933271947c",
   "metadata": {},
   "outputs": [
    {
     "data": {
      "text/plain": [
       "int"
      ]
     },
     "execution_count": 7,
     "metadata": {},
     "output_type": "execute_result"
    }
   ],
   "source": [
    "type(int(myString))"
   ]
  },
  {
   "cell_type": "code",
   "execution_count": 8,
   "id": "38b727a9-00bf-4434-8a5c-3bef84c32869",
   "metadata": {},
   "outputs": [
    {
     "data": {
      "text/plain": [
       "40.0"
      ]
     },
     "execution_count": 8,
     "metadata": {},
     "output_type": "execute_result"
    }
   ],
   "source": [
    "float(myString) #stringi floata çevirdik."
   ]
  },
  {
   "cell_type": "code",
   "execution_count": 9,
   "id": "a89414b9-24f3-4eda-b15f-59ad82490b00",
   "metadata": {},
   "outputs": [],
   "source": [
    "myString = \"python\" #buradaki string int ve floata çevrilemez çünkü sayı değilller."
   ]
  },
  {
   "cell_type": "code",
   "execution_count": 12,
   "id": "c7e08d8a-8b30-416f-9b34-69daea81ad62",
   "metadata": {},
   "outputs": [],
   "source": [
    "inputList = [10, 20, 30]"
   ]
  },
  {
   "cell_type": "code",
   "execution_count": 13,
   "id": "3f71ac11-2c2f-4be8-a597-91a6fb9a4a85",
   "metadata": {},
   "outputs": [
    {
     "data": {
      "text/plain": [
       "[10, 20, 30]"
      ]
     },
     "execution_count": 13,
     "metadata": {},
     "output_type": "execute_result"
    }
   ],
   "source": [
    "inputList"
   ]
  },
  {
   "cell_type": "code",
   "execution_count": 14,
   "id": "558a483f-7540-4a44-bbae-18fc31492f13",
   "metadata": {},
   "outputs": [
    {
     "data": {
      "text/plain": [
       "40"
      ]
     },
     "execution_count": 14,
     "metadata": {},
     "output_type": "execute_result"
    }
   ],
   "source": [
    "int(inputList[1]) * 2 #eğer stringtekiler sayı olaraksa bunları int'e dönüştürüp 2 ile çarpabilirim sayısal olarak.\n",
    "#20'yi 2 ile çarptık 40 oldu."
   ]
  },
  {
   "cell_type": "code",
   "execution_count": 31,
   "id": "aa009d1f-e905-4eb8-930a-8720c30b068c",
   "metadata": {},
   "outputs": [],
   "source": [
    "mixList = [\"mel\", \"fox\", \"lve\", 100.4, 18] #list içinde sayı isim karakter de olabilir. "
   ]
  },
  {
   "cell_type": "code",
   "execution_count": 32,
   "id": "5d077cf4-dd6a-4d06-80d0-0dfba7cd3653",
   "metadata": {},
   "outputs": [
    {
     "data": {
      "text/plain": [
       "list"
      ]
     },
     "execution_count": 32,
     "metadata": {},
     "output_type": "execute_result"
    }
   ],
   "source": [
    "type(mixList) #türü listtir."
   ]
  },
  {
   "cell_type": "code",
   "execution_count": 33,
   "id": "f6ed6c43-104a-4b0c-bbe8-102dc0c7f501",
   "metadata": {},
   "outputs": [],
   "source": [
    "list1 = [10, 20, 30]\n",
    "list2 = [30, 40, 50]"
   ]
  },
  {
   "cell_type": "code",
   "execution_count": 34,
   "id": "4dfbdaee-f1e5-4437-9c97-02c67596f7d5",
   "metadata": {},
   "outputs": [
    {
     "data": {
      "text/plain": [
       "[10, 20, 30, 30, 40, 50]"
      ]
     },
     "execution_count": 34,
     "metadata": {},
     "output_type": "execute_result"
    }
   ],
   "source": [
    "list1 + list2 #iki listeyi toplayınca yanyana koyar hepsini."
   ]
  },
  {
   "cell_type": "code",
   "execution_count": 35,
   "id": "0fa9d897-15a8-4c2c-93eb-f21da6e74809",
   "metadata": {},
   "outputs": [
    {
     "data": {
      "text/plain": [
       "[10, 20, 30, 10, 20, 30]"
      ]
     },
     "execution_count": 35,
     "metadata": {},
     "output_type": "execute_result"
    }
   ],
   "source": [
    "list1 * 2 #hepsini yanyana koyup bir liste oluşturur."
   ]
  },
  {
   "cell_type": "code",
   "execution_count": 36,
   "id": "b092a07d-719f-42a6-b32e-4eadb47f9720",
   "metadata": {},
   "outputs": [],
   "source": [
    "#list1 / 5 bölünmez sadece mantıklı şeyleri yapar mat işlem yapamaz."
   ]
  },
  {
   "cell_type": "code",
   "execution_count": 37,
   "id": "f8fa8dc2-4d05-4bc7-8d6f-e2eb23442b1a",
   "metadata": {},
   "outputs": [
    {
     "data": {
      "text/plain": [
       "['mel', 'fox', 'lve', 100.4, 18]"
      ]
     },
     "execution_count": 37,
     "metadata": {},
     "output_type": "execute_result"
    }
   ],
   "source": [
    "mixList"
   ]
  },
  {
   "cell_type": "code",
   "execution_count": 38,
   "id": "d663afa3-cf9e-4f32-81b9-8b3308e954dd",
   "metadata": {},
   "outputs": [
    {
     "data": {
      "text/plain": [
       "str"
      ]
     },
     "execution_count": 38,
     "metadata": {},
     "output_type": "execute_result"
    }
   ],
   "source": [
    "type(mixList[1]) #ikinci eleman stringti."
   ]
  },
  {
   "cell_type": "code",
   "execution_count": 39,
   "id": "88d15ebc-743f-44bf-9cbd-2ea612634c75",
   "metadata": {},
   "outputs": [
    {
     "data": {
      "text/plain": [
       "int"
      ]
     },
     "execution_count": 39,
     "metadata": {},
     "output_type": "execute_result"
    }
   ],
   "source": [
    "type(mixList[4]) #dördüncü eleman int'ti."
   ]
  },
  {
   "cell_type": "code",
   "execution_count": 40,
   "id": "05c12300-8809-45f2-8d4c-ab96a037645f",
   "metadata": {},
   "outputs": [
    {
     "data": {
      "text/plain": [
       "float"
      ]
     },
     "execution_count": 40,
     "metadata": {},
     "output_type": "execute_result"
    }
   ],
   "source": [
    "type(mixList[3]) #üçüncü eleman floattı."
   ]
  },
  {
   "cell_type": "markdown",
   "id": "786d74e1-23c5-4c7a-ad0a-6da35e0d68d6",
   "metadata": {},
   "source": [
    "nested list , iç içe geçmiş listelerdir. Liste içinde liste olan listelerdir."
   ]
  },
  {
   "cell_type": "code",
   "execution_count": 41,
   "id": "329824bf-f152-419b-9f21-c4e88a159fdd",
   "metadata": {},
   "outputs": [],
   "source": [
    "myNestedList = [10, 20, 30, 3.14, \"key\", [1, 2, 3]]"
   ]
  },
  {
   "cell_type": "code",
   "execution_count": 42,
   "id": "967a7c7c-5f13-4be9-a04f-fb2c6659a802",
   "metadata": {},
   "outputs": [
    {
     "data": {
      "text/plain": [
       "10"
      ]
     },
     "execution_count": 42,
     "metadata": {},
     "output_type": "execute_result"
    }
   ],
   "source": [
    "myNestedList[0]"
   ]
  },
  {
   "cell_type": "code",
   "execution_count": 43,
   "id": "83e347fd-57ca-452d-a3bb-eb109be3cb1e",
   "metadata": {},
   "outputs": [
    {
     "data": {
      "text/plain": [
       "'key'"
      ]
     },
     "execution_count": 43,
     "metadata": {},
     "output_type": "execute_result"
    }
   ],
   "source": [
    "myNestedList[4]"
   ]
  },
  {
   "cell_type": "code",
   "execution_count": 44,
   "id": "0b95a9c0-dbc5-487f-8eae-3494cb3efba3",
   "metadata": {},
   "outputs": [
    {
     "data": {
      "text/plain": [
       "[1, 2, 3]"
      ]
     },
     "execution_count": 44,
     "metadata": {},
     "output_type": "execute_result"
    }
   ],
   "source": [
    "myNestedList[5] #beşinci eleman direkt listenin kendisini getirir."
   ]
  },
  {
   "cell_type": "code",
   "execution_count": 45,
   "id": "1857227a-3842-4979-bf55-eb6ebd7a4c50",
   "metadata": {},
   "outputs": [],
   "source": [
    "x = myNestedList[0]"
   ]
  },
  {
   "cell_type": "code",
   "execution_count": 46,
   "id": "5d16a7ad-ea59-460c-a5cb-2d2660dd39cd",
   "metadata": {},
   "outputs": [
    {
     "data": {
      "text/plain": [
       "10"
      ]
     },
     "execution_count": 46,
     "metadata": {},
     "output_type": "execute_result"
    }
   ],
   "source": [
    "x"
   ]
  },
  {
   "cell_type": "code",
   "execution_count": 49,
   "id": "f3c0286c-cc96-4a0c-acbf-2219e3cdb799",
   "metadata": {},
   "outputs": [],
   "source": [
    "smallList = myNestedList[4] #dördüncü eleman olan listeyi yeni bir listeye atadık."
   ]
  },
  {
   "cell_type": "code",
   "execution_count": 50,
   "id": "353d24a4-ee58-4757-a1c5-c0369678153a",
   "metadata": {},
   "outputs": [
    {
     "data": {
      "text/plain": [
       "str"
      ]
     },
     "execution_count": 50,
     "metadata": {},
     "output_type": "execute_result"
    }
   ],
   "source": [
    "type(smallList) #türü listedir."
   ]
  },
  {
   "cell_type": "code",
   "execution_count": 51,
   "id": "acf148c6-df3e-4f01-b50c-6535f4695a19",
   "metadata": {},
   "outputs": [
    {
     "data": {
      "text/plain": [
       "[10, 20, 30, 3.14, 'key', [1, 2, 3]]"
      ]
     },
     "execution_count": 51,
     "metadata": {},
     "output_type": "execute_result"
    }
   ],
   "source": [
    "myNestedList"
   ]
  },
  {
   "cell_type": "code",
   "execution_count": 54,
   "id": "e243ae46-2496-4b8e-ba9e-bdb3f89ed9ff",
   "metadata": {},
   "outputs": [
    {
     "data": {
      "text/plain": [
       "2"
      ]
     },
     "execution_count": 54,
     "metadata": {},
     "output_type": "execute_result"
    }
   ],
   "source": [
    "myNestedList[5][1] #dördün yanındaki bir ile liste içindeki listenin ikinci elemanına ulaşmış oluruz."
   ]
  },
  {
   "cell_type": "code",
   "execution_count": 56,
   "id": "2561b15e-7927-4009-a6a5-25dee4e806b9",
   "metadata": {},
   "outputs": [],
   "source": [
    "lastList = [\"a\",\"b\",[\"c\",\"d\",\"e\"],\"f\"]"
   ]
  },
  {
   "cell_type": "code",
   "execution_count": 57,
   "id": "0c16e4af-494e-45c4-934a-7032ee74a7a3",
   "metadata": {},
   "outputs": [
    {
     "data": {
      "text/plain": [
       "4"
      ]
     },
     "execution_count": 57,
     "metadata": {},
     "output_type": "execute_result"
    }
   ],
   "source": [
    "len(lastList) #içerideki liste tek başına bir elemandır."
   ]
  },
  {
   "cell_type": "code",
   "execution_count": 59,
   "id": "4aba0f23-c957-480c-929b-f81d96925396",
   "metadata": {},
   "outputs": [],
   "source": [
    "firstList = [10, 20, 30, 40, 50, 60, 70]"
   ]
  },
  {
   "cell_type": "code",
   "execution_count": 60,
   "id": "1ba3710d-f3a3-449f-9ec6-4cc11ff6848f",
   "metadata": {},
   "outputs": [
    {
     "data": {
      "text/plain": [
       "[10, 20, 30, 40, 50, 60, 70]"
      ]
     },
     "execution_count": 60,
     "metadata": {},
     "output_type": "execute_result"
    }
   ],
   "source": [
    "firstList[::]"
   ]
  },
  {
   "cell_type": "code",
   "execution_count": 61,
   "id": "9494a652-aea4-4813-87ee-0b6eb4f7c958",
   "metadata": {},
   "outputs": [
    {
     "data": {
      "text/plain": [
       "[30, 40, 50, 60, 70]"
      ]
     },
     "execution_count": 61,
     "metadata": {},
     "output_type": "execute_result"
    }
   ],
   "source": [
    "firstList[2::] #2. elemandan başladı."
   ]
  },
  {
   "cell_type": "code",
   "execution_count": 62,
   "id": "309b1fae-e8e8-4bb1-bb47-46bfd1ca3dd3",
   "metadata": {},
   "outputs": [
    {
     "data": {
      "text/plain": [
       "[10, 20, 30, 40, 50]"
      ]
     },
     "execution_count": 62,
     "metadata": {},
     "output_type": "execute_result"
    }
   ],
   "source": [
    "firstList[:5:] #beşinci indexe kadar geldi sonrasını almadı. stop"
   ]
  },
  {
   "cell_type": "code",
   "execution_count": 63,
   "id": "24e6ce66-80cd-4ff5-a501-ac8c2b454038",
   "metadata": {},
   "outputs": [
    {
     "data": {
      "text/plain": [
       "[10, 30, 50, 70]"
      ]
     },
     "execution_count": 63,
     "metadata": {},
     "output_type": "execute_result"
    }
   ],
   "source": [
    "firstList[::2] #ikişer atlayarak devam etti."
   ]
  },
  {
   "cell_type": "code",
   "execution_count": 64,
   "id": "59153f9c-9fcf-48d2-8235-3da1dae03634",
   "metadata": {},
   "outputs": [
    {
     "data": {
      "text/plain": [
       "[20, 40, 60]"
      ]
     },
     "execution_count": 64,
     "metadata": {},
     "output_type": "execute_result"
    }
   ],
   "source": [
    "firstList[1:6:2] #birinciden başla altıncıda dur ikişer atla."
   ]
  },
  {
   "cell_type": "code",
   "execution_count": null,
   "id": "e6970e13-3aa9-4184-9a8e-481562fd9c1b",
   "metadata": {},
   "outputs": [],
   "source": []
  }
 ],
 "metadata": {
  "kernelspec": {
   "display_name": "Python 3 (ipykernel)",
   "language": "python",
   "name": "python3"
  },
  "language_info": {
   "codemirror_mode": {
    "name": "ipython",
    "version": 3
   },
   "file_extension": ".py",
   "mimetype": "text/x-python",
   "name": "python",
   "nbconvert_exporter": "python",
   "pygments_lexer": "ipython3",
   "version": "3.11.9"
  }
 },
 "nbformat": 4,
 "nbformat_minor": 5
}
