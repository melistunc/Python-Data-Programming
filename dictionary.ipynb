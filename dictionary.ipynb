{
 "cells": [
  {
   "cell_type": "markdown",
   "id": "afc43013-416d-4045-978e-8418da7874b2",
   "metadata": {},
   "source": [
    "dictionary, key-value pairing. Birden fazla farklı veriyi tutar. Listeden farkı şudur: anahtar ve değer eşleşmesiyle tutarız. Mesela diyet uygulamasında meyveler ve kalorilerini tutacağız. Burada birçok meyve var bunu bir listede tutmak istiyoruz. Mesela elma verince 100'u vermesi dic sayesinde olur. Dictionary { } ile kullanılır.\n"
   ]
  },
  {
   "cell_type": "code",
   "execution_count": 26,
   "id": "8f94f6a5-ec9a-4f67-aee4-236322c218ec",
   "metadata": {},
   "outputs": [],
   "source": [
    "fruit_list = [\"banana\", \"apple\"]"
   ]
  },
  {
   "cell_type": "code",
   "execution_count": 2,
   "id": "84dcf417-e9b8-4910-b226-9aee21ef345e",
   "metadata": {},
   "outputs": [],
   "source": [
    "calorie_list = [100, 150]"
   ]
  },
  {
   "cell_type": "code",
   "execution_count": 3,
   "id": "76238935-4639-4e6b-b62b-34e4e78417b9",
   "metadata": {},
   "outputs": [],
   "source": [
    "fitness_dictionary = {\"banana\":100, \"apple\":150}"
   ]
  },
  {
   "cell_type": "code",
   "execution_count": 4,
   "id": "dd85a19d-ca34-453a-a7a7-128bc276bdea",
   "metadata": {},
   "outputs": [
    {
     "data": {
      "text/plain": [
       "dict"
      ]
     },
     "execution_count": 4,
     "metadata": {},
     "output_type": "execute_result"
    }
   ],
   "source": [
    "type(fitness_dictionary) #türü dictionary."
   ]
  },
  {
   "cell_type": "code",
   "execution_count": 5,
   "id": "8888a9d7-3eb2-4e86-ab23-6ef9348a1e11",
   "metadata": {},
   "outputs": [],
   "source": [
    "#fitness_dictionary[0] burada index mantığı yok, key-value değeri var yani kaçıncı indexini bu şekilde bulamayız."
   ]
  },
  {
   "cell_type": "code",
   "execution_count": 6,
   "id": "4260db02-3d6d-467a-bc25-789ff30d9e0a",
   "metadata": {},
   "outputs": [
    {
     "data": {
      "text/plain": [
       "100"
      ]
     },
     "execution_count": 6,
     "metadata": {},
     "output_type": "execute_result"
    }
   ],
   "source": [
    "fitness_dictionary[\"banana\"] #sadece key ile değeri bulabiliriz."
   ]
  },
  {
   "cell_type": "code",
   "execution_count": 7,
   "id": "4b32b05b-3cb0-4f4b-95b3-771617de3ccc",
   "metadata": {},
   "outputs": [
    {
     "data": {
      "text/plain": [
       "150"
      ]
     },
     "execution_count": 7,
     "metadata": {},
     "output_type": "execute_result"
    }
   ],
   "source": [
    "fitness_dictionary[\"apple\"] #sadece key'i yazıp değer bulabiliriz.\n",
    "#değer yazıp key bulamayız."
   ]
  },
  {
   "cell_type": "code",
   "execution_count": 8,
   "id": "973850e6-c48f-4399-bde4-f727513641ba",
   "metadata": {},
   "outputs": [
    {
     "data": {
      "text/plain": [
       "dict_keys(['banana', 'apple'])"
      ]
     },
     "execution_count": 8,
     "metadata": {},
     "output_type": "execute_result"
    }
   ],
   "source": [
    "fitness_dictionary.keys() #keys ile anahtarları buluruz."
   ]
  },
  {
   "cell_type": "code",
   "execution_count": 9,
   "id": "929b27c3-9a5e-4ca4-9b9a-f76699fd4b29",
   "metadata": {},
   "outputs": [
    {
     "data": {
      "text/plain": [
       "dict_values([100, 150])"
      ]
     },
     "execution_count": 9,
     "metadata": {},
     "output_type": "execute_result"
    }
   ],
   "source": [
    "fitness_dictionary.values() #values ile değerleri buluruz."
   ]
  },
  {
   "cell_type": "code",
   "execution_count": 10,
   "id": "5e5cc33c-a76b-442a-941d-ee5be71c55ac",
   "metadata": {},
   "outputs": [
    {
     "data": {
      "text/plain": [
       "dict_values"
      ]
     },
     "execution_count": 10,
     "metadata": {},
     "output_type": "execute_result"
    }
   ],
   "source": [
    "type(fitness_dictionary.values())"
   ]
  },
  {
   "cell_type": "code",
   "execution_count": 11,
   "id": "728b2f03-c3b1-4eab-befa-5cb918f4f4b5",
   "metadata": {},
   "outputs": [
    {
     "data": {
      "text/plain": [
       "[100, 150]"
      ]
     },
     "execution_count": 11,
     "metadata": {},
     "output_type": "execute_result"
    }
   ],
   "source": [
    "list(fitness_dictionary.values()) #dict'i list'e çevirdik."
   ]
  },
  {
   "cell_type": "code",
   "execution_count": 2,
   "id": "2be7686e-2124-4b44-9ec5-38064424e05a",
   "metadata": {},
   "outputs": [],
   "source": [
    "fitness_dictionary = {\"banana\":100, \"apple\":150}"
   ]
  },
  {
   "cell_type": "code",
   "execution_count": 3,
   "id": "929674fe-d89b-496e-8c97-0a63dd0c2ae9",
   "metadata": {},
   "outputs": [
    {
     "data": {
      "text/plain": [
       "{'banana': 100, 'apple': 150}"
      ]
     },
     "execution_count": 3,
     "metadata": {},
     "output_type": "execute_result"
    }
   ],
   "source": [
    "fitness_dictionary"
   ]
  },
  {
   "cell_type": "code",
   "execution_count": 4,
   "id": "37c81510-be25-4998-88bd-756cfef640eb",
   "metadata": {},
   "outputs": [],
   "source": [
    "fitness_dictionary[\"banana\"] = 200 #banan'nın valuesini değiştirdik."
   ]
  },
  {
   "cell_type": "code",
   "execution_count": 5,
   "id": "73c7dfef-56d7-4e21-ac68-ceb5feb50954",
   "metadata": {},
   "outputs": [
    {
     "data": {
      "text/plain": [
       "{'banana': 200, 'apple': 150}"
      ]
     },
     "execution_count": 5,
     "metadata": {},
     "output_type": "execute_result"
    }
   ],
   "source": [
    "fitness_dictionary #value ve key'leri değiştirebiliriz."
   ]
  },
  {
   "cell_type": "code",
   "execution_count": 6,
   "id": "e19555c2-e175-4916-8945-9c09e174c3c5",
   "metadata": {},
   "outputs": [],
   "source": [
    "fitness_dictionary[\"melon\"] = 300 #yeni bir eleman ekledik."
   ]
  },
  {
   "cell_type": "code",
   "execution_count": 7,
   "id": "222a99dc-877f-40f9-9824-c8a4ecf20412",
   "metadata": {},
   "outputs": [
    {
     "data": {
      "text/plain": [
       "{'banana': 200, 'apple': 150, 'melon': 300}"
      ]
     },
     "execution_count": 7,
     "metadata": {},
     "output_type": "execute_result"
    }
   ],
   "source": [
    "fitness_dictionary #listelerde bu şekilde ekleme yapamayız. fonksiyonlarla yaparız."
   ]
  },
  {
   "cell_type": "code",
   "execution_count": 8,
   "id": "48fa4f83-dd35-44c1-bcdd-28c2022d1667",
   "metadata": {},
   "outputs": [],
   "source": [
    "# fitness_dictionary[\"appl\"] yazarsak hata mesajı gelir çünkü yanlış key yazdık. Bu hata uygulamayı çökertir."
   ]
  },
  {
   "cell_type": "code",
   "execution_count": 9,
   "id": "40e2c16d-df61-4b25-a213-1fd15a80067e",
   "metadata": {},
   "outputs": [
    {
     "name": "stdout",
     "output_type": "stream",
     "text": [
      "Help on built-in function get:\n",
      "\n",
      "get(key, default=None, /) method of builtins.dict instance\n",
      "    Return the value for key if key is in the dictionary, else default.\n",
      "\n"
     ]
    }
   ],
   "source": [
    "help(fitness_dictionary.get)"
   ]
  },
  {
   "cell_type": "code",
   "execution_count": 10,
   "id": "5b35c1a7-96b9-4bd6-b13a-0bfcc630c47a",
   "metadata": {},
   "outputs": [
    {
     "data": {
      "text/plain": [
       "0"
      ]
     },
     "execution_count": 10,
     "metadata": {},
     "output_type": "execute_result"
    }
   ],
   "source": [
    "fitness_dictionary.get(\"appl\",0) #bu şekilde bir hata yaparsak uygulamamız çökmez, appl isimli key olur."
   ]
  },
  {
   "cell_type": "code",
   "execution_count": 11,
   "id": "c078ae94-2870-4753-9048-5cffd00ba208",
   "metadata": {},
   "outputs": [
    {
     "data": {
      "text/plain": [
       "{'banana': 200, 'apple': 150, 'melon': 300}"
      ]
     },
     "execution_count": 11,
     "metadata": {},
     "output_type": "execute_result"
    }
   ],
   "source": [
    "fitness_dictionary"
   ]
  },
  {
   "cell_type": "code",
   "execution_count": 12,
   "id": "9759998c-44ab-4a78-af1c-7ed708a0eaaa",
   "metadata": {},
   "outputs": [],
   "source": [
    "my_dictionary = {100:\"a\", 200:\"b\", 300:\"c\"}"
   ]
  },
  {
   "cell_type": "code",
   "execution_count": 13,
   "id": "91893ee0-5428-437b-bb4d-9a7e10cb6d25",
   "metadata": {},
   "outputs": [
    {
     "data": {
      "text/plain": [
       "'a'"
      ]
     },
     "execution_count": 13,
     "metadata": {},
     "output_type": "execute_result"
    }
   ],
   "source": [
    "my_dictionary[100] #burada anahtarları sayılar olarak tanımladık."
   ]
  },
  {
   "cell_type": "code",
   "execution_count": 16,
   "id": "7ba40728-57c3-4533-8879-e4e9632ac6bd",
   "metadata": {},
   "outputs": [],
   "source": [
    "my_dictionary = {\"key1\":\"value1\", \"key2\":\"value2\", \"key3\":\"value3\"}"
   ]
  },
  {
   "cell_type": "code",
   "execution_count": 18,
   "id": "65b19261-e1e0-4b98-bd70-3eaa6d0a028d",
   "metadata": {},
   "outputs": [
    {
     "data": {
      "text/plain": [
       "'value1'"
      ]
     },
     "execution_count": 18,
     "metadata": {},
     "output_type": "execute_result"
    }
   ],
   "source": [
    "my_dictionary[\"key1\"] #string ke string value oldu."
   ]
  },
  {
   "cell_type": "code",
   "execution_count": 19,
   "id": "de3f8cd9-56f5-4263-891d-430c7915fed3",
   "metadata": {},
   "outputs": [],
   "source": [
    "my_mixed = {\"key1\": 100, \"key2\": 3.14, \"key3\": [10, 20, 30]}"
   ]
  },
  {
   "cell_type": "code",
   "execution_count": 20,
   "id": "e2736c26-f412-436c-99d4-0f4a073e014c",
   "metadata": {},
   "outputs": [
    {
     "data": {
      "text/plain": [
       "100"
      ]
     },
     "execution_count": 20,
     "metadata": {},
     "output_type": "execute_result"
    }
   ],
   "source": [
    "my_mixed[\"key1\"]"
   ]
  },
  {
   "cell_type": "code",
   "execution_count": 21,
   "id": "5a21cdd5-1f3e-45da-8c15-edbfff7d4c5f",
   "metadata": {},
   "outputs": [
    {
     "data": {
      "text/plain": [
       "[10, 20, 30]"
      ]
     },
     "execution_count": 21,
     "metadata": {},
     "output_type": "execute_result"
    }
   ],
   "source": [
    "my_mixed[\"key3\"] #key3 key'indeki value listedir."
   ]
  },
  {
   "cell_type": "code",
   "execution_count": 22,
   "id": "e9285aec-c41a-4445-b7ec-89de6ab1fbf2",
   "metadata": {},
   "outputs": [
    {
     "data": {
      "text/plain": [
       "20"
      ]
     },
     "execution_count": 22,
     "metadata": {},
     "output_type": "execute_result"
    }
   ],
   "source": [
    "my_mixed[\"key3\"] [1] #key3 listesindeki ikinci elemanı aldık."
   ]
  },
  {
   "cell_type": "code",
   "execution_count": 23,
   "id": "412af6d6-5854-4c16-ab44-b6a5d44b5608",
   "metadata": {},
   "outputs": [],
   "source": [
    "last_dict = {\"k1\":10, \"k2\":[1,2,3], \"k3\":\"myye\", \"k4\": {\"a\":100, \"b\":200}}"
   ]
  },
  {
   "cell_type": "code",
   "execution_count": 24,
   "id": "6b71af12-3e52-413d-9ac3-8755a94386bc",
   "metadata": {},
   "outputs": [
    {
     "data": {
      "text/plain": [
       "200"
      ]
     },
     "execution_count": 24,
     "metadata": {},
     "output_type": "execute_result"
    }
   ],
   "source": [
    "last_dict[\"k4\"][\"b\"] # tek satırda k4 key içindeki dictionaryden b keyindeki 200 değerini aldık."
   ]
  },
  {
   "cell_type": "code",
   "execution_count": 25,
   "id": "3ce482ab-268a-4be1-84b3-2ef1c2de53e1",
   "metadata": {},
   "outputs": [
    {
     "data": {
      "text/plain": [
       "3"
      ]
     },
     "execution_count": 25,
     "metadata": {},
     "output_type": "execute_result"
    }
   ],
   "source": [
    "last_dict[\"k2\"][2] #tek satırda k2 key'i içinde ikinci elemanı aldık."
   ]
  },
  {
   "cell_type": "code",
   "execution_count": null,
   "id": "b39ec630-d0e9-4775-b480-4492456fb3e5",
   "metadata": {},
   "outputs": [],
   "source": []
  }
 ],
 "metadata": {
  "kernelspec": {
   "display_name": "Python 3 (ipykernel)",
   "language": "python",
   "name": "python3"
  },
  "language_info": {
   "codemirror_mode": {
    "name": "ipython",
    "version": 3
   },
   "file_extension": ".py",
   "mimetype": "text/x-python",
   "name": "python",
   "nbconvert_exporter": "python",
   "pygments_lexer": "ipython3",
   "version": "3.11.9"
  }
 },
 "nbformat": 4,
 "nbformat_minor": 5
}
