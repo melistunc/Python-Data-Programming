{
 "cells": [
  {
   "cell_type": "markdown",
   "id": "614c12c1-23a1-4380-aec9-715b0f833cc3",
   "metadata": {},
   "source": [
    "set, içerisinde birden fazla elemanı barındırır. uniqe (her elemandan bir tane) elemnts, unordered (sırasız elemanlar) elemnets. { } kullanılır."
   ]
  },
  {
   "cell_type": "code",
   "execution_count": 1,
   "id": "6b5de6de-e0ee-41cf-9227-ec52c33015a4",
   "metadata": {},
   "outputs": [],
   "source": [
    "myList= [10,20,30,10,20,10,40,20,50] #listedir."
   ]
  },
  {
   "cell_type": "code",
   "execution_count": 2,
   "id": "f47b533f-88eb-4e8f-aedf-be26b85ac6b5",
   "metadata": {},
   "outputs": [
    {
     "data": {
      "text/plain": [
       "9"
      ]
     },
     "execution_count": 2,
     "metadata": {},
     "output_type": "execute_result"
    }
   ],
   "source": [
    "len(myList) #9 tane eleman var."
   ]
  },
  {
   "cell_type": "code",
   "execution_count": 3,
   "id": "f7f79cbf-d27e-4df8-bd56-589cb1530212",
   "metadata": {},
   "outputs": [
    {
     "data": {
      "text/plain": [
       "[10, 20, 30, 10, 20, 10, 40, 20, 50]"
      ]
     },
     "execution_count": 3,
     "metadata": {},
     "output_type": "execute_result"
    }
   ],
   "source": [
    "myList"
   ]
  },
  {
   "cell_type": "code",
   "execution_count": 5,
   "id": "e791ebf5-4038-4b5e-b5a1-00392aaf1ff3",
   "metadata": {},
   "outputs": [],
   "source": [
    "mySet = set(myList) #listeyi set'e çevirdik."
   ]
  },
  {
   "cell_type": "code",
   "execution_count": 6,
   "id": "bb076403-c37c-40ec-9ac0-820df9ab00c4",
   "metadata": {},
   "outputs": [
    {
     "data": {
      "text/plain": [
       "{10, 20, 30, 40, 50}"
      ]
     },
     "execution_count": 6,
     "metadata": {},
     "output_type": "execute_result"
    }
   ],
   "source": [
    "mySet #ayni elemanlar çıkarıldı. Her elemandan bir tane olacak."
   ]
  },
  {
   "cell_type": "code",
   "execution_count": 7,
   "id": "f5d745f8-aa57-4b97-ad0d-2746d12094de",
   "metadata": {},
   "outputs": [],
   "source": [
    "mySet = {10,20,30,10,20,10,40,20,50}"
   ]
  },
  {
   "cell_type": "code",
   "execution_count": 8,
   "id": "ce69d0f4-6517-45d1-bc02-065255d17e47",
   "metadata": {},
   "outputs": [
    {
     "data": {
      "text/plain": [
       "{10, 20, 30, 40, 50}"
      ]
     },
     "execution_count": 8,
     "metadata": {},
     "output_type": "execute_result"
    }
   ],
   "source": [
    "mySet #tekrarlanan elemanlar çıkarıldı."
   ]
  },
  {
   "cell_type": "code",
   "execution_count": 9,
   "id": "2b4d3862-96b0-4772-8161-8ea3788086d1",
   "metadata": {},
   "outputs": [],
   "source": [
    "mySet.add(10)"
   ]
  },
  {
   "cell_type": "code",
   "execution_count": 10,
   "id": "4f68c8f0-0b1a-4bd8-b21f-812707579e4e",
   "metadata": {},
   "outputs": [
    {
     "data": {
      "text/plain": [
       "{10, 20, 30, 40, 50}"
      ]
     },
     "execution_count": 10,
     "metadata": {},
     "output_type": "execute_result"
    }
   ],
   "source": [
    "mySet # 10 zaten olduğu için eklenmedi."
   ]
  },
  {
   "cell_type": "code",
   "execution_count": 11,
   "id": "4156ad99-31fb-460a-800a-5d525914fd57",
   "metadata": {},
   "outputs": [],
   "source": [
    "mySet.add(50)"
   ]
  },
  {
   "cell_type": "code",
   "execution_count": 12,
   "id": "5de60df4-b99f-48a2-9261-c2e4885f7151",
   "metadata": {},
   "outputs": [
    {
     "data": {
      "text/plain": [
       "{10, 20, 30, 40, 50}"
      ]
     },
     "execution_count": 12,
     "metadata": {},
     "output_type": "execute_result"
    }
   ],
   "source": [
    "mySet # 50 daha önce olmadığı için eklendi."
   ]
  },
  {
   "cell_type": "code",
   "execution_count": 13,
   "id": "82dc91bf-ac6d-4329-a668-720d8407a2af",
   "metadata": {},
   "outputs": [],
   "source": [
    "# mySet[0] hata verir burada index mantığı yoktur. İlk elemanı almak diye bir şey yoktur."
   ]
  },
  {
   "cell_type": "code",
   "execution_count": 14,
   "id": "fec3da48-0aec-411a-a3ca-b83319e341af",
   "metadata": {},
   "outputs": [],
   "source": [
    "mySet2 = {30,40,50,60,70}"
   ]
  },
  {
   "cell_type": "code",
   "execution_count": 15,
   "id": "9c3517dc-6bbe-435a-afee-985c23f1f8a4",
   "metadata": {},
   "outputs": [
    {
     "data": {
      "text/plain": [
       "{30, 40, 50, 60, 70}"
      ]
     },
     "execution_count": 15,
     "metadata": {},
     "output_type": "execute_result"
    }
   ],
   "source": [
    "mySet2"
   ]
  },
  {
   "cell_type": "code",
   "execution_count": 16,
   "id": "4d2bed82-e863-4026-a1e3-69670d6f64de",
   "metadata": {},
   "outputs": [
    {
     "data": {
      "text/plain": [
       "{10, 20, 30, 40, 50, 60, 70}"
      ]
     },
     "execution_count": 16,
     "metadata": {},
     "output_type": "execute_result"
    }
   ],
   "source": [
    "mySet.union(mySet2) # union metodu iki set'i birleştirir. İki set arasındaki ortak elemanlar çıkarıldı."
   ]
  },
  {
   "cell_type": "code",
   "execution_count": 17,
   "id": "7b9f15df-ca5d-4e7a-ad2d-014f5e99bccc",
   "metadata": {},
   "outputs": [
    {
     "data": {
      "text/plain": [
       "{30, 40, 50}"
      ]
     },
     "execution_count": 17,
     "metadata": {},
     "output_type": "execute_result"
    }
   ],
   "source": [
    "mySet.intersection(mySet2) #intersection iki set arasıındaki kesişimleri verir. Ortak olan elemanlar."
   ]
  },
  {
   "cell_type": "code",
   "execution_count": 18,
   "id": "645898a5-0bdc-4fb5-84d4-9014a8a9b984",
   "metadata": {},
   "outputs": [],
   "source": [
    "countryList = [\"de\",\"fr\",\"tr\",\"fr\",\"tr\",\"usa\",\"fr\",\"de\",\"tr\"]"
   ]
  },
  {
   "cell_type": "code",
   "execution_count": 19,
   "id": "539bc622-8d9d-4357-a49a-4f37e7a76bf2",
   "metadata": {},
   "outputs": [
    {
     "data": {
      "text/plain": [
       "['de', 'fr', 'tr', 'fr', 'tr', 'usa', 'fr', 'de', 'tr']"
      ]
     },
     "execution_count": 19,
     "metadata": {},
     "output_type": "execute_result"
    }
   ],
   "source": [
    "countryList"
   ]
  },
  {
   "cell_type": "markdown",
   "id": "59ced7bc-a05f-4ccd-898b-3d75b982673c",
   "metadata": {},
   "source": [
    "kaç ülkeye satış yaptığını bulmak istiyorsak:"
   ]
  },
  {
   "cell_type": "code",
   "execution_count": 20,
   "id": "fd4bdb25-4ad8-4566-ac42-350192167f00",
   "metadata": {},
   "outputs": [
    {
     "data": {
      "text/plain": [
       "{'de', 'fr', 'tr', 'usa'}"
      ]
     },
     "execution_count": 20,
     "metadata": {},
     "output_type": "execute_result"
    }
   ],
   "source": [
    "set (countryList) # 4 tane ülkeye satış yapmışız."
   ]
  },
  {
   "cell_type": "code",
   "execution_count": 23,
   "id": "9e14d1d0-818f-4a5b-b5d3-5f3af380fd05",
   "metadata": {},
   "outputs": [
    {
     "data": {
      "text/plain": [
       "4"
      ]
     },
     "execution_count": 23,
     "metadata": {},
     "output_type": "execute_result"
    }
   ],
   "source": [
    "len(set(countryList)) # 4 tane ülkeye satış yapmışız."
   ]
  },
  {
   "cell_type": "code",
   "execution_count": 24,
   "id": "1b26df57-6681-4f04-a148-27bb0ef1a372",
   "metadata": {},
   "outputs": [],
   "source": [
    "emptyList = [] #boş liste"
   ]
  },
  {
   "cell_type": "code",
   "execution_count": 25,
   "id": "c604b34e-ba2e-4106-802f-2a409fd74ae2",
   "metadata": {},
   "outputs": [],
   "source": [
    "emptyList.append(10)\n",
    "emptyList.append(20)\n",
    "emptyList.append(30) #boş listeye eleman eklemek."
   ]
  },
  {
   "cell_type": "code",
   "execution_count": 26,
   "id": "91e890ca-7528-4f99-b37f-36dfe9e767a7",
   "metadata": {},
   "outputs": [
    {
     "data": {
      "text/plain": [
       "[10, 20, 30]"
      ]
     },
     "execution_count": 26,
     "metadata": {},
     "output_type": "execute_result"
    }
   ],
   "source": [
    "emptyList"
   ]
  },
  {
   "cell_type": "code",
   "execution_count": 27,
   "id": "8184bd8d-a458-4ab5-a51d-b43c98560c3c",
   "metadata": {},
   "outputs": [],
   "source": [
    "emptySet = {}"
   ]
  },
  {
   "cell_type": "code",
   "execution_count": 28,
   "id": "d3f4d772-92c0-476c-b676-0951b4f5fdfc",
   "metadata": {},
   "outputs": [
    {
     "data": {
      "text/plain": [
       "dict"
      ]
     },
     "execution_count": 28,
     "metadata": {},
     "output_type": "execute_result"
    }
   ],
   "source": [
    "type(emptySet) # dict ve set'in yazılışı aynıdır. Type olarak bakarsak type'ı dict olur."
   ]
  },
  {
   "cell_type": "code",
   "execution_count": 29,
   "id": "e61f4aa4-fafd-40f9-a79e-f4c88a8b1d32",
   "metadata": {},
   "outputs": [],
   "source": [
    "emptySet = set() #set için boş set oluşturmak."
   ]
  },
  {
   "cell_type": "code",
   "execution_count": 30,
   "id": "624cd7f7-87c9-4d20-9f11-4d8148a748d2",
   "metadata": {},
   "outputs": [
    {
     "data": {
      "text/plain": [
       "set"
      ]
     },
     "execution_count": 30,
     "metadata": {},
     "output_type": "execute_result"
    }
   ],
   "source": [
    "type(emptySet) #türü set'tir."
   ]
  },
  {
   "cell_type": "code",
   "execution_count": 31,
   "id": "2d2252b1-3bb1-4451-b369-9e74be69e090",
   "metadata": {},
   "outputs": [
    {
     "data": {
      "text/plain": [
       "0"
      ]
     },
     "execution_count": 31,
     "metadata": {},
     "output_type": "execute_result"
    }
   ],
   "source": [
    "len(emptySet)"
   ]
  },
  {
   "cell_type": "code",
   "execution_count": 35,
   "id": "9f31f984-7563-44b0-8354-e3c0c226a902",
   "metadata": {},
   "outputs": [],
   "source": [
    "emptySet.add(10)\n",
    "emptySet.add(20)\n",
    "emptySet.add(30)\n",
    "emptySet.add(10)\n",
    "emptySet.add(10)\n",
    "emptySet.add(30)\n",
    "# boş sete eleman ekledik."
   ]
  },
  {
   "cell_type": "code",
   "execution_count": 36,
   "id": "78ca99d2-3526-4411-84f5-7961c582666d",
   "metadata": {},
   "outputs": [
    {
     "data": {
      "text/plain": [
       "{10, 20, 30}"
      ]
     },
     "execution_count": 36,
     "metadata": {},
     "output_type": "execute_result"
    }
   ],
   "source": [
    "emptySet # birden fazla defa yazılan elemanlar çıkarıldı."
   ]
  },
  {
   "cell_type": "code",
   "execution_count": 37,
   "id": "f24a6ef6-d37b-4737-a08d-cb89209a5048",
   "metadata": {},
   "outputs": [],
   "source": [
    "emptyList = list() # listede de aynı şekilde tanımlama yapabiliriz."
   ]
  },
  {
   "cell_type": "code",
   "execution_count": 38,
   "id": "f100a4f0-7ddd-4f9f-912e-6a8b4e069cfb",
   "metadata": {},
   "outputs": [],
   "source": [
    "emptyList.append(10)\n",
    "emptyList.append(20)\n",
    "emptyList.append(30)"
   ]
  },
  {
   "cell_type": "code",
   "execution_count": 39,
   "id": "76f65c16-7d9c-4ff8-a042-097914af8c0e",
   "metadata": {},
   "outputs": [
    {
     "data": {
      "text/plain": [
       "[10, 20, 30]"
      ]
     },
     "execution_count": 39,
     "metadata": {},
     "output_type": "execute_result"
    }
   ],
   "source": [
    "emptyList"
   ]
  },
  {
   "cell_type": "code",
   "execution_count": 40,
   "id": "86d776d0-0495-4fd7-a0e2-26b7ccdebbf1",
   "metadata": {},
   "outputs": [],
   "source": [
    "emptyDict = dict() # dicionaryde de aynı şekilde tanımlama yapılabilir."
   ]
  },
  {
   "cell_type": "code",
   "execution_count": 41,
   "id": "cc5e6594-db68-4d71-b717-c1d20b1bcd96",
   "metadata": {},
   "outputs": [],
   "source": [
    "emptyDict[\"a\"] = 10\n",
    "emptyDict[\"v\"] = 20\n",
    "#key value değerleri atarız."
   ]
  },
  {
   "cell_type": "code",
   "execution_count": 42,
   "id": "23894c63-ce56-40bb-bd4b-d10c9de72045",
   "metadata": {},
   "outputs": [
    {
     "data": {
      "text/plain": [
       "{'a': 10, 'v': 20}"
      ]
     },
     "execution_count": 42,
     "metadata": {},
     "output_type": "execute_result"
    }
   ],
   "source": [
    "emptyDict"
   ]
  },
  {
   "cell_type": "code",
   "execution_count": null,
   "id": "6f5422a7-fcbd-4e9d-9dfd-976b4b6649ee",
   "metadata": {},
   "outputs": [],
   "source": []
  }
 ],
 "metadata": {
  "kernelspec": {
   "display_name": "Python 3 (ipykernel)",
   "language": "python",
   "name": "python3"
  },
  "language_info": {
   "codemirror_mode": {
    "name": "ipython",
    "version": 3
   },
   "file_extension": ".py",
   "mimetype": "text/x-python",
   "name": "python",
   "nbconvert_exporter": "python",
   "pygments_lexer": "ipython3",
   "version": "3.11.9"
  }
 },
 "nbformat": 4,
 "nbformat_minor": 5
}
