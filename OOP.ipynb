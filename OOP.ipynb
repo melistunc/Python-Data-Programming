{
 "cells": [
  {
   "cell_type": "markdown",
   "id": "70ddc324-9325-4549-9f1d-b0ff38dc8013",
   "metadata": {},
   "source": [
    "inheritance, kalıtım demektir. Bir sınıfın başka bir sınıftan kalıtım alıp o sınıfın özelliklerini kullanabilmesi için kullandığımız bir terimdir."
   ]
  },
  {
   "cell_type": "code",
   "execution_count": 2,
   "id": "cba89c32-5d3e-4bcc-9b6b-b740b8abdc3f",
   "metadata": {},
   "outputs": [],
   "source": [
    "class Musician(): #class\n",
    "\n",
    "    def __init__(self,name): #initializing\n",
    "        self.name = name #property\n",
    "        print(\"musician class\")\n",
    "\n",
    "    def test1(self): #method\n",
    "        print(\"test1\")\n",
    "\n",
    "    def test2(self): #method\n",
    "        print(\"test2\")\n"
   ]
  },
  {
   "cell_type": "code",
   "execution_count": 3,
   "id": "91ef03ac-ae0a-43e9-8271-d3cc73d23fa2",
   "metadata": {},
   "outputs": [
    {
     "name": "stdout",
     "output_type": "stream",
     "text": [
      "musician class\n"
     ]
    }
   ],
   "source": [
    "iris = Musician(\"Iris\")"
   ]
  },
  {
   "cell_type": "code",
   "execution_count": 4,
   "id": "ae35feb3-9605-427e-a8a0-4a782a078e4c",
   "metadata": {},
   "outputs": [
    {
     "data": {
      "text/plain": [
       "'Iris'"
      ]
     },
     "execution_count": 4,
     "metadata": {},
     "output_type": "execute_result"
    }
   ],
   "source": [
    "iris.name"
   ]
  },
  {
   "cell_type": "code",
   "execution_count": 5,
   "id": "5ebe1e0a-a45e-4451-a271-b01711ffcba2",
   "metadata": {},
   "outputs": [
    {
     "name": "stdout",
     "output_type": "stream",
     "text": [
      "test1\n"
     ]
    }
   ],
   "source": [
    "iris.test1()"
   ]
  },
  {
   "cell_type": "code",
   "execution_count": 6,
   "id": "38dee746-27e7-40b5-867d-b59c07d17552",
   "metadata": {},
   "outputs": [
    {
     "name": "stdout",
     "output_type": "stream",
     "text": [
      "test2\n"
     ]
    }
   ],
   "source": [
    "iris.test2()"
   ]
  },
  {
   "cell_type": "code",
   "execution_count": 27,
   "id": "77ab71f4-7a8c-4874-8dd8-d1ccae8245b3",
   "metadata": {},
   "outputs": [],
   "source": [
    "class MusicianPlus(Musician): #bu class Musician class'ından kalıtım alsın, Musician class'ındaki tüm özellikleri kullanabilir hale gelsin istiyoruz.\n",
    "   \n",
    "    def __init__(self,name): #kendi init'i içerisinde Musician class'ının init'ini çalıştırıyor.\n",
    "        Musician.__init__(self,name)  # Musician init'inin çalışması. name, input için.\n",
    "        print(\"Musician Plus\")\n",
    "        \n",
    "    def test3(self):\n",
    "        print(\"test3\")        \n",
    "\n",
    "    #override(üstüne yazma), Kalıtım aldığımız sınıfın fonksiyonunda değişiklik yapabiliriz.\n",
    "    def test1(self):\n",
    "        print(\"test1 overrided\")\n",
    "# Bunun için kalıtım almak istediğim sınıfın adını bu class'ın argüman yerine yazıyorum.    "
   ]
  },
  {
   "cell_type": "code",
   "execution_count": 28,
   "id": "c708291a-79de-4cdc-aa48-3b3283701e6b",
   "metadata": {},
   "outputs": [
    {
     "name": "stdout",
     "output_type": "stream",
     "text": [
      "musician class\n",
      "Musician Plus\n"
     ]
    }
   ],
   "source": [
    "billie = MusicianPlus(\"billie\") # hem Musician class çalıştı (inheritance sayesinde) hem de MusicianPlus class çalıştı."
   ]
  },
  {
   "cell_type": "code",
   "execution_count": 29,
   "id": "4ad5bba1-408a-4fe6-8156-1af5b3f3d932",
   "metadata": {},
   "outputs": [
    {
     "data": {
      "text/plain": [
       "'billie'"
      ]
     },
     "execution_count": 29,
     "metadata": {},
     "output_type": "execute_result"
    }
   ],
   "source": [
    "billie.name # Musician'da tanımladığım değişkenleri ve fonksiyonları burada da kullanabilirim."
   ]
  },
  {
   "cell_type": "code",
   "execution_count": 30,
   "id": "253fb283-d981-4128-ba88-0b521f4b4d81",
   "metadata": {},
   "outputs": [
    {
     "name": "stdout",
     "output_type": "stream",
     "text": [
      "test1 overrided\n"
     ]
    }
   ],
   "source": [
    "billie.test1() #override yapılmış hali."
   ]
  },
  {
   "cell_type": "code",
   "execution_count": 22,
   "id": "f28c2a92-5e8c-46ce-b651-bb9356d93f36",
   "metadata": {},
   "outputs": [
    {
     "name": "stdout",
     "output_type": "stream",
     "text": [
      "test2\n"
     ]
    }
   ],
   "source": [
    "billie.test2()"
   ]
  },
  {
   "cell_type": "code",
   "execution_count": 23,
   "id": "00226737-88e1-47c9-a2d3-218783d11f51",
   "metadata": {},
   "outputs": [],
   "source": [
    "billie.name = \"billie eilish\" # name'i değiştirebilirim."
   ]
  },
  {
   "cell_type": "code",
   "execution_count": 24,
   "id": "83ba31a6-1dc4-4f40-97fa-2f6519fd024c",
   "metadata": {},
   "outputs": [
    {
     "data": {
      "text/plain": [
       "'billie eilish'"
      ]
     },
     "execution_count": 24,
     "metadata": {},
     "output_type": "execute_result"
    }
   ],
   "source": [
    "billie.name"
   ]
  },
  {
   "cell_type": "code",
   "execution_count": 25,
   "id": "e24e124c-6654-4cb2-8ead-efcb1673dcc5",
   "metadata": {},
   "outputs": [
    {
     "data": {
      "text/plain": [
       "__main__.MusicianPlus"
      ]
     },
     "execution_count": 25,
     "metadata": {},
     "output_type": "execute_result"
    }
   ],
   "source": [
    "type(billie) #MusicianPlus class'ında."
   ]
  },
  {
   "cell_type": "code",
   "execution_count": 26,
   "id": "e4100241-7664-4ddf-baa3-869fc3dc0b4c",
   "metadata": {},
   "outputs": [
    {
     "name": "stdout",
     "output_type": "stream",
     "text": [
      "test3\n"
     ]
    }
   ],
   "source": [
    "billie.test3()"
   ]
  },
  {
   "cell_type": "code",
   "execution_count": 31,
   "id": "d9346134-1dc2-41af-beb1-346d17feb671",
   "metadata": {},
   "outputs": [
    {
     "name": "stdout",
     "output_type": "stream",
     "text": [
      "test1\n"
     ]
    }
   ],
   "source": [
    "iris.test1() # Musician içinde tanımladığımız objede değişiklik olmaz sadece MusicianPlus üzerindeki objelerde değişiklik olur."
   ]
  },
  {
   "cell_type": "markdown",
   "id": "02c55c82-11cb-4aa9-afa3-493654d2795e",
   "metadata": {},
   "source": [
    "polymorphism, ayni isimle farklı işlevi yapmaktır. "
   ]
  },
  {
   "cell_type": "code",
   "execution_count": 37,
   "id": "e3120e67-c0f6-4c0c-b7ac-9ca5c1397f13",
   "metadata": {},
   "outputs": [],
   "source": [
    "class Banana():\n",
    "    \n",
    "    def __init__(self,name):\n",
    "        self.name = name \n",
    "        \n",
    "    def info(self): #bilgi fonksiyonu.\n",
    "        return f\"100 calories {self.name}\" # muz 100 kaloridir der.\n",
    "\n",
    "class Apple():\n",
    "    \n",
    "    def __init__(self,name):\n",
    "        self.name = name \n",
    "        \n",
    "    def info(self): #bilgi fonksiyonu.\n",
    "        return f\"150 calories {self.name}\" # elma 100 kaloridir der.\n",
    "        \n",
    "#info fonksiyonu her iki classta da aynı isimli ve aynı işlevi görüyorlar."
   ]
  },
  {
   "cell_type": "code",
   "execution_count": 38,
   "id": "0399f0d4-f24c-43f2-a675-5e1a99aa1ece",
   "metadata": {},
   "outputs": [],
   "source": [
    "banana = Banana(\"banana\")"
   ]
  },
  {
   "cell_type": "code",
   "execution_count": 39,
   "id": "f24eee98-dc68-4242-89a7-16e78cea9bf0",
   "metadata": {},
   "outputs": [],
   "source": [
    "apple = Apple(\"apple\")"
   ]
  },
  {
   "cell_type": "code",
   "execution_count": 40,
   "id": "62381366-00d4-4958-a5c3-b61c5ca3ac00",
   "metadata": {},
   "outputs": [
    {
     "data": {
      "text/plain": [
       "'100 calories banana'"
      ]
     },
     "execution_count": 40,
     "metadata": {},
     "output_type": "execute_result"
    }
   ],
   "source": [
    "banana.info()"
   ]
  },
  {
   "cell_type": "code",
   "execution_count": 41,
   "id": "cbac3378-29d9-4c86-a2d0-fedaabe410e6",
   "metadata": {},
   "outputs": [
    {
     "data": {
      "text/plain": [
       "'150 calories apple'"
      ]
     },
     "execution_count": 41,
     "metadata": {},
     "output_type": "execute_result"
    }
   ],
   "source": [
    "apple.info()"
   ]
  },
  {
   "cell_type": "code",
   "execution_count": 42,
   "id": "f117effe-dbeb-406c-b0fa-caf837f014c1",
   "metadata": {},
   "outputs": [],
   "source": [
    "fruitList = [banana,apple]"
   ]
  },
  {
   "cell_type": "code",
   "execution_count": 43,
   "id": "2b1c9be2-5cb7-4062-98c7-d1897a340b65",
   "metadata": {},
   "outputs": [
    {
     "name": "stdout",
     "output_type": "stream",
     "text": [
      "100 calories banana\n",
      "150 calories apple\n"
     ]
    }
   ],
   "source": [
    "for fruit in fruitList:\n",
    "    print(fruit.info()) # info iki classta farkl olarak tanımlanıp farklı seyler de yazdırsa da burada info ile aynı isimli iki fonksiyonu aynı anda çalıştırabiliyoruz."
   ]
  },
  {
   "cell_type": "markdown",
   "id": "286fce7e-b6b1-4539-845c-84fb2c856580",
   "metadata": {},
   "source": [
    "encapsulation, hapsetmek demektir. Oluşturduğumuz değişkenlerin nerden nasıl görüntülenebildiği, erişilebilirliğiyle ilgili bir konudur."
   ]
  },
  {
   "cell_type": "code",
   "execution_count": 68,
   "id": "46bcf52f-0117-4cef-bed0-2ad68e96810a",
   "metadata": {},
   "outputs": [],
   "source": [
    "class Phone():\n",
    "\n",
    "    def __init__(self,name,price):\n",
    "        self.name = name\n",
    "        self.__price = price #price önüne __ koyarsak bu price'ın sadece bu class içinden erişilebilir yaparız.Ve böylece sonradan içeriğini değiştiremeyiz.\n",
    "        \n",
    "    def info (self):\n",
    "        print(f\"{self.name} price is: {self.__price}\")\n",
    "\n",
    "    def changePrice(self,price): #fonksiyonla değiştirmek istersek\n",
    "        self.__price = price "
   ]
  },
  {
   "cell_type": "code",
   "execution_count": 69,
   "id": "085317f8-ad2c-4476-be64-e87b3dd736a2",
   "metadata": {},
   "outputs": [],
   "source": [
    "iphone = Phone(\"iphone 16\",600)"
   ]
  },
  {
   "cell_type": "code",
   "execution_count": 70,
   "id": "f69cbec1-acf6-479b-95f5-ffee9f73a9fc",
   "metadata": {},
   "outputs": [
    {
     "name": "stdout",
     "output_type": "stream",
     "text": [
      "iphone 16 price is: 600\n"
     ]
    }
   ],
   "source": [
    "iphone.info()"
   ]
  },
  {
   "cell_type": "code",
   "execution_count": 71,
   "id": "28dd8229-95f5-40ee-8dab-c5d9b1949afb",
   "metadata": {},
   "outputs": [],
   "source": [
    "iphone.price = 800 #name veya price'ı değiştirebiliriz."
   ]
  },
  {
   "cell_type": "code",
   "execution_count": 72,
   "id": "5b79d361-8387-4b91-8ecb-93a0d7f1ae6c",
   "metadata": {},
   "outputs": [
    {
     "name": "stdout",
     "output_type": "stream",
     "text": [
      "iphone 16 price is: 600\n"
     ]
    }
   ],
   "source": [
    "iphone.info() #fonksiyon çalıştırılması. Fakat price'ı sadece class içinden değiştirilebilir yaptığımız için sonradan yaptığımız değişiklikler değeri değiştiremiyor."
   ]
  },
  {
   "cell_type": "code",
   "execution_count": 73,
   "id": "4465b47b-1d1c-4504-bc34-213f66cf7503",
   "metadata": {},
   "outputs": [],
   "source": [
    "iphone.__price = 900 #__price'ı da değiştiremeyiz. Sdece class içinden değiştirebiliriz."
   ]
  },
  {
   "cell_type": "code",
   "execution_count": 74,
   "id": "1b23d54c-a2fb-4381-981b-b7664539f1ed",
   "metadata": {},
   "outputs": [
    {
     "name": "stdout",
     "output_type": "stream",
     "text": [
      "iphone 16 price is: 600\n"
     ]
    }
   ],
   "source": [
    "iphone.info() "
   ]
  },
  {
   "cell_type": "code",
   "execution_count": 75,
   "id": "645a88a9-f1c8-401f-8a37-82f37825da44",
   "metadata": {},
   "outputs": [],
   "source": [
    "iphone.changePrice(890) # bu şekilde fonksiyon ile değiştirebiliriz."
   ]
  },
  {
   "cell_type": "code",
   "execution_count": 76,
   "id": "e254c948-526b-43b1-ba54-938c0c20a3c3",
   "metadata": {},
   "outputs": [
    {
     "name": "stdout",
     "output_type": "stream",
     "text": [
      "iphone 16 price is: 890\n"
     ]
    }
   ],
   "source": [
    "iphone.info() #fonksiyon ile değiştirildi."
   ]
  },
  {
   "cell_type": "markdown",
   "id": "bf9f4bbd-06c2-45d8-b12b-7039cbf81a5a",
   "metadata": {},
   "source": [
    "asbtraction, soyutlama. Obje oluşturma gibi değil de bir plan yapmak gibidir. Soyut bir sınıf oluşturuyoruz sınıfı kullanamıyoruz ama onun yapısını kullanabiliyoruz. "
   ]
  },
  {
   "cell_type": "code",
   "execution_count": 77,
   "id": "481a27a3-49a7-49ac-bf9c-5875abc8963b",
   "metadata": {},
   "outputs": [],
   "source": [
    "from abc import ABC, abstractmethod #abc^den ABC import yapıyoruz. Soyut sınıf."
   ]
  },
  {
   "cell_type": "code",
   "execution_count": 78,
   "id": "971f00ee-04a2-4ac5-aab8-51e7483c2fb7",
   "metadata": {},
   "outputs": [],
   "source": [
    "class Car(ABC): #soyut bir sınıftır. Direkt kullanılamaz. Burası sadece başka bir class'ın kalıtımı olarak kullanılabilir.\n",
    "\n",
    "    @abstractmethod  #soyut bir sınıf, metottur. Soyut bir kavramdan kalıtım alabilirsin demek gibidir.\n",
    "    def maxSpeed(self):\n",
    "        pass #içine bir şey yazmadık."
   ]
  },
  {
   "cell_type": "code",
   "execution_count": 79,
   "id": "7b66d79e-6999-4e76-95f0-9bc2bee7abc3",
   "metadata": {},
   "outputs": [],
   "source": [
    "class Tesla(Car): #soyut class'ı kalıtım gib buraya koyduk. Burası soyut class değildir.\n",
    "\n",
    "    def maxSpeed(self): # soyut sınıftaki fonksiyonu tekrar yazıyoruz.\n",
    "        print(\"200km\") #burayı boş bırakamayız. "
   ]
  },
  {
   "cell_type": "code",
   "execution_count": 80,
   "id": "6264cea2-b686-485e-8bfb-51e87f0a9f3a",
   "metadata": {},
   "outputs": [],
   "source": [
    "tesla = Tesla() "
   ]
  },
  {
   "cell_type": "code",
   "execution_count": 81,
   "id": "d1963637-e6c9-4add-b32d-cdb05cf969db",
   "metadata": {},
   "outputs": [
    {
     "name": "stdout",
     "output_type": "stream",
     "text": [
      "200km\n"
     ]
    }
   ],
   "source": [
    "tesla.maxSpeed()"
   ]
  },
  {
   "cell_type": "code",
   "execution_count": 84,
   "id": "ff4bf389-7c66-40b9-b7c4-a94328c08439",
   "metadata": {},
   "outputs": [],
   "source": [
    "class Mercedes(Car): # soyut sınıfı kalıtım olarak aldık.\n",
    "    \n",
    "    def maxSpeed(self): #soyut sınıftaki fonksiyon.\n",
    "        print(\"250km\") #girilen değer burası girilmelidir."
   ]
  },
  {
   "cell_type": "code",
   "execution_count": 85,
   "id": "437cc209-5eb2-478c-b3f0-58abfff252d0",
   "metadata": {},
   "outputs": [],
   "source": [
    "mercedes = Mercedes()"
   ]
  },
  {
   "cell_type": "code",
   "execution_count": 86,
   "id": "50edad5c-42cb-4cf0-8c44-bf9e973f4406",
   "metadata": {},
   "outputs": [
    {
     "name": "stdout",
     "output_type": "stream",
     "text": [
      "250km\n"
     ]
    }
   ],
   "source": [
    "mercedes.maxSpeed()"
   ]
  },
  {
   "cell_type": "markdown",
   "id": "d8aa5d02-8e06-4718-bd2b-d7b7224c845f",
   "metadata": {},
   "source": [
    "special methods"
   ]
  },
  {
   "cell_type": "code",
   "execution_count": 99,
   "id": "dd30254a-b08f-496f-951f-69b9b3e95a2b",
   "metadata": {},
   "outputs": [],
   "source": [
    "class Fruit():\n",
    "\n",
    "    def __init__(self,name,calories):\n",
    "        self.name = name # input değer girilmesi için bu kısım yazılır.\n",
    "        self.calories = calories\n",
    "        \n",
    "    def __str__(self): #stringini değiştirmek için kullandığımız bir fonksiyondur.\n",
    "        return f\"{self.name}: {self.calories} calories\"\n",
    "\n",
    "    def __len__(self): #len ile uzunluğunu buluyoruz.\n",
    "        return self.calories"
   ]
  },
  {
   "cell_type": "code",
   "execution_count": 100,
   "id": "a6d0665e-18c2-4cf3-9544-44b685b73499",
   "metadata": {},
   "outputs": [],
   "source": [
    "myFruit = Fruit(\"berry\",200) #input değerler."
   ]
  },
  {
   "cell_type": "code",
   "execution_count": 101,
   "id": "69f96bf2-efaa-474c-9f21-f2eeeac1b831",
   "metadata": {},
   "outputs": [
    {
     "data": {
      "text/plain": [
       "200"
      ]
     },
     "execution_count": 101,
     "metadata": {},
     "output_type": "execute_result"
    }
   ],
   "source": [
    "myFruit.calories"
   ]
  },
  {
   "cell_type": "code",
   "execution_count": 102,
   "id": "07c81eb9-76ff-4492-bf71-569ec656ebee",
   "metadata": {},
   "outputs": [
    {
     "data": {
      "text/plain": [
       "'berry'"
      ]
     },
     "execution_count": 102,
     "metadata": {},
     "output_type": "execute_result"
    }
   ],
   "source": [
    "myFruit.name"
   ]
  },
  {
   "cell_type": "code",
   "execution_count": 97,
   "id": "45bc929b-4c38-4078-a42f-f12bcfe9dece",
   "metadata": {},
   "outputs": [
    {
     "name": "stdout",
     "output_type": "stream",
     "text": [
      "berry: 200 calories\n"
     ]
    }
   ],
   "source": [
    "print(myFruit) #__str__ sayesinde bilgi yazılır."
   ]
  },
  {
   "cell_type": "code",
   "execution_count": 98,
   "id": "e66a2dc5-4221-4c14-8ad4-dff42ff702c0",
   "metadata": {},
   "outputs": [
    {
     "ename": "TypeError",
     "evalue": "object of type 'Fruit' has no len()",
     "output_type": "error",
     "traceback": [
      "\u001b[1;31m---------------------------------------------------------------------------\u001b[0m",
      "\u001b[1;31mTypeError\u001b[0m                                 Traceback (most recent call last)",
      "Cell \u001b[1;32mIn[98], line 1\u001b[0m\n\u001b[1;32m----> 1\u001b[0m \u001b[38;5;28mlen\u001b[39m(myFruit)\n",
      "\u001b[1;31mTypeError\u001b[0m: object of type 'Fruit' has no len()"
     ]
    }
   ],
   "source": [
    "len(myFruit) #hata vermesi, kaç kaloriyse onu vermesini istiyoruz."
   ]
  },
  {
   "cell_type": "code",
   "execution_count": 103,
   "id": "90718188-8455-443e-9ffc-5ccd2fc2a81e",
   "metadata": {},
   "outputs": [
    {
     "data": {
      "text/plain": [
       "200"
      ]
     },
     "execution_count": 103,
     "metadata": {},
     "output_type": "execute_result"
    }
   ],
   "source": [
    "len(myFruit) # __len__ fonksiyonu sayesinde bu len kısmını döndürüyor. myFruit uzunuluğu bulunuyor."
   ]
  },
  {
   "cell_type": "code",
   "execution_count": 107,
   "id": "b82dd977-99b7-4ff5-9978-40b8faff2273",
   "metadata": {},
   "outputs": [],
   "source": [
    "class Train():\n",
    "\n",
    "    def __init__(self,name): #trenlerden sadece ismini istiyoruz.\n",
    "        self.name =name\n",
    "\n",
    "    def __getitem__(self,key): # key'ler ile bir kontrol yyapıyoruz.\n",
    "        if key == \"a\":\n",
    "           return self.name\n",
    "        else:\n",
    "            return \"Not found\" "
   ]
  },
  {
   "cell_type": "code",
   "execution_count": 108,
   "id": "bae36373-939d-4ca4-8388-c0a8fc626b03",
   "metadata": {},
   "outputs": [],
   "source": [
    "myTrain = Train(\"myTrain\")"
   ]
  },
  {
   "cell_type": "code",
   "execution_count": 109,
   "id": "e947af9c-476c-44df-9c0f-17f0253e68f6",
   "metadata": {},
   "outputs": [
    {
     "data": {
      "text/plain": [
       "'myTrain'"
      ]
     },
     "execution_count": 109,
     "metadata": {},
     "output_type": "execute_result"
    }
   ],
   "source": [
    "myTrain[\"a\"] # a anahtarını verince myTrain döndü."
   ]
  },
  {
   "cell_type": "code",
   "execution_count": 110,
   "id": "38660da8-3d89-412f-8ba7-215eba7396c6",
   "metadata": {},
   "outputs": [
    {
     "data": {
      "text/plain": [
       "'Not found'"
      ]
     },
     "execution_count": 110,
     "metadata": {},
     "output_type": "execute_result"
    }
   ],
   "source": [
    "myTrain[\"b\"] #b anahtarını verince not found döndü."
   ]
  },
  {
   "cell_type": "code",
   "execution_count": 111,
   "id": "2c493fef-f5c2-49e3-8b31-986ecccbac24",
   "metadata": {},
   "outputs": [],
   "source": [
    "class Ogrenci():\n",
    "    \n",
    "    def __init__(self,isim,sinavNotu):\n",
    "        self.isim = isim\n",
    "        self.__sinavNotu = sinavNotu\n",
    "    \n",
    "    def notuGoster(self):\n",
    "        print(f\"{self.isim} sınav notu: {self.__sinavNotu}\")"
   ]
  },
  {
   "cell_type": "code",
   "execution_count": 112,
   "id": "c2a8152f-a5ac-43ac-b597-eae69b8af722",
   "metadata": {},
   "outputs": [],
   "source": [
    "ogrenci = Ogrenci(\"Mehmet\",85)"
   ]
  },
  {
   "cell_type": "code",
   "execution_count": 113,
   "id": "818fb5db-f8f3-4bd7-9261-585a747174a0",
   "metadata": {},
   "outputs": [],
   "source": [
    "ogrenci.__sinavNotu = 75"
   ]
  },
  {
   "cell_type": "code",
   "execution_count": 114,
   "id": "1fe42482-0329-4a88-9599-906e2ee6f243",
   "metadata": {},
   "outputs": [
    {
     "name": "stdout",
     "output_type": "stream",
     "text": [
      "Mehmet sınav notu: 85\n"
     ]
    }
   ],
   "source": [
    "ogrenci.notuGoster()"
   ]
  },
  {
   "cell_type": "code",
   "execution_count": 115,
   "id": "ca340380-4907-4e5d-bce5-03bad8adb08c",
   "metadata": {},
   "outputs": [],
   "source": [
    "class Kedi():\n",
    "        \n",
    "    def __init__(self,isim,yas=5):\n",
    "        self.isim = isim\n",
    "        self.yas = yas\n",
    "        \n",
    "    def yasiCarp(self):\n",
    "        return self.yas * 3"
   ]
  },
  {
   "cell_type": "code",
   "execution_count": 116,
   "id": "73321728-3bbe-494a-a982-32257ce91437",
   "metadata": {},
   "outputs": [],
   "source": [
    "kedim = Kedi(\"Tonton\")"
   ]
  },
  {
   "cell_type": "code",
   "execution_count": 117,
   "id": "35dbbc99-a924-44c1-a621-c93970124a7b",
   "metadata": {},
   "outputs": [
    {
     "data": {
      "text/plain": [
       "15"
      ]
     },
     "execution_count": 117,
     "metadata": {},
     "output_type": "execute_result"
    }
   ],
   "source": [
    "kedim.yasiCarp()"
   ]
  },
  {
   "cell_type": "code",
   "execution_count": 118,
   "id": "2b8a2b38-1894-469d-af7a-c34200e69b31",
   "metadata": {},
   "outputs": [],
   "source": [
    "myVar = \"Atil Samancioglu\"\n",
    "\n",
    "def ornekFonksiyon():\n",
    "    myVar = \"Atil\"\n",
    "    \n",
    "    def digerFonksiyon():\n",
    "        print(myVar)\n",
    "    \n",
    "    digerFonksiyon()"
   ]
  },
  {
   "cell_type": "code",
   "execution_count": 119,
   "id": "01f85053-f250-4f0c-865e-25562b66140d",
   "metadata": {},
   "outputs": [
    {
     "name": "stdout",
     "output_type": "stream",
     "text": [
      "Atil\n"
     ]
    }
   ],
   "source": [
    "ornekFonksiyon()"
   ]
  },
  {
   "cell_type": "code",
   "execution_count": null,
   "id": "b6229c03-428b-4495-adfd-6df67e6bc1fc",
   "metadata": {},
   "outputs": [],
   "source": []
  }
 ],
 "metadata": {
  "kernelspec": {
   "display_name": "Python 3 (ipykernel)",
   "language": "python",
   "name": "python3"
  },
  "language_info": {
   "codemirror_mode": {
    "name": "ipython",
    "version": 3
   },
   "file_extension": ".py",
   "mimetype": "text/x-python",
   "name": "python",
   "nbconvert_exporter": "python",
   "pygments_lexer": "ipython3",
   "version": "3.11.9"
  }
 },
 "nbformat": 4,
 "nbformat_minor": 5
}
