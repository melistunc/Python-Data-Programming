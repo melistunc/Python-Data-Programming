{
 "cells": [
  {
   "cell_type": "code",
   "execution_count": 1,
   "id": "d8e9ff44-7855-4efb-b1c8-e69077d25825",
   "metadata": {},
   "outputs": [
    {
     "name": "stdin",
     "output_type": "stream",
     "text": [
      "enter age 23\n"
     ]
    }
   ],
   "source": [
    "age = input(\"enter age\") # dışarıdan kullanıcı yaşı girildi."
   ]
  },
  {
   "cell_type": "code",
   "execution_count": 3,
   "id": "fff39224-5322-4841-a842-5a1118ea9bcf",
   "metadata": {},
   "outputs": [
    {
     "data": {
      "text/plain": [
       "'23'"
      ]
     },
     "execution_count": 3,
     "metadata": {},
     "output_type": "execute_result"
    }
   ],
   "source": [
    "age"
   ]
  },
  {
   "cell_type": "code",
   "execution_count": 4,
   "id": "0361242b-fe69-40d4-9356-63a502d67a23",
   "metadata": {},
   "outputs": [
    {
     "data": {
      "text/plain": [
       "46"
      ]
     },
     "execution_count": 4,
     "metadata": {},
     "output_type": "execute_result"
    }
   ],
   "source": [
    "int(age) * 2 # int'a çevrilip 2 ile çarpıldı."
   ]
  },
  {
   "cell_type": "markdown",
   "id": "1451ee6e-a7cc-47d1-8689-d82351924678",
   "metadata": {},
   "source": [
    "try-except (denemek, hata olursa ne yapılacağını yazmak)"
   ]
  },
  {
   "cell_type": "code",
   "execution_count": 5,
   "id": "27ae5b7e-a8cf-4237-87f9-6b84f31ff377",
   "metadata": {},
   "outputs": [
    {
     "name": "stdin",
     "output_type": "stream",
     "text": [
      "enter age:  23\n"
     ]
    },
    {
     "name": "stdout",
     "output_type": "stream",
     "text": [
      "46\n"
     ]
    }
   ],
   "source": [
    "try: #deneme\n",
    "    myAge = int(input(\"enter age: \")) #girilen değeri bir değişkene aktarıp buradayken int'e çeviriyor.\n",
    "    print(myAge * 2) # 2 ile çarpma fonksiyonunu yazıyor. Hatasız girilirse input işlem yapılarak ekrana yazdırılır.\n",
    "except: # hata gelirse buraya gelir. Herhangi bir hata alındığında buraya gelinir sadece value değil.\n",
    "    print(\"enter right age!\") #hatalı giriş yapılırsa burası ekrana yazdırılır."
   ]
  },
  {
   "cell_type": "code",
   "execution_count": 7,
   "id": "f0a6e368-01df-443f-94f9-0eb7f1844df9",
   "metadata": {},
   "outputs": [
    {
     "name": "stdin",
     "output_type": "stream",
     "text": [
      "enter age:  mel\n"
     ]
    },
    {
     "name": "stdout",
     "output_type": "stream",
     "text": [
      "enter right age!\n"
     ]
    }
   ],
   "source": [
    "try: #deneme\n",
    "    myAge = int(input(\"enter age: \")) \n",
    "    print(myAge * 2) \n",
    "except ValueError:  # değer (value) hatası aldığında burası çalışsın \n",
    "    print(\"enter right age!\") "
   ]
  },
  {
   "cell_type": "code",
   "execution_count": 8,
   "id": "daeed395-80d2-433d-9eef-7cc5089fb671",
   "metadata": {},
   "outputs": [
    {
     "name": "stdin",
     "output_type": "stream",
     "text": [
      "enter age:  mel\n"
     ]
    },
    {
     "name": "stdout",
     "output_type": "stream",
     "text": [
      "enter right age!\n"
     ]
    },
    {
     "name": "stdin",
     "output_type": "stream",
     "text": [
      "enter age:  23\n"
     ]
    },
    {
     "name": "stdout",
     "output_type": "stream",
     "text": [
      "46\n"
     ]
    }
   ],
   "source": [
    "while True: #bunun altında yazacağım kodu her zaman devam ettir. Her zaman çalışır.\n",
    "   try: \n",
    "       myAge = int(input(\"enter age: \"))\n",
    "       print(myAge * 2) \n",
    "       break #sonsuz döngüde takılıp kalmaması için.\n",
    "   except: \n",
    "       print(\"enter right age!\") \n",
    "#yaş girmeyi ister yanlış girilirse (sayı yerine) tekrar girmenizi ister input gelir bu sefer doğru yazarsanız işlem sonucnu size verir."
   ]
  },
  {
   "cell_type": "code",
   "execution_count": null,
   "id": "488ff56f-83a8-4eb0-9f98-5a0331c02c04",
   "metadata": {},
   "outputs": [],
   "source": []
  }
 ],
 "metadata": {
  "kernelspec": {
   "display_name": "Python 3 (ipykernel)",
   "language": "python",
   "name": "python3"
  },
  "language_info": {
   "codemirror_mode": {
    "name": "ipython",
    "version": 3
   },
   "file_extension": ".py",
   "mimetype": "text/x-python",
   "name": "python",
   "nbconvert_exporter": "python",
   "pygments_lexer": "ipython3",
   "version": "3.11.9"
  }
 },
 "nbformat": 4,
 "nbformat_minor": 5
}
