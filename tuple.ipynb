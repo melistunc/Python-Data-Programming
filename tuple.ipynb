{
 "cells": [
  {
   "cell_type": "markdown",
   "id": "9809f373-17d5-492a-9323-bdd9bd82737a",
   "metadata": {},
   "source": [
    "tuple, neredeyse liste ile aynıdır. ( ) kullanılır. Burada imuutability (değiştirilemez)özelliği vardır. Tuple içine; yeni bir şey eklenemez, değiştirilemez, bir şey güncellenemez."
   ]
  },
  {
   "cell_type": "code",
   "execution_count": 1,
   "id": "3498bf77-a2b5-4f92-9327-4f81a646506a",
   "metadata": {},
   "outputs": [],
   "source": [
    "myList = [10, \"a\", \"b\", 3.14] #liste"
   ]
  },
  {
   "cell_type": "code",
   "execution_count": 2,
   "id": "93ca05ce-3818-46b2-9e11-627035ded25a",
   "metadata": {},
   "outputs": [
    {
     "data": {
      "text/plain": [
       "10"
      ]
     },
     "execution_count": 2,
     "metadata": {},
     "output_type": "execute_result"
    }
   ],
   "source": [
    "myList[0] #ilk elemanı"
   ]
  },
  {
   "cell_type": "code",
   "execution_count": 3,
   "id": "0531bb76-0fc2-459c-acc7-c3387ba64c93",
   "metadata": {},
   "outputs": [],
   "source": [
    "myList[0] = 100 #ilk elemanının değiştirilmesi."
   ]
  },
  {
   "cell_type": "code",
   "execution_count": 4,
   "id": "ed0c1c3f-e254-45ff-9afe-1868bd5b8678",
   "metadata": {},
   "outputs": [
    {
     "data": {
      "text/plain": [
       "[100, 'a', 'b', 3.14]"
      ]
     },
     "execution_count": 4,
     "metadata": {},
     "output_type": "execute_result"
    }
   ],
   "source": [
    "myList"
   ]
  },
  {
   "cell_type": "code",
   "execution_count": 5,
   "id": "89266de3-343d-4f53-aa39-d2f58c4301ca",
   "metadata": {},
   "outputs": [],
   "source": [
    "myTuple = (10,\"a\",\"b\",3.14) # tuple gösterimi."
   ]
  },
  {
   "cell_type": "code",
   "execution_count": 6,
   "id": "bdcf6265-d2ec-49c8-9c5a-298d711da931",
   "metadata": {},
   "outputs": [
    {
     "data": {
      "text/plain": [
       "tuple"
      ]
     },
     "execution_count": 6,
     "metadata": {},
     "output_type": "execute_result"
    }
   ],
   "source": [
    "type(myTuple)"
   ]
  },
  {
   "cell_type": "code",
   "execution_count": 7,
   "id": "fce548ee-4002-4b8b-ae99-57f27c6b41f0",
   "metadata": {},
   "outputs": [
    {
     "data": {
      "text/plain": [
       "10"
      ]
     },
     "execution_count": 7,
     "metadata": {},
     "output_type": "execute_result"
    }
   ],
   "source": [
    "myTuple[0] #ilk elemanı getirir."
   ]
  },
  {
   "cell_type": "code",
   "execution_count": 8,
   "id": "432e10a8-b7c3-45d1-9443-ebd19ecac57a",
   "metadata": {},
   "outputs": [],
   "source": [
    "# myTuple[0] = 100 hata verir çünkü tuple'da elemanlar değiştirilemez."
   ]
  },
  {
   "cell_type": "code",
   "execution_count": 9,
   "id": "8c346e68-8a42-45f3-a2f2-d6dfc8f0f83c",
   "metadata": {},
   "outputs": [
    {
     "data": {
      "text/plain": [
       "1"
      ]
     },
     "execution_count": 9,
     "metadata": {},
     "output_type": "execute_result"
    }
   ],
   "source": [
    "myTuple.index(\"a\") # a hangi indexte onu öğrendik."
   ]
  },
  {
   "cell_type": "code",
   "execution_count": 10,
   "id": "bee04400-e741-4d6e-83bf-b646266b1fb6",
   "metadata": {},
   "outputs": [
    {
     "data": {
      "text/plain": [
       "1"
      ]
     },
     "execution_count": 10,
     "metadata": {},
     "output_type": "execute_result"
    }
   ],
   "source": [
    "myTuple.count(\"a\") # tuple içinde 1 tane a var onu öğrendik. Sadece bu iki özellik vardır tuple'da."
   ]
  },
  {
   "cell_type": "code",
   "execution_count": 11,
   "id": "6e93c459-c968-40bf-88fe-f4840f6e33d5",
   "metadata": {},
   "outputs": [],
   "source": [
    "resultTuple = (10, 20,30)"
   ]
  },
  {
   "cell_type": "code",
   "execution_count": 12,
   "id": "acc060a1-aca5-4147-a92e-7d2c11954c05",
   "metadata": {},
   "outputs": [
    {
     "data": {
      "text/plain": [
       "(10, 20, 30)"
      ]
     },
     "execution_count": 12,
     "metadata": {},
     "output_type": "execute_result"
    }
   ],
   "source": [
    "resultTuple #tuple dışarıdan değiştirilmesi istenmeyen yerlerde kullanılabilir."
   ]
  },
  {
   "cell_type": "code",
   "execution_count": 13,
   "id": "2ae46399-2d6a-43d4-9784-60b2bce7215c",
   "metadata": {},
   "outputs": [],
   "source": [
    "resultList = list(resultTuple) # tuple listeye çevrildi. Böylece değiştirebiliriz içerğini."
   ]
  },
  {
   "cell_type": "code",
   "execution_count": 14,
   "id": "67a8df2f-adb6-4fc7-bd90-30c4a1ef05ee",
   "metadata": {},
   "outputs": [
    {
     "data": {
      "text/plain": [
       "[10, 20, 30]"
      ]
     },
     "execution_count": 14,
     "metadata": {},
     "output_type": "execute_result"
    }
   ],
   "source": [
    "resultList"
   ]
  },
  {
   "cell_type": "code",
   "execution_count": null,
   "id": "5ebf8273-f0e2-4f4b-9d2b-6097545f1706",
   "metadata": {},
   "outputs": [],
   "source": []
  }
 ],
 "metadata": {
  "kernelspec": {
   "display_name": "Python 3 (ipykernel)",
   "language": "python",
   "name": "python3"
  },
  "language_info": {
   "codemirror_mode": {
    "name": "ipython",
    "version": 3
   },
   "file_extension": ".py",
   "mimetype": "text/x-python",
   "name": "python",
   "nbconvert_exporter": "python",
   "pygments_lexer": "ipython3",
   "version": "3.11.9"
  }
 },
 "nbformat": 4,
 "nbformat_minor": 5
}
