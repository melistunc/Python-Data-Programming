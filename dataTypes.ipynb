{
 "cells": [
  {
   "cell_type": "code",
   "execution_count": 1,
   "id": "21006f4c-898d-48d8-8ebe-9576739a7c6e",
   "metadata": {},
   "outputs": [
    {
     "data": {
      "text/plain": [
       "8"
      ]
     },
     "execution_count": 1,
     "metadata": {},
     "output_type": "execute_result"
    }
   ],
   "source": [
    "3 + 5"
   ]
  },
  {
   "cell_type": "code",
   "execution_count": 2,
   "id": "d1a8137c-511e-47e2-919b-aa2bb6f11ba3",
   "metadata": {},
   "outputs": [
    {
     "data": {
      "text/plain": [
       "20"
      ]
     },
     "execution_count": 2,
     "metadata": {},
     "output_type": "execute_result"
    }
   ],
   "source": [
    "4 * 5"
   ]
  },
  {
   "cell_type": "code",
   "execution_count": 3,
   "id": "f81a1a9f-160f-4253-a1e1-bffebf1fdb54",
   "metadata": {},
   "outputs": [
    {
     "data": {
      "text/plain": [
       "128.57142857142858"
      ]
     },
     "execution_count": 3,
     "metadata": {},
     "output_type": "execute_result"
    }
   ],
   "source": [
    "900 / 7"
   ]
  },
  {
   "cell_type": "code",
   "execution_count": 4,
   "id": "8bde6bca-3705-44e6-b831-7adc8147fb67",
   "metadata": {},
   "outputs": [
    {
     "data": {
      "text/plain": [
       "-90"
      ]
     },
     "execution_count": 4,
     "metadata": {},
     "output_type": "execute_result"
    }
   ],
   "source": [
    "10 - 100"
   ]
  },
  {
   "cell_type": "code",
   "execution_count": 5,
   "id": "c7b27961-082b-439b-a6f6-bd8deeee6241",
   "metadata": {},
   "outputs": [
    {
     "data": {
      "text/plain": [
       "3125"
      ]
     },
     "execution_count": 5,
     "metadata": {},
     "output_type": "execute_result"
    }
   ],
   "source": [
    "5 * 5 * 5 * 5 * 5"
   ]
  },
  {
   "cell_type": "code",
   "execution_count": 6,
   "id": "ac5ff65f-9971-4371-b03f-1f0a362d802e",
   "metadata": {},
   "outputs": [
    {
     "data": {
      "text/plain": [
       "3125"
      ]
     },
     "execution_count": 6,
     "metadata": {},
     "output_type": "execute_result"
    }
   ],
   "source": [
    "5*5*5*5*5"
   ]
  },
  {
   "cell_type": "code",
   "execution_count": 7,
   "id": "a9f51c15-558f-45a7-b216-d7733dbef856",
   "metadata": {},
   "outputs": [],
   "source": [
    "age = 50 #age isimli bir değişken oluşturuldu."
   ]
  },
  {
   "cell_type": "code",
   "execution_count": 8,
   "id": "3bfe1da9-610c-4dc9-a1b0-c043db519dbd",
   "metadata": {},
   "outputs": [
    {
     "data": {
      "text/plain": [
       "50"
      ]
     },
     "execution_count": 8,
     "metadata": {},
     "output_type": "execute_result"
    }
   ],
   "source": [
    "age #age'in değeri tutulmuş sonradan da kullanılabiliyor."
   ]
  },
  {
   "cell_type": "code",
   "execution_count": 9,
   "id": "7feb10d1-8088-4fa8-8578-2331ea28f15c",
   "metadata": {},
   "outputs": [
    {
     "data": {
      "text/plain": [
       "25.0"
      ]
     },
     "execution_count": 9,
     "metadata": {},
     "output_type": "execute_result"
    }
   ],
   "source": [
    "age / 2"
   ]
  },
  {
   "cell_type": "code",
   "execution_count": 10,
   "id": "6e66dd6a-478b-4b74-aa80-552faa86e58c",
   "metadata": {},
   "outputs": [],
   "source": [
    "# işaretiyle yorum satırları oluştururuz."
   ]
  },
  {
   "cell_type": "code",
   "execution_count": 11,
   "id": "786a7003-306a-4942-a7e2-bae338383d03",
   "metadata": {},
   "outputs": [
    {
     "data": {
      "text/plain": [
       "int"
      ]
     },
     "execution_count": 11,
     "metadata": {},
     "output_type": "execute_result"
    }
   ],
   "source": [
    "type(2) #type bize bir değişkenin tipini verir."
   ]
  },
  {
   "cell_type": "code",
   "execution_count": 12,
   "id": "22ad8e7b-d42f-4c48-871f-a5d6ae48629b",
   "metadata": {},
   "outputs": [
    {
     "data": {
      "text/plain": [
       "int"
      ]
     },
     "execution_count": 12,
     "metadata": {},
     "output_type": "execute_result"
    }
   ],
   "source": [
    "type(10 * 3) #302un tipini verir."
   ]
  },
  {
   "cell_type": "code",
   "execution_count": 13,
   "id": "ec77698b-03a7-4364-829c-e21288fa4f74",
   "metadata": {},
   "outputs": [
    {
     "data": {
      "text/plain": [
       "int"
      ]
     },
     "execution_count": 13,
     "metadata": {},
     "output_type": "execute_result"
    }
   ],
   "source": [
    "type(age * 5)"
   ]
  },
  {
   "cell_type": "code",
   "execution_count": 14,
   "id": "3874c1ce-b25b-49db-a082-65a26b1b3dc2",
   "metadata": {},
   "outputs": [],
   "source": [
    "#int -> integer tam sayılardır."
   ]
  },
  {
   "cell_type": "code",
   "execution_count": 15,
   "id": "2089716c-71dc-4d4a-b109-f75e812ffaf2",
   "metadata": {},
   "outputs": [
    {
     "data": {
      "text/plain": [
       "int"
      ]
     },
     "execution_count": 15,
     "metadata": {},
     "output_type": "execute_result"
    }
   ],
   "source": [
    "type(-100)"
   ]
  },
  {
   "cell_type": "code",
   "execution_count": 16,
   "id": "1019b36e-f7c0-44d2-bc2c-d66add670ce6",
   "metadata": {},
   "outputs": [],
   "source": [
    "x = -100"
   ]
  },
  {
   "cell_type": "code",
   "execution_count": 17,
   "id": "12a2fe6b-8b6a-4bb9-9593-0d0c831ad8a7",
   "metadata": {},
   "outputs": [
    {
     "data": {
      "text/plain": [
       "int"
      ]
     },
     "execution_count": 17,
     "metadata": {},
     "output_type": "execute_result"
    }
   ],
   "source": [
    "type(x)"
   ]
  },
  {
   "cell_type": "code",
   "execution_count": 18,
   "id": "57db65e7-61b2-4829-8b18-8d5edb4adbf0",
   "metadata": {},
   "outputs": [
    {
     "data": {
      "text/plain": [
       "float"
      ]
     },
     "execution_count": 18,
     "metadata": {},
     "output_type": "execute_result"
    }
   ],
   "source": [
    "type(3.14)"
   ]
  },
  {
   "cell_type": "code",
   "execution_count": 19,
   "id": "8d0d3a55-8a28-4222-a7ff-13e7d1dbb844",
   "metadata": {},
   "outputs": [],
   "source": [
    "#float -> floating point kesirli sayılar için oluşturulmuş."
   ]
  },
  {
   "cell_type": "code",
   "execution_count": 20,
   "id": "7d790e34-4e92-4dbb-bc5f-30956a34c211",
   "metadata": {},
   "outputs": [],
   "source": [
    "pi = 3.14"
   ]
  },
  {
   "cell_type": "code",
   "execution_count": 21,
   "id": "ff9eab7a-bdf5-47ea-bd83-fb6b7cf47cef",
   "metadata": {},
   "outputs": [
    {
     "data": {
      "text/plain": [
       "6.28"
      ]
     },
     "execution_count": 21,
     "metadata": {},
     "output_type": "execute_result"
    }
   ],
   "source": [
    "pi * 2"
   ]
  },
  {
   "cell_type": "code",
   "execution_count": 22,
   "id": "e9c5c7d9-eb2f-4254-8838-1c3aed3d4c63",
   "metadata": {},
   "outputs": [
    {
     "data": {
      "text/plain": [
       "-100"
      ]
     },
     "execution_count": 22,
     "metadata": {},
     "output_type": "execute_result"
    }
   ],
   "source": [
    "x"
   ]
  },
  {
   "cell_type": "code",
   "execution_count": 23,
   "id": "a8117627-f923-4708-aa6a-695538d2300c",
   "metadata": {},
   "outputs": [
    {
     "data": {
      "text/plain": [
       "-96.86"
      ]
     },
     "execution_count": 23,
     "metadata": {},
     "output_type": "execute_result"
    }
   ],
   "source": [
    "x + pi"
   ]
  },
  {
   "cell_type": "code",
   "execution_count": 24,
   "id": "a3b85793-2343-43c0-9f7b-27c608b9db4d",
   "metadata": {},
   "outputs": [
    {
     "data": {
      "text/plain": [
       "-31.84713375796178"
      ]
     },
     "execution_count": 24,
     "metadata": {},
     "output_type": "execute_result"
    }
   ],
   "source": [
    "x / pi"
   ]
  },
  {
   "cell_type": "code",
   "execution_count": 25,
   "id": "bbd9fdbe-58c4-4e62-ad68-26e95de7270a",
   "metadata": {},
   "outputs": [],
   "source": [
    "x = 10"
   ]
  },
  {
   "cell_type": "code",
   "execution_count": 26,
   "id": "b22aa97b-9e9f-46c4-8e6f-5927789f303b",
   "metadata": {},
   "outputs": [],
   "source": [
    "x = 20"
   ]
  },
  {
   "cell_type": "code",
   "execution_count": 27,
   "id": "2d860988-a855-4fc4-8413-02671297d84d",
   "metadata": {},
   "outputs": [
    {
     "data": {
      "text/plain": [
       "30"
      ]
     },
     "execution_count": 27,
     "metadata": {},
     "output_type": "execute_result"
    }
   ],
   "source": [
    "x + 10"
   ]
  },
  {
   "cell_type": "code",
   "execution_count": 28,
   "id": "b7c9d0fc-f3b8-45a6-b767-f336c487be10",
   "metadata": {},
   "outputs": [],
   "source": [
    "myFloat = 1.2345678"
   ]
  },
  {
   "cell_type": "code",
   "execution_count": 29,
   "id": "de68b375-7852-4dec-b870-96740cca8a9c",
   "metadata": {},
   "outputs": [
    {
     "data": {
      "text/plain": [
       "float"
      ]
     },
     "execution_count": 29,
     "metadata": {},
     "output_type": "execute_result"
    }
   ],
   "source": [
    "type(myFloat)"
   ]
  },
  {
   "cell_type": "code",
   "execution_count": 30,
   "id": "225c52da-22c1-4892-abb5-f743821ca136",
   "metadata": {},
   "outputs": [],
   "source": [
    "#camelCase\n",
    "#snake_case  yazıların kullanım şekli."
   ]
  },
  {
   "cell_type": "code",
   "execution_count": 31,
   "id": "769658b1-7d01-4021-b5cd-80bd46b6bb37",
   "metadata": {},
   "outputs": [
    {
     "data": {
      "text/plain": [
       "10.0"
      ]
     },
     "execution_count": 31,
     "metadata": {},
     "output_type": "execute_result"
    }
   ],
   "source": [
    "40 / 4"
   ]
  },
  {
   "cell_type": "code",
   "execution_count": 32,
   "id": "df8f99f5-b21e-425e-acde-19e028ac34d6",
   "metadata": {},
   "outputs": [
    {
     "data": {
      "text/plain": [
       "float"
      ]
     },
     "execution_count": 32,
     "metadata": {},
     "output_type": "execute_result"
    }
   ],
   "source": [
    "type(40 / 4)"
   ]
  },
  {
   "cell_type": "code",
   "execution_count": 33,
   "id": "5a5eb6bc-0133-4d1a-b34d-462d85b37ed8",
   "metadata": {},
   "outputs": [
    {
     "data": {
      "text/plain": [
       "4.444444444444445"
      ]
     },
     "execution_count": 33,
     "metadata": {},
     "output_type": "execute_result"
    }
   ],
   "source": [
    "40 / 9 #int int'a bölündüğünde sonuç float olur."
   ]
  },
  {
   "cell_type": "code",
   "execution_count": 34,
   "id": "46b7b1d3-3a9b-440c-9dbd-ce1f73bf4306",
   "metadata": {},
   "outputs": [
    {
     "data": {
      "text/plain": [
       "1.3333333333333333"
      ]
     },
     "execution_count": 34,
     "metadata": {},
     "output_type": "execute_result"
    }
   ],
   "source": [
    "4 / 3"
   ]
  },
  {
   "cell_type": "code",
   "execution_count": 35,
   "id": "cb5205e3-5364-46e6-b490-ca198f49d4f2",
   "metadata": {},
   "outputs": [
    {
     "data": {
      "text/plain": [
       "1.3333333333333333"
      ]
     },
     "execution_count": 35,
     "metadata": {},
     "output_type": "execute_result"
    }
   ],
   "source": [
    "4.0 / 3.0"
   ]
  },
  {
   "cell_type": "code",
   "execution_count": 36,
   "id": "1d60fc69-0523-49f1-b7e1-292918d6ab93",
   "metadata": {},
   "outputs": [
    {
     "data": {
      "text/plain": [
       "int"
      ]
     },
     "execution_count": 36,
     "metadata": {},
     "output_type": "execute_result"
    }
   ],
   "source": [
    "type(4)"
   ]
  },
  {
   "cell_type": "code",
   "execution_count": 37,
   "id": "b14d4d15-6802-42f2-92ec-92ce14104c50",
   "metadata": {},
   "outputs": [
    {
     "data": {
      "text/plain": [
       "float"
      ]
     },
     "execution_count": 37,
     "metadata": {},
     "output_type": "execute_result"
    }
   ],
   "source": [
    "type(4.0)"
   ]
  },
  {
   "cell_type": "code",
   "execution_count": 38,
   "id": "853d1560-8ae7-469d-8a6a-eb188b80b23a",
   "metadata": {},
   "outputs": [
    {
     "data": {
      "text/plain": [
       "2.0"
      ]
     },
     "execution_count": 38,
     "metadata": {},
     "output_type": "execute_result"
    }
   ],
   "source": [
    "4.0 - 2 #floattan int çıkarılırsa sonuç float olur."
   ]
  },
  {
   "cell_type": "code",
   "execution_count": 39,
   "id": "2700513f-40a2-4dea-8b15-78533b3187d1",
   "metadata": {},
   "outputs": [
    {
     "data": {
      "text/plain": [
       "12.600000000000001"
      ]
     },
     "execution_count": 39,
     "metadata": {},
     "output_type": "execute_result"
    }
   ],
   "source": [
    "4.2 * 3 #float ile int çarpılırsa sonuç float olur."
   ]
  },
  {
   "cell_type": "code",
   "execution_count": 40,
   "id": "de8c6d11-a8cf-46cd-aeb2-97ff5fb001a0",
   "metadata": {},
   "outputs": [
    {
     "data": {
      "text/plain": [
       "-18"
      ]
     },
     "execution_count": 40,
     "metadata": {},
     "output_type": "execute_result"
    }
   ],
   "source": [
    "2 - 10 * 2"
   ]
  },
  {
   "cell_type": "code",
   "execution_count": 41,
   "id": "79e9f49a-22c9-4c41-85b2-39933481297a",
   "metadata": {},
   "outputs": [
    {
     "data": {
      "text/plain": [
       "32"
      ]
     },
     "execution_count": 41,
     "metadata": {},
     "output_type": "execute_result"
    }
   ],
   "source": [
    "2 ** 5 # 2 üssü 5'tir."
   ]
  },
  {
   "cell_type": "code",
   "execution_count": 42,
   "id": "ba15b0c0-1d55-4937-ae8c-d8d15b36042a",
   "metadata": {},
   "outputs": [
    {
     "data": {
      "text/plain": [
       "1"
      ]
     },
     "execution_count": 42,
     "metadata": {},
     "output_type": "execute_result"
    }
   ],
   "source": [
    "10 % 3 # 10'u 3 böldüğümüzde kalan. remainder"
   ]
  },
  {
   "cell_type": "code",
   "execution_count": 1,
   "id": "055a2dfe-00a7-4176-8433-b813947bcd00",
   "metadata": {},
   "outputs": [
    {
     "data": {
      "text/plain": [
       "'hello world'"
      ]
     },
     "execution_count": 1,
     "metadata": {},
     "output_type": "execute_result"
    }
   ],
   "source": [
    "\"hello world\" #yazı bu şekilde yazılır. Bu bir metindir."
   ]
  },
  {
   "cell_type": "code",
   "execution_count": 2,
   "id": "3977b57a-7dbb-445d-aa77-933353d15f13",
   "metadata": {},
   "outputs": [
    {
     "name": "stdout",
     "output_type": "stream",
     "text": [
      "hello python\n"
     ]
    }
   ],
   "source": [
    "print(\"hello python\") #Bu şekilde de yazı yazılabilir. metindir."
   ]
  },
  {
   "cell_type": "code",
   "execution_count": 4,
   "id": "c451ca53-c454-497d-856d-ec8b71615dd8",
   "metadata": {},
   "outputs": [],
   "source": [
    "name = \"mel\""
   ]
  },
  {
   "cell_type": "code",
   "execution_count": 6,
   "id": "d444f25e-706e-4ec8-9227-58fa107ad40b",
   "metadata": {},
   "outputs": [
    {
     "data": {
      "text/plain": [
       "str"
      ]
     },
     "execution_count": 6,
     "metadata": {},
     "output_type": "execute_result"
    }
   ],
   "source": [
    "type(name) #türü string çıktı."
   ]
  },
  {
   "cell_type": "code",
   "execution_count": 7,
   "id": "9d7817fd-1e01-46c6-b7bc-fab8f5b29789",
   "metadata": {},
   "outputs": [
    {
     "data": {
      "text/plain": [
       "'mel fox cafe'"
      ]
     },
     "execution_count": 7,
     "metadata": {},
     "output_type": "execute_result"
    }
   ],
   "source": [
    "'mel fox cafe' #bu şekilde de metin girilebilir. string"
   ]
  },
  {
   "cell_type": "code",
   "execution_count": 8,
   "id": "37d9a24d-bf84-496c-8ccb-1ed085841a4a",
   "metadata": {},
   "outputs": [
    {
     "data": {
      "text/plain": [
       "'mel fox cafe'"
      ]
     },
     "execution_count": 8,
     "metadata": {},
     "output_type": "execute_result"
    }
   ],
   "source": [
    "\"mel fox cafe\""
   ]
  },
  {
   "cell_type": "code",
   "execution_count": 9,
   "id": "d88b174b-de64-4f0e-acbb-1dc29c5f8846",
   "metadata": {},
   "outputs": [
    {
     "data": {
      "text/plain": [
       "\"mel's cfox cafe\""
      ]
     },
     "execution_count": 9,
     "metadata": {},
     "output_type": "execute_result"
    }
   ],
   "source": [
    "\"mel's cfox cafe\" #çift tırnakla yapmak daha mantıklıdır. çünkü arada tek tırnak kullanılabiliyor."
   ]
  },
  {
   "cell_type": "code",
   "execution_count": 10,
   "id": "2e61ded3-e17b-4acd-bc3a-7765bf229cb3",
   "metadata": {},
   "outputs": [],
   "source": [
    "name = \"melfox\""
   ]
  },
  {
   "cell_type": "code",
   "execution_count": 11,
   "id": "2d1b62a2-002d-41b7-8ae1-7f4be0c788ab",
   "metadata": {},
   "outputs": [
    {
     "data": {
      "text/plain": [
       "str"
      ]
     },
     "execution_count": 11,
     "metadata": {},
     "output_type": "execute_result"
    }
   ],
   "source": [
    "type(name)"
   ]
  },
  {
   "cell_type": "code",
   "execution_count": 12,
   "id": "5cc323ba-815c-4b90-9b3a-ec5e0729fd0b",
   "metadata": {},
   "outputs": [],
   "source": [
    "name = \"melfox irllve\""
   ]
  },
  {
   "cell_type": "code",
   "execution_count": 13,
   "id": "5371c98e-c125-4edf-9703-cb1d9f2bfc74",
   "metadata": {},
   "outputs": [
    {
     "data": {
      "text/plain": [
       "'Melfox irllve'"
      ]
     },
     "execution_count": 13,
     "metadata": {},
     "output_type": "execute_result"
    }
   ],
   "source": [
    "name.capitalize() #capitalize cümlenin ilk harfini büyük harfle yazdırır.\n",
    "#name içinde kullanılabilecek metotları name. yaparak görürüz.\n",
    "#sonuna () koyduğumuzda bu fonksiyonu çalıştırmış oluruz."
   ]
  },
  {
   "cell_type": "code",
   "execution_count": 16,
   "id": "460c30e1-b83c-4684-b244-a25f075a3bca",
   "metadata": {},
   "outputs": [
    {
     "name": "stdout",
     "output_type": "stream",
     "text": [
      "Help on built-in function count:\n",
      "\n",
      "count(...) method of builtins.str instance\n",
      "    S.count(sub[, start[, end]]) -> int\n",
      "    \n",
      "    Return the number of non-overlapping occurrences of substring sub in\n",
      "    string S[start:end].  Optional arguments start and end are\n",
      "    interpreted as in slice notation.\n",
      "\n"
     ]
    }
   ],
   "source": [
    "help(name.count) #count hakkında bilgi verir. help ile bilgi alırız.çalıştır işareti koymayız çünkğ çalıştırmıyoruz."
   ]
  },
  {
   "cell_type": "code",
   "execution_count": 17,
   "id": "cce33a1d-1d7e-43fe-a873-88a8a07ca7f7",
   "metadata": {},
   "outputs": [
    {
     "data": {
      "text/plain": [
       "'melfox irllve'"
      ]
     },
     "execution_count": 17,
     "metadata": {},
     "output_type": "execute_result"
    }
   ],
   "source": [
    "name"
   ]
  },
  {
   "cell_type": "code",
   "execution_count": 18,
   "id": "cf55f5c4-1f4b-438b-b0e7-48cc146c9b78",
   "metadata": {},
   "outputs": [
    {
     "data": {
      "text/plain": [
       "0"
      ]
     },
     "execution_count": 18,
     "metadata": {},
     "output_type": "execute_result"
    }
   ],
   "source": [
    "name.count(\"a\") #name içindeki metinde kaç tane harf var onu söyler count."
   ]
  },
  {
   "cell_type": "code",
   "execution_count": 19,
   "id": "7e5521a2-6749-4a32-9067-d01297b35fe0",
   "metadata": {},
   "outputs": [
    {
     "data": {
      "text/plain": [
       "3"
      ]
     },
     "execution_count": 19,
     "metadata": {},
     "output_type": "execute_result"
    }
   ],
   "source": [
    "name.count(\"l\") #3 tane l var."
   ]
  },
  {
   "cell_type": "code",
   "execution_count": 20,
   "id": "3e2761a8-9db5-47bc-ad6c-d47071178b7b",
   "metadata": {},
   "outputs": [
    {
     "data": {
      "text/plain": [
       "'MELFOX IRLLVE'"
      ]
     },
     "execution_count": 20,
     "metadata": {},
     "output_type": "execute_result"
    }
   ],
   "source": [
    "name.upper() #upper bütün harfleri büyük harf yapar. name'deki tüm harfler büyük oldu."
   ]
  },
  {
   "cell_type": "code",
   "execution_count": 21,
   "id": "b20ce72d-7da5-4b5c-b0f3-2b3cf6483579",
   "metadata": {},
   "outputs": [
    {
     "data": {
      "text/plain": [
       "'melfox irllve'"
      ]
     },
     "execution_count": 21,
     "metadata": {},
     "output_type": "execute_result"
    }
   ],
   "source": [
    "name"
   ]
  },
  {
   "cell_type": "code",
   "execution_count": 22,
   "id": "090fbc11-b5b7-422a-8465-f63025b060c6",
   "metadata": {},
   "outputs": [],
   "source": [
    "x = 10\n",
    "y = 5"
   ]
  },
  {
   "cell_type": "code",
   "execution_count": 23,
   "id": "62ab2518-8f69-4284-9986-08912370825e",
   "metadata": {},
   "outputs": [
    {
     "data": {
      "text/plain": [
       "15"
      ]
     },
     "execution_count": 23,
     "metadata": {},
     "output_type": "execute_result"
    }
   ],
   "source": [
    "x + y "
   ]
  },
  {
   "cell_type": "code",
   "execution_count": 24,
   "id": "4079feb0-07b2-4f77-8006-07bb08e9ac4a",
   "metadata": {},
   "outputs": [],
   "source": [
    "z = x + y "
   ]
  },
  {
   "cell_type": "code",
   "execution_count": 25,
   "id": "a33462df-7244-4ede-84d1-6de86b499db6",
   "metadata": {},
   "outputs": [
    {
     "data": {
      "text/plain": [
       "15"
      ]
     },
     "execution_count": 25,
     "metadata": {},
     "output_type": "execute_result"
    }
   ],
   "source": [
    "z"
   ]
  },
  {
   "cell_type": "code",
   "execution_count": 26,
   "id": "c0d58985-06d2-496d-923e-2032f6736ac0",
   "metadata": {},
   "outputs": [
    {
     "data": {
      "text/plain": [
       "'melfox irllve'"
      ]
     },
     "execution_count": 26,
     "metadata": {},
     "output_type": "execute_result"
    }
   ],
   "source": [
    "name"
   ]
  },
  {
   "cell_type": "code",
   "execution_count": 27,
   "id": "303c0873-c873-41ea-b687-a7b35d75d94c",
   "metadata": {},
   "outputs": [],
   "source": [
    "nameUpper = name.upper() # bu şekilde name upperı nameUpper değişkenine atayıp sonucu kayıtedebildik."
   ]
  },
  {
   "cell_type": "code",
   "execution_count": 28,
   "id": "98adbddd-ba37-45e1-a0c6-e2c970037bee",
   "metadata": {},
   "outputs": [
    {
     "data": {
      "text/plain": [
       "'MELFOX IRLLVE'"
      ]
     },
     "execution_count": 28,
     "metadata": {},
     "output_type": "execute_result"
    }
   ],
   "source": [
    "nameUpper #yeni bir değişken."
   ]
  },
  {
   "cell_type": "code",
   "execution_count": 29,
   "id": "b618cda0-9cd4-46aa-9134-c9330e01ffde",
   "metadata": {},
   "outputs": [
    {
     "data": {
      "text/plain": [
       "'melfox irllve'"
      ]
     },
     "execution_count": 29,
     "metadata": {},
     "output_type": "execute_result"
    }
   ],
   "source": [
    "name #name hala aynıdır. değişmez."
   ]
  },
  {
   "cell_type": "code",
   "execution_count": 30,
   "id": "9d838096-5eb8-427e-ab48-40973d00f868",
   "metadata": {},
   "outputs": [
    {
     "name": "stdout",
     "output_type": "stream",
     "text": [
      "MELFOX IRLLVE\n"
     ]
    }
   ],
   "source": [
    "print(name.upper()) #ekrana yazdırır."
   ]
  },
  {
   "cell_type": "code",
   "execution_count": 31,
   "id": "004b2165-c342-42fe-8b3e-4e4d5b101b28",
   "metadata": {},
   "outputs": [
    {
     "name": "stdout",
     "output_type": "stream",
     "text": [
      "Help on built-in function upper:\n",
      "\n",
      "upper() method of builtins.str instance\n",
      "    Return a copy of the string converted to uppercase.\n",
      "\n"
     ]
    }
   ],
   "source": [
    "help(name.upper)"
   ]
  },
  {
   "cell_type": "code",
   "execution_count": 32,
   "id": "e6cd8565-a649-40fd-b703-a87039fe40c8",
   "metadata": {},
   "outputs": [
    {
     "data": {
      "text/plain": [
       "<function len(obj, /)>"
      ]
     },
     "execution_count": 32,
     "metadata": {},
     "output_type": "execute_result"
    }
   ],
   "source": [
    "len #length yani uzunluğu ölçer."
   ]
  },
  {
   "cell_type": "code",
   "execution_count": 33,
   "id": "ba043f6b-4da2-4d68-92dc-8e56e5cb378d",
   "metadata": {},
   "outputs": [
    {
     "data": {
      "text/plain": [
       "13"
      ]
     },
     "execution_count": 33,
     "metadata": {},
     "output_type": "execute_result"
    }
   ],
   "source": [
    "len(name) #length, name içindeki metnin uzunluğunu soyler. stringlerde kaç karakter olduğunu soyler. "
   ]
  },
  {
   "cell_type": "code",
   "execution_count": 34,
   "id": "7de976b2-f1f1-44bc-be93-e8bbaa0e52f0",
   "metadata": {},
   "outputs": [
    {
     "name": "stdout",
     "output_type": "stream",
     "text": [
      "melfox \n",
      "irllve\n"
     ]
    }
   ],
   "source": [
    "print(\"melfox \\nirllve\") #\\n -> new line yani yeni satıra geç demektir."
   ]
  },
  {
   "cell_type": "code",
   "execution_count": 35,
   "id": "aa15748c-1bd5-49dc-8c42-1eb42c8f4ec4",
   "metadata": {},
   "outputs": [],
   "source": [
    "#bu üstteki gibi karakterlere escape characters denir. "
   ]
  },
  {
   "cell_type": "code",
   "execution_count": 36,
   "id": "30c7727b-e7c8-4543-a398-99827920b5c2",
   "metadata": {},
   "outputs": [
    {
     "name": "stdout",
     "output_type": "stream",
     "text": [
      "melfox \tirllve\n"
     ]
    }
   ],
   "source": [
    "print(\"melfox \\tirllve\") #\\t ->tab yani arasında bir tablık boşluk bırakır."
   ]
  },
  {
   "cell_type": "code",
   "execution_count": null,
   "id": "ffa57662-c6cc-44c4-bec2-763c717f4081",
   "metadata": {},
   "outputs": [],
   "source": []
  }
 ],
 "metadata": {
  "kernelspec": {
   "display_name": "Python 3 (ipykernel)",
   "language": "python",
   "name": "python3"
  },
  "language_info": {
   "codemirror_mode": {
    "name": "ipython",
    "version": 3
   },
   "file_extension": ".py",
   "mimetype": "text/x-python",
   "name": "python",
   "nbconvert_exporter": "python",
   "pygments_lexer": "ipython3",
   "version": "3.11.9"
  }
 },
 "nbformat": 4,
 "nbformat_minor": 5
}
