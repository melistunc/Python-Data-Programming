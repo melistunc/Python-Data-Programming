{
 "cells": [
  {
   "cell_type": "markdown",
   "id": "5eb36d26-9348-4c1a-9539-922502acac3e",
   "metadata": {},
   "source": [
    "merhod and functions"
   ]
  },
  {
   "cell_type": "code",
   "execution_count": 1,
   "id": "bb627b1d-e7e5-4b1c-90ed-15f679c72168",
   "metadata": {},
   "outputs": [],
   "source": [
    "my_name = \"melfox\""
   ]
  },
  {
   "cell_type": "code",
   "execution_count": 2,
   "id": "2352c5d4-b777-46bf-b032-d7aac3ca3ed8",
   "metadata": {},
   "outputs": [
    {
     "data": {
      "text/plain": [
       "'MELFOX'"
      ]
     },
     "execution_count": 2,
     "metadata": {},
     "output_type": "execute_result"
    }
   ],
   "source": [
    "my_name.upper()"
   ]
  },
  {
   "cell_type": "code",
   "execution_count": 3,
   "id": "90356f66-aea7-446d-97f8-88c96cf2e87a",
   "metadata": {},
   "outputs": [
    {
     "data": {
      "text/plain": [
       "'melfox'"
      ]
     },
     "execution_count": 3,
     "metadata": {},
     "output_type": "execute_result"
    }
   ],
   "source": [
    "my_name"
   ]
  },
  {
   "cell_type": "code",
   "execution_count": 4,
   "id": "1c8e7e48-e9ea-4752-b9a3-051fa4228b8a",
   "metadata": {},
   "outputs": [],
   "source": [
    "my_name_upper = my_name.upper()"
   ]
  },
  {
   "cell_type": "code",
   "execution_count": 5,
   "id": "d752737a-4d55-439d-98dc-c4901bc7dd32",
   "metadata": {},
   "outputs": [
    {
     "data": {
      "text/plain": [
       "'melfox'"
      ]
     },
     "execution_count": 5,
     "metadata": {},
     "output_type": "execute_result"
    }
   ],
   "source": [
    "my_name"
   ]
  },
  {
   "cell_type": "code",
   "execution_count": 6,
   "id": "9d4adcaa-9d0e-40ea-930d-0f237ef33877",
   "metadata": {},
   "outputs": [
    {
     "data": {
      "text/plain": [
       "'MELFOX'"
      ]
     },
     "execution_count": 6,
     "metadata": {},
     "output_type": "execute_result"
    }
   ],
   "source": [
    "my_name_upper"
   ]
  },
  {
   "cell_type": "code",
   "execution_count": 7,
   "id": "63d0914b-abaf-4e4a-8c7d-f07049c6c274",
   "metadata": {},
   "outputs": [
    {
     "name": "stdout",
     "output_type": "stream",
     "text": [
      "Help on built-in function upper:\n",
      "\n",
      "upper() method of builtins.str instance\n",
      "    Return a copy of the string converted to uppercase.\n",
      "\n"
     ]
    }
   ],
   "source": [
    "help(my_name.upper)"
   ]
  },
  {
   "cell_type": "markdown",
   "id": "5476614f-4223-48f1-a44a-08f54522dbc4",
   "metadata": {},
   "source": [
    "functions, kod bloklarıdır. İçinde çok satırlı kod bloğudur. Kodları düzenli yazmamıza olanak sağlar. Sonradan kullanılabilir ve girdi (input) alıp çıktı (return) verebilir. Fonksiyon oluşturulup tanımlandıktan sonra sonradan kullanılabilir.\n",
    "\n",
    "def kullanılır."
   ]
  },
  {
   "cell_type": "code",
   "execution_count": 8,
   "id": "425cab5a-fd7a-4177-961c-30736452063f",
   "metadata": {},
   "outputs": [],
   "source": [
    "def hello_python(): # bu fonksiyonun altındaki her şey bu fonksiyon çalıştırıldığında yapılır.\n",
    "    print(\"hello\")\n",
    "    print(\"python\") #sadece tanım yaptık o yüzden print vermez. Bu fonksiyonu bir yerde kullanmamız gerekiyor."
   ]
  },
  {
   "cell_type": "code",
   "execution_count": 9,
   "id": "e7f0f1b2-9255-4d4b-ad82-995643eb55e1",
   "metadata": {},
   "outputs": [
    {
     "data": {
      "text/plain": [
       "<function __main__.hello_python()>"
      ]
     },
     "execution_count": 9,
     "metadata": {},
     "output_type": "execute_result"
    }
   ],
   "source": [
    "hello_python #hello python adlı bir fonksiyonun olduğunu söyler."
   ]
  },
  {
   "cell_type": "code",
   "execution_count": 10,
   "id": "ccfac5de-fced-4307-8fe4-54fafafd58ad",
   "metadata": {},
   "outputs": [
    {
     "name": "stdout",
     "output_type": "stream",
     "text": [
      "hello\n",
      "python\n"
     ]
    }
   ],
   "source": [
    "hello_python() #hello python içinde tanımladığımız özelliklere sahip bir fonksiyon oldu."
   ]
  },
  {
   "cell_type": "code",
   "execution_count": 11,
   "id": "b534861b-db09-4b54-bda7-007e43f5db4b",
   "metadata": {},
   "outputs": [],
   "source": [
    "def hello_name(name): #name fonksşyona tanımladığımız parametre, değişkendrir.\n",
    "    print(\"hello\")\n",
    "    print(name) #name içi boş bir değişkendir."
   ]
  },
  {
   "cell_type": "code",
   "execution_count": 12,
   "id": "d9022533-f7bf-420c-bf09-7d448c684eb6",
   "metadata": {},
   "outputs": [
    {
     "name": "stdout",
     "output_type": "stream",
     "text": [
      "hello\n",
      "mel\n"
     ]
    }
   ],
   "source": [
    "hello_name(\"mel\") #name olarak tanımladığımız parametre yerine dışarıdan istediğimiz değişkeni girebiliriz."
   ]
  },
  {
   "cell_type": "code",
   "execution_count": 13,
   "id": "9c90f076-c2c3-460e-8d27-2a6ab42dbb63",
   "metadata": {},
   "outputs": [
    {
     "name": "stdout",
     "output_type": "stream",
     "text": [
      "hello\n",
      "blackswan\n"
     ]
    }
   ],
   "source": [
    "hello_name(\"blackswan\")"
   ]
  },
  {
   "cell_type": "markdown",
   "id": "130b3f49-4cf8-4187-bd14-736e59043040",
   "metadata": {},
   "source": [
    "sum, hazırda tanımlanmış toplama fonksiyonudur."
   ]
  },
  {
   "cell_type": "code",
   "execution_count": 14,
   "id": "bc844963-f396-41fc-a14c-941895866a8d",
   "metadata": {},
   "outputs": [],
   "source": [
    "def sum_exam(num1, num2): # iki parametre tanımladık.\n",
    "    print(num1+num2) # iki parametreyi toplattım.\n",
    "#istenilen kadar parametre tanımlanıp toplanabilir."
   ]
  },
  {
   "cell_type": "code",
   "execution_count": 15,
   "id": "c797f931-88b5-4ee8-a095-b3ce318905b6",
   "metadata": {},
   "outputs": [
    {
     "name": "stdout",
     "output_type": "stream",
     "text": [
      "49\n"
     ]
    }
   ],
   "source": [
    "sum_exam(19,30) # içine input olarak değişken yazarsak önceden tanımladığımız fonksiyon çalışır ve input ile girilen sayılar toplanır. "
   ]
  },
  {
   "cell_type": "code",
   "execution_count": 16,
   "id": "5af75bc5-b878-4ada-a192-8b58bfa9d5bc",
   "metadata": {},
   "outputs": [
    {
     "ename": "TypeError",
     "evalue": "hello_name() missing 1 required positional argument: 'name'",
     "output_type": "error",
     "traceback": [
      "\u001b[1;31m---------------------------------------------------------------------------\u001b[0m",
      "\u001b[1;31mTypeError\u001b[0m                                 Traceback (most recent call last)",
      "Cell \u001b[1;32mIn[16], line 1\u001b[0m\n\u001b[1;32m----> 1\u001b[0m hello_name()\n",
      "\u001b[1;31mTypeError\u001b[0m: hello_name() missing 1 required positional argument: 'name'"
     ]
    }
   ],
   "source": [
    "hello_name() #burada hata verir çünkü buraya input parametre girilmesi zorunludur fakat biz bunu zorunsuz olarak da yapabiliriz."
   ]
  },
  {
   "cell_type": "code",
   "execution_count": 17,
   "id": "33aefa01-626a-4f1b-bb4e-083266a4b34f",
   "metadata": {},
   "outputs": [],
   "source": [
    "def hello_surname(surname=\"lvve\"): #surname parametresine bir değer atadık.\n",
    "    print(\"hello\")\n",
    "    print(surname)"
   ]
  },
  {
   "cell_type": "code",
   "execution_count": 18,
   "id": "35a44717-9eff-45ce-95df-d242c1bb1211",
   "metadata": {},
   "outputs": [
    {
     "name": "stdout",
     "output_type": "stream",
     "text": [
      "hello\n",
      "swan\n"
     ]
    }
   ],
   "source": [
    "hello_surname(\"swan\")"
   ]
  },
  {
   "cell_type": "code",
   "execution_count": 19,
   "id": "c95df374-9545-4e28-81be-70ee123a3935",
   "metadata": {},
   "outputs": [
    {
     "name": "stdout",
     "output_type": "stream",
     "text": [
      "hello\n",
      "lvve\n"
     ]
    }
   ],
   "source": [
    "hello_surname() # içine değişken girmezsek default olarak girilen değeri verir."
   ]
  },
  {
   "cell_type": "code",
   "execution_count": 1,
   "id": "4e83bac3-e0f4-4398-bd5b-2a2628b7558b",
   "metadata": {},
   "outputs": [],
   "source": [
    "def summation(num1,num2,num3):\n",
    "    print(num1+num2+num3) # 3 sayıyı toplayan fonksiyon"
   ]
  },
  {
   "cell_type": "code",
   "execution_count": 2,
   "id": "b3d17a0b-e3a1-4e4d-b76f-04ddb48defd7",
   "metadata": {},
   "outputs": [
    {
     "name": "stdout",
     "output_type": "stream",
     "text": [
      "21\n"
     ]
    }
   ],
   "source": [
    "summation(10,2,9) # fonksiyon girdileri."
   ]
  },
  {
   "cell_type": "code",
   "execution_count": 3,
   "id": "15c66a3c-afd4-405a-b1ca-456c2687b389",
   "metadata": {},
   "outputs": [
    {
     "name": "stdout",
     "output_type": "stream",
     "text": [
      "18\n"
     ]
    }
   ],
   "source": [
    "x = summation(10,3,5)"
   ]
  },
  {
   "cell_type": "code",
   "execution_count": 4,
   "id": "c49dd625-a8dd-4230-8efa-1af8dbbdb6c4",
   "metadata": {},
   "outputs": [],
   "source": [
    "x"
   ]
  },
  {
   "cell_type": "code",
   "execution_count": 5,
   "id": "fa0737c7-c895-47c7-ba87-ea22b5b9cef8",
   "metadata": {},
   "outputs": [
    {
     "name": "stdout",
     "output_type": "stream",
     "text": [
      "None\n"
     ]
    }
   ],
   "source": [
    "print(x)"
   ]
  },
  {
   "cell_type": "code",
   "execution_count": 6,
   "id": "54f364f9-da4b-468d-b0a5-97f499062e4c",
   "metadata": {},
   "outputs": [
    {
     "data": {
      "text/plain": [
       "NoneType"
      ]
     },
     "execution_count": 6,
     "metadata": {},
     "output_type": "execute_result"
    }
   ],
   "source": [
    "type(x) # x'e değer atanmamış çünkü yukarıda tanımladığımız fonksiyon bir şey döndürmüyor.Üstte tanımladığımız fonksiyon sadece print ediyor."
   ]
  },
  {
   "cell_type": "code",
   "execution_count": 7,
   "id": "af306bd4-ad16-43bc-82f5-580129c94bb2",
   "metadata": {},
   "outputs": [],
   "source": [
    "def return_summation(num1,num2,num3):\n",
    "    return num1+num2+num3 # 3 sayıyı toplayan fonksiyon. Bu sefer print yapmak yerine sonucu return olarak döndürüyoruz."
   ]
  },
  {
   "cell_type": "code",
   "execution_count": 8,
   "id": "9146c160-1f46-4c50-bafa-f6962181852d",
   "metadata": {},
   "outputs": [
    {
     "data": {
      "text/plain": [
       "15"
      ]
     },
     "execution_count": 8,
     "metadata": {},
     "output_type": "execute_result"
    }
   ],
   "source": [
    "return_summation(10,2,3) # return ile işlem yapıp ekrana yazdırdık."
   ]
  },
  {
   "cell_type": "code",
   "execution_count": 9,
   "id": "d98f1613-c066-41ff-80bf-091cac310e3a",
   "metadata": {},
   "outputs": [],
   "source": [
    "x = return_summation(10,2,3) # bir değere atadık. "
   ]
  },
  {
   "cell_type": "code",
   "execution_count": 10,
   "id": "7d63eefe-9d08-409b-921d-daba61101e90",
   "metadata": {},
   "outputs": [
    {
     "data": {
      "text/plain": [
       "15"
      ]
     },
     "execution_count": 10,
     "metadata": {},
     "output_type": "execute_result"
    }
   ],
   "source": [
    "x # bu sefer değer çalışır çünkü biz bu değeri return ile döndürdük ve atadık.."
   ]
  },
  {
   "cell_type": "code",
   "execution_count": 11,
   "id": "77b0bf03-97ce-41b4-879c-ef2821773569",
   "metadata": {},
   "outputs": [],
   "source": [
    "def summation(num1,num2,num3): # işlemi hem döndürüp hem de print ettik.\n",
    "    result = num1+num2+num3\n",
    "    print(result)\n",
    "    return(result) #print'i return'dan önce yazma sebebimiz return dedikten sonra o fonksiyonun iş biter sonrası çalışmaz."
   ]
  },
  {
   "cell_type": "code",
   "execution_count": 12,
   "id": "1757fde3-0d10-404b-8c83-1c67e1319f9d",
   "metadata": {},
   "outputs": [],
   "source": [
    "x = return_summation(10,2,3) # hem pritn edip hem de return'ledi."
   ]
  },
  {
   "cell_type": "code",
   "execution_count": 13,
   "id": "1c9945bc-9dc7-4ea5-a59d-3be170267bc9",
   "metadata": {},
   "outputs": [
    {
     "data": {
      "text/plain": [
       "15"
      ]
     },
     "execution_count": 13,
     "metadata": {},
     "output_type": "execute_result"
    }
   ],
   "source": [
    "x"
   ]
  },
  {
   "cell_type": "code",
   "execution_count": 18,
   "id": "8c4c96a0-9f35-421c-a4c5-60bd5aebb251",
   "metadata": {},
   "outputs": [],
   "source": [
    "def control_string(s):\n",
    "    if s[0] == \"a\": # ilk eleman a ise ekrana yazdırsın.\n",
    "        print(\"a\")"
   ]
  },
  {
   "cell_type": "code",
   "execution_count": 19,
   "id": "e3d0f66c-7a89-49b3-abff-7b59a5e0a167",
   "metadata": {},
   "outputs": [
    {
     "name": "stdout",
     "output_type": "stream",
     "text": [
      "a\n"
     ]
    }
   ],
   "source": [
    "control_string(\"atlas\") #ilk elemanı a olduğu için ekrana yazdırdı."
   ]
  },
  {
   "cell_type": "code",
   "execution_count": 20,
   "id": "1a267406-ec97-41e5-bd37-7bb2c1b24fb0",
   "metadata": {},
   "outputs": [],
   "source": [
    "control_string(\"mel\") # a ile başlamadığı için hiçbir şey yazdırmaz."
   ]
  },
  {
   "cell_type": "markdown",
   "id": "8f05eac5-afec-4b97-8edb-a01f014b6799",
   "metadata": {},
   "source": [
    "args(arguments), kwargs(key word arguments) int, string vs. İstediğim kadar argüman versin dersem args'ı kullanabilirim. args, birden fazla eleman almak için kullanılan yöntemdir. kwargs'lar çift yıldız ile kullanılır, argüman oolarak keyword veriyoruz."
   ]
  },
  {
   "cell_type": "code",
   "execution_count": 21,
   "id": "a4370b2e-630f-44bd-9aab-cc3329779a3c",
   "metadata": {},
   "outputs": [],
   "source": [
    "def args_sum(*args): # *args yazarsak bu istediğimiz kadar değişkeni toplar.\n",
    "    return sum(args) #sum toplama fonksiyonudur. Burada * yazmamıza egerk yok."
   ]
  },
  {
   "cell_type": "code",
   "execution_count": 22,
   "id": "7ce2f79b-c784-4d8f-a1fd-ba8b35b931dc",
   "metadata": {},
   "outputs": [
    {
     "data": {
      "text/plain": [
       "231"
      ]
     },
     "execution_count": 22,
     "metadata": {},
     "output_type": "execute_result"
    }
   ],
   "source": [
    "args_sum(10,29,4,67,89,32) # args olarak tanımladığımız için istediğimiz kadar değişken yazıp toplayabiliriz."
   ]
  },
  {
   "cell_type": "code",
   "execution_count": 23,
   "id": "fa1db57e-af28-46bb-9c87-24dcf013da36",
   "metadata": {},
   "outputs": [],
   "source": [
    "def args_example(*args): # args değişkenine eleman atayacağımızı anladık.\n",
    "    print(args) "
   ]
  },
  {
   "cell_type": "code",
   "execution_count": 24,
   "id": "6319911d-23ab-42ec-a2e0-3bc4609e3094",
   "metadata": {},
   "outputs": [
    {
     "name": "stdout",
     "output_type": "stream",
     "text": [
      "(123.443, 54, 654, 87, 6543)\n"
     ]
    }
   ],
   "source": [
    "args_example(123.443,54,654,87,6543) # args sayesinde istenilen kadar eleman yazılabilir bunlar tuple içerisinde tutulur."
   ]
  },
  {
   "cell_type": "code",
   "execution_count": 25,
   "id": "c32c6f5a-6d54-451c-849b-93e458f3095f",
   "metadata": {},
   "outputs": [],
   "source": [
    "def kwargs_example(**kwargs): # kwargs çif ** (yıldız) ile kullanılır.\n",
    "    print(kwargs) #kwargs ile argüman olarak keyword verebiliyoruz."
   ]
  },
  {
   "cell_type": "code",
   "execution_count": 26,
   "id": "70faffb3-3ed0-41e2-b5e9-254eee2c4533",
   "metadata": {},
   "outputs": [
    {
     "name": "stdout",
     "output_type": "stream",
     "text": [
      "{'apple': 19, 'banan': 157, 'melon': 536}\n"
     ]
    }
   ],
   "source": [
    "kwargs_example(apple=19, banan=157, melon=536) # keywords'ler şekilinde yazıyoruz. Kwargs bize dictionary şeklinde veriliyor. "
   ]
  },
  {
   "cell_type": "code",
   "execution_count": 27,
   "id": "9ffcb3a2-095e-485c-84b8-5c5c91ff493a",
   "metadata": {},
   "outputs": [],
   "source": [
    "def kwargs_example_2(**kwargs):\n",
    "    if \"apple\" in kwargs: #verilen keywordlerde apple adlı keyword var ise\n",
    "        print(\"apple HERE!\")\n",
    "    else:\n",
    "        print(\":(\")"
   ]
  },
  {
   "cell_type": "code",
   "execution_count": 28,
   "id": "c29d05d9-e5cd-4b5a-8ec1-cc79cf62135f",
   "metadata": {},
   "outputs": [
    {
     "name": "stdout",
     "output_type": "stream",
     "text": [
      "apple HERE!\n"
     ]
    }
   ],
   "source": [
    "kwargs_example_2(apple=18, banan=67) #apple keyword olduğu için apple here yazdırdı."
   ]
  },
  {
   "cell_type": "code",
   "execution_count": 29,
   "id": "9f86b40c-e504-4c93-9eea-32bd2b4006e7",
   "metadata": {},
   "outputs": [
    {
     "name": "stdout",
     "output_type": "stream",
     "text": [
      ":(\n"
     ]
    }
   ],
   "source": [
    "kwargs_example_2(banana=17) # apple keywordü olmadığı için olmayan mesajı verir."
   ]
  },
  {
   "cell_type": "code",
   "execution_count": 1,
   "id": "c710f044-c6c4-4938-bd57-ad3a88d9e073",
   "metadata": {},
   "outputs": [],
   "source": [
    "def usselIslem(x=5,y=3):\n",
    "    print(x ** y) # üs alma islemi x üs y olur."
   ]
  },
  {
   "cell_type": "code",
   "execution_count": 2,
   "id": "ceda8a9a-34be-4179-850d-7b094de5b169",
   "metadata": {},
   "outputs": [
    {
     "name": "stdout",
     "output_type": "stream",
     "text": [
      "16\n"
     ]
    }
   ],
   "source": [
    "usselIslem(2,4)"
   ]
  },
  {
   "cell_type": "code",
   "execution_count": null,
   "id": "85803fe8-206b-47ba-a5a3-69eba3adf019",
   "metadata": {},
   "outputs": [],
   "source": []
  }
 ],
 "metadata": {
  "kernelspec": {
   "display_name": "Python 3 (ipykernel)",
   "language": "python",
   "name": "python3"
  },
  "language_info": {
   "codemirror_mode": {
    "name": "ipython",
    "version": 3
   },
   "file_extension": ".py",
   "mimetype": "text/x-python",
   "name": "python",
   "nbconvert_exporter": "python",
   "pygments_lexer": "ipython3",
   "version": "3.11.9"
  }
 },
 "nbformat": 4,
 "nbformat_minor": 5
}
