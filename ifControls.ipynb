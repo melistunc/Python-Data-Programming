{
 "cells": [
  {
   "cell_type": "code",
   "execution_count": 1,
   "id": "6c1ab304-7d80-4d23-8910-8a6c41f85370",
   "metadata": {},
   "outputs": [],
   "source": [
    "x = 5\n",
    "y = 2"
   ]
  },
  {
   "cell_type": "code",
   "execution_count": 2,
   "id": "b89952e4-0bf1-4e8f-8811-d5e2a0a8cd8b",
   "metadata": {},
   "outputs": [
    {
     "data": {
      "text/plain": [
       "True"
      ]
     },
     "execution_count": 2,
     "metadata": {},
     "output_type": "execute_result"
    }
   ],
   "source": [
    "x > y"
   ]
  },
  {
   "cell_type": "code",
   "execution_count": 4,
   "id": "fe3b4c40-d870-4512-8967-2c80600c0bce",
   "metadata": {},
   "outputs": [
    {
     "data": {
      "text/plain": [
       "False"
      ]
     },
     "execution_count": 4,
     "metadata": {},
     "output_type": "execute_result"
    }
   ],
   "source": [
    "x < y"
   ]
  },
  {
   "cell_type": "code",
   "execution_count": 5,
   "id": "65e61919-7a41-4049-902a-5e5290f36cd2",
   "metadata": {},
   "outputs": [],
   "source": [
    "y = 5"
   ]
  },
  {
   "cell_type": "code",
   "execution_count": 6,
   "id": "6b15f76d-a3bc-4c3a-8f0f-0a549e42caa9",
   "metadata": {},
   "outputs": [
    {
     "data": {
      "text/plain": [
       "True"
      ]
     },
     "execution_count": 6,
     "metadata": {},
     "output_type": "execute_result"
    }
   ],
   "source": [
    "x >= y # x ile y aynı olduğu için."
   ]
  },
  {
   "cell_type": "code",
   "execution_count": 7,
   "id": "e3a82bd5-6eb1-4b48-8a5f-e79bce40c9cc",
   "metadata": {},
   "outputs": [
    {
     "data": {
      "text/plain": [
       "True"
      ]
     },
     "execution_count": 7,
     "metadata": {},
     "output_type": "execute_result"
    }
   ],
   "source": [
    "x <= y"
   ]
  },
  {
   "cell_type": "code",
   "execution_count": 8,
   "id": "88d06014-4dfb-45ac-ad60-cfa25a83733c",
   "metadata": {},
   "outputs": [
    {
     "data": {
      "text/plain": [
       "True"
      ]
     },
     "execution_count": 8,
     "metadata": {},
     "output_type": "execute_result"
    }
   ],
   "source": [
    "x >= 5.0"
   ]
  },
  {
   "cell_type": "code",
   "execution_count": 9,
   "id": "cc377faa-278c-42b3-9905-a1727ef16825",
   "metadata": {},
   "outputs": [
    {
     "data": {
      "text/plain": [
       "False"
      ]
     },
     "execution_count": 9,
     "metadata": {},
     "output_type": "execute_result"
    }
   ],
   "source": [
    "x >= 5.000001 # x 5'e eşit."
   ]
  },
  {
   "cell_type": "code",
   "execution_count": 10,
   "id": "5fdf05e6-6db6-4ae2-9758-6a070fa319d4",
   "metadata": {},
   "outputs": [],
   "source": [
    "x = 10\n",
    "y = 8"
   ]
  },
  {
   "cell_type": "code",
   "execution_count": 11,
   "id": "55e90d36-6a19-4e3b-97e4-14b445f538bc",
   "metadata": {},
   "outputs": [],
   "source": [
    "x = y # bu x'in değerini y yap demektir."
   ]
  },
  {
   "cell_type": "code",
   "execution_count": 12,
   "id": "f3769005-ad78-4dc5-a5bf-26a132dafdb0",
   "metadata": {},
   "outputs": [
    {
     "data": {
      "text/plain": [
       "8"
      ]
     },
     "execution_count": 12,
     "metadata": {},
     "output_type": "execute_result"
    }
   ],
   "source": [
    "x # 8 oldu."
   ]
  },
  {
   "cell_type": "code",
   "execution_count": 13,
   "id": "3e584814-cf96-49f4-87ac-75f209fb6b81",
   "metadata": {},
   "outputs": [],
   "source": [
    "x = 10"
   ]
  },
  {
   "cell_type": "code",
   "execution_count": 14,
   "id": "e8d916ab-e46b-478b-9ce0-66b29a6fc2cc",
   "metadata": {},
   "outputs": [
    {
     "data": {
      "text/plain": [
       "False"
      ]
     },
     "execution_count": 14,
     "metadata": {},
     "output_type": "execute_result"
    }
   ],
   "source": [
    "x == y #iki tane eşit koyarsak eşit mi? kontrol ediyoruz.Birbirine eşit mi diye sorduk."
   ]
  },
  {
   "cell_type": "code",
   "execution_count": 15,
   "id": "16246151-4ec8-454f-b13c-740751d070c9",
   "metadata": {},
   "outputs": [
    {
     "data": {
      "text/plain": [
       "True"
      ]
     },
     "execution_count": 15,
     "metadata": {},
     "output_type": "execute_result"
    }
   ],
   "source": [
    "x != y # ünlem işareti değildir demektir. X eşit değil midir y'ye?"
   ]
  },
  {
   "cell_type": "code",
   "execution_count": 16,
   "id": "814a94c6-acac-4726-90da-4f661e228ee0",
   "metadata": {},
   "outputs": [
    {
     "data": {
      "text/plain": [
       "True"
      ]
     },
     "execution_count": 16,
     "metadata": {},
     "output_type": "execute_result"
    }
   ],
   "source": [
    "2 > 1 and 3 > 2 # and dediğimiz zaman sol ve sağ taraftaki koşul doğru olmak zorundadır."
   ]
  },
  {
   "cell_type": "code",
   "execution_count": 17,
   "id": "dc60c676-41a8-487e-90a3-9c18599339d8",
   "metadata": {},
   "outputs": [
    {
     "data": {
      "text/plain": [
       "False"
      ]
     },
     "execution_count": 17,
     "metadata": {},
     "output_type": "execute_result"
    }
   ],
   "source": [
    "2 > 1 and 3 < 2 # ikisinden biri true değilse false döndürür."
   ]
  },
  {
   "cell_type": "code",
   "execution_count": 18,
   "id": "31d437a0-0c34-4684-b8fb-01b934d2b613",
   "metadata": {},
   "outputs": [
    {
     "data": {
      "text/plain": [
       "True"
      ]
     },
     "execution_count": 18,
     "metadata": {},
     "output_type": "execute_result"
    }
   ],
   "source": [
    "True and True"
   ]
  },
  {
   "cell_type": "code",
   "execution_count": 19,
   "id": "2f66656b-9e7a-49ff-9252-8a4e8a083262",
   "metadata": {},
   "outputs": [
    {
     "data": {
      "text/plain": [
       "False"
      ]
     },
     "execution_count": 19,
     "metadata": {},
     "output_type": "execute_result"
    }
   ],
   "source": [
    "True and False"
   ]
  },
  {
   "cell_type": "code",
   "execution_count": 20,
   "id": "927dd99f-9374-4dc2-8c93-b3aa76852d57",
   "metadata": {},
   "outputs": [
    {
     "data": {
      "text/plain": [
       "False"
      ]
     },
     "execution_count": 20,
     "metadata": {},
     "output_type": "execute_result"
    }
   ],
   "source": [
    "False and False"
   ]
  },
  {
   "cell_type": "code",
   "execution_count": 21,
   "id": "ae2267a9-b7da-4895-bb95-ee6162b54a06",
   "metadata": {},
   "outputs": [
    {
     "data": {
      "text/plain": [
       "True"
      ]
     },
     "execution_count": 21,
     "metadata": {},
     "output_type": "execute_result"
    }
   ],
   "source": [
    "2 > 1 or 3 < 2 # bir tarafın doğru olması yeterlidir."
   ]
  },
  {
   "cell_type": "code",
   "execution_count": 22,
   "id": "58daff28-9781-40b1-abef-f988fa66fba8",
   "metadata": {},
   "outputs": [
    {
     "data": {
      "text/plain": [
       "False"
      ]
     },
     "execution_count": 22,
     "metadata": {},
     "output_type": "execute_result"
    }
   ],
   "source": [
    "1 > 4 or 8 > 10 # iki tarafta false olursa false döner."
   ]
  },
  {
   "cell_type": "code",
   "execution_count": 23,
   "id": "3a05cabf-7bc1-491f-a87b-b50e09bfd942",
   "metadata": {},
   "outputs": [
    {
     "data": {
      "text/plain": [
       "True"
      ]
     },
     "execution_count": 23,
     "metadata": {},
     "output_type": "execute_result"
    }
   ],
   "source": [
    "True or True"
   ]
  },
  {
   "cell_type": "code",
   "execution_count": 24,
   "id": "37cfc66a-5926-40c0-b9a5-8f443702fb3a",
   "metadata": {},
   "outputs": [
    {
     "data": {
      "text/plain": [
       "True"
      ]
     },
     "execution_count": 24,
     "metadata": {},
     "output_type": "execute_result"
    }
   ],
   "source": [
    "True or False"
   ]
  },
  {
   "cell_type": "code",
   "execution_count": 25,
   "id": "cda5ee17-ea0d-4e69-a612-8e63db989a27",
   "metadata": {},
   "outputs": [
    {
     "data": {
      "text/plain": [
       "False"
      ]
     },
     "execution_count": 25,
     "metadata": {},
     "output_type": "execute_result"
    }
   ],
   "source": [
    "False or False"
   ]
  },
  {
   "cell_type": "markdown",
   "id": "f64342d9-6541-4b3c-8055-3f73fedfd80c",
   "metadata": {},
   "source": [
    "not, direkt olumsuzluk belirtir. Durumu tersine çevirir."
   ]
  },
  {
   "cell_type": "code",
   "execution_count": 26,
   "id": "fbf5e548-8d64-4587-9119-d8183493c642",
   "metadata": {},
   "outputs": [
    {
     "data": {
      "text/plain": [
       "False"
      ]
     },
     "execution_count": 26,
     "metadata": {},
     "output_type": "execute_result"
    }
   ],
   "source": [
    "not 1 == 1 # yani artık 1, 1'e eşit değil."
   ]
  },
  {
   "cell_type": "markdown",
   "id": "749a91ac-3a8e-4971-a435-4a207232186f",
   "metadata": {},
   "source": [
    "in ile bir şeyin içinde var mı? sorusunu sorarız."
   ]
  },
  {
   "cell_type": "code",
   "execution_count": 27,
   "id": "706200fe-ab16-44fc-ba24-a4f492ea3b61",
   "metadata": {},
   "outputs": [
    {
     "data": {
      "text/plain": [
       "True"
      ]
     },
     "execution_count": 27,
     "metadata": {},
     "output_type": "execute_result"
    }
   ],
   "source": [
    "10 in [10, 29, 26] # 10, bunun içinde var mı?"
   ]
  },
  {
   "cell_type": "markdown",
   "id": "70fd4607-eb14-49e0-b985-43c79675fa14",
   "metadata": {},
   "source": [
    "not in, içinde yok mu? sorusunu sorar."
   ]
  },
  {
   "cell_type": "code",
   "execution_count": 28,
   "id": "1b64b3e9-7ca6-4280-a040-ff55a89458a2",
   "metadata": {},
   "outputs": [
    {
     "data": {
      "text/plain": [
       "True"
      ]
     },
     "execution_count": 28,
     "metadata": {},
     "output_type": "execute_result"
    }
   ],
   "source": [
    "5 not in [10, 29, 26] # 5, bunun içinde yok mu?"
   ]
  },
  {
   "cell_type": "markdown",
   "id": "b566cb33-0fd6-4f96-bdbe-a13f37b35455",
   "metadata": {},
   "source": [
    "list'te, set'te, tuple'da in ve not in kullanılabilir. Dictionary'de kullanılamaz. Şöyle kullanılabilir:"
   ]
  },
  {
   "cell_type": "code",
   "execution_count": 29,
   "id": "36601594-743b-490d-a522-66d7cc30583f",
   "metadata": {},
   "outputs": [],
   "source": [
    "my_dictionary = {\"a\":10, \"b\":20, \"c\":30}"
   ]
  },
  {
   "cell_type": "code",
   "execution_count": 30,
   "id": "fe76ae91-92e5-44db-8789-dfd54ab536de",
   "metadata": {},
   "outputs": [
    {
     "data": {
      "text/plain": [
       "True"
      ]
     },
     "execution_count": 30,
     "metadata": {},
     "output_type": "execute_result"
    }
   ],
   "source": [
    "10 in my_dictionary.values() # value'ler içinde 10 var mı? şeklinde kullanılır dict'te."
   ]
  },
  {
   "cell_type": "code",
   "execution_count": 31,
   "id": "d5af42dc-c4f7-486b-a208-0ed403cb4043",
   "metadata": {},
   "outputs": [
    {
     "data": {
      "text/plain": [
       "True"
      ]
     },
     "execution_count": 31,
     "metadata": {},
     "output_type": "execute_result"
    }
   ],
   "source": [
    "\"b\" in my_dictionary.keys() # key'ler içinde b var mı? (dictionary)"
   ]
  },
  {
   "cell_type": "code",
   "execution_count": 32,
   "id": "6d2ef209-d1ef-4c27-86b2-4a239e2459ad",
   "metadata": {},
   "outputs": [
    {
     "data": {
      "text/plain": [
       "True"
      ]
     },
     "execution_count": 32,
     "metadata": {},
     "output_type": "execute_result"
    }
   ],
   "source": [
    "10 in (10,20,30) # tuple kullanımı."
   ]
  },
  {
   "cell_type": "code",
   "execution_count": 1,
   "id": "e6645c61-ef4a-4fd8-ac04-3354019ab91a",
   "metadata": {},
   "outputs": [],
   "source": [
    "my_superhero = \"Batman\""
   ]
  },
  {
   "cell_type": "code",
   "execution_count": 2,
   "id": "46552d13-5f8d-4121-a274-0c0d39c88e9a",
   "metadata": {},
   "outputs": [
    {
     "data": {
      "text/plain": [
       "True"
      ]
     },
     "execution_count": 2,
     "metadata": {},
     "output_type": "execute_result"
    }
   ],
   "source": [
    "my_superhero == \"Batman\" #kahramanım batman mi diye sorduk. "
   ]
  },
  {
   "cell_type": "code",
   "execution_count": 3,
   "id": "260bcb1b-0258-4c35-951f-183f9c64a994",
   "metadata": {},
   "outputs": [
    {
     "data": {
      "text/plain": [
       "False"
      ]
     },
     "execution_count": 3,
     "metadata": {},
     "output_type": "execute_result"
    }
   ],
   "source": [
    "my_superhero == \"superman\""
   ]
  },
  {
   "cell_type": "code",
   "execution_count": 4,
   "id": "8efe57ad-ec76-48ff-b672-b0a532ed9228",
   "metadata": {},
   "outputs": [
    {
     "name": "stdout",
     "output_type": "stream",
     "text": [
      "batmann\n",
      "melfox lvve\n"
     ]
    }
   ],
   "source": [
    "if my_superhero == \"Batman\": # eğer bu satır true olursa alt kısım çalışır. \n",
    "    #indentation (boşluk)\n",
    "    print(\"batmann\")\n",
    "    print(\"melfox lvve\")\n",
    "\n",
    "#batman superhero olduğu için burası true döner ve printler çalışır."
   ]
  },
  {
   "cell_type": "code",
   "execution_count": 5,
   "id": "2055fbcc-7ee2-4948-aadc-59ea9e5fc3ad",
   "metadata": {},
   "outputs": [],
   "source": [
    "if my_superhero == \"superman\": #superhero batman olacak superman değil.\n",
    "    #indentation (boşluk)\n",
    "    print(\"batmann\")\n",
    "    print(\"melfox lvve\")\n",
    "\n",
    "# if bloğu false olduğu için print kısmı çalışmadı. Ekrana yazdırmadı."
   ]
  },
  {
   "cell_type": "code",
   "execution_count": 6,
   "id": "c8e17e5d-4b14-414a-86cc-2339770f1499",
   "metadata": {},
   "outputs": [
    {
     "name": "stdout",
     "output_type": "stream",
     "text": [
      "hello python\n"
     ]
    }
   ],
   "source": [
    "if my_superhero == \"superman\":\n",
    "    #indentation (boşluk)\n",
    "    print(\"batmann\")\n",
    "    print(\"melfox lvve\")\n",
    "\n",
    "print(\"hello python\") #bu kısım if ile alakalı değildir. Bağımsızdır."
   ]
  },
  {
   "cell_type": "code",
   "execution_count": 7,
   "id": "13761fe5-90f0-403a-8aae-1b1334ca19bb",
   "metadata": {},
   "outputs": [
    {
     "name": "stdout",
     "output_type": "stream",
     "text": [
      "hello world\n",
      "kkkk\n"
     ]
    }
   ],
   "source": [
    "if 3 > 2:\n",
    "    print(\"hello world\")\n",
    "    print(\"kkkk\")"
   ]
  },
  {
   "cell_type": "code",
   "execution_count": 8,
   "id": "40daec80-ea15-4203-8100-88efe0950518",
   "metadata": {},
   "outputs": [],
   "source": [
    "if 3 < 2:\n",
    "    print(\"hello world\")\n",
    "    print(\"kkkk\")"
   ]
  },
  {
   "cell_type": "code",
   "execution_count": 13,
   "id": "280d3361-62b1-4ab2-be72-a5547fda6dea",
   "metadata": {},
   "outputs": [
    {
     "name": "stdin",
     "output_type": "stream",
     "text": [
      "enter superhero: catwoman\n"
     ]
    }
   ],
   "source": [
    "my_superhero = input(\"enter superhero:\") #artık mysuperhero'ya catwoman kayıtlı."
   ]
  },
  {
   "cell_type": "code",
   "execution_count": 12,
   "id": "0d5c597c-cfb6-44eb-99b5-c16144c4e29e",
   "metadata": {},
   "outputs": [
    {
     "name": "stdout",
     "output_type": "stream",
     "text": [
      "catwoman\n"
     ]
    }
   ],
   "source": [
    "if my_superhero == \"catwoman\":\n",
    "    print(\"catwoman\")\n",
    "elif my_superhero == \"batman\":\n",
    "    print(\"batman\")\n",
    "elif my_superhero == \"mr.penguin\":\n",
    "    print(\"blackwidow\")\n",
    "elif my_superhero == \"flash\":\n",
    "    print(\"flash\")\n",
    "else:\n",
    "    print(\":(\") #hiçbiri çalışmazsa burası çalışacak. Yani girilen değer yukarıdakilerden biri değilse buraya gelir.\n",
    "#catwoman olduğu için dışarıdan girilen kahraman catwoman ekrana yazıldı."
   ]
  },
  {
   "cell_type": "code",
   "execution_count": 23,
   "id": "2b458c9e-d275-4a79-90b6-5547937876c0",
   "metadata": {},
   "outputs": [],
   "source": [
    "my_age = 12"
   ]
  },
  {
   "cell_type": "code",
   "execution_count": 24,
   "id": "6b849f3a-b121-4aef-9cb1-7e4e71f96e41",
   "metadata": {},
   "outputs": [
    {
     "name": "stdout",
     "output_type": "stream",
     "text": [
      "age is not limitted\n"
     ]
    }
   ],
   "source": [
    "if my_age < 18:\n",
    "    print(\"age is not limitted\") # 18'den küçük olunca çalışır.\n",
    "elif my_age >= 18 and my_age <= 30: \n",
    "    print(\"age is limitted\") # 18-30 arasında çalışır.\n",
    "else:\n",
    "    print(\"age is max limitted\") #30'dan büyük olunca çalışır."
   ]
  },
  {
   "cell_type": "code",
   "execution_count": 25,
   "id": "2b88fb26-a520-4634-9d14-8e84b206e509",
   "metadata": {},
   "outputs": [
    {
     "name": "stdin",
     "output_type": "stream",
     "text": [
      "enter superhero: spiderman\n"
     ]
    }
   ],
   "source": [
    "my_superhero = input(\"enter superhero:\") "
   ]
  },
  {
   "cell_type": "code",
   "execution_count": 26,
   "id": "9c3f1eb0-4b42-49e9-9869-a29834bc8d78",
   "metadata": {},
   "outputs": [],
   "source": [
    "my_superhero_list = [\"spiderman\",\"thor\",\"iron man\",\"hulk\",\"captain america\",\"black widow\"]"
   ]
  },
  {
   "cell_type": "code",
   "execution_count": 27,
   "id": "95dad0e2-eea5-480d-8bfb-f2eeced47311",
   "metadata": {},
   "outputs": [
    {
     "name": "stdout",
     "output_type": "stream",
     "text": [
      "avengers completed!\n"
     ]
    }
   ],
   "source": [
    "if my_superhero in my_superhero_list: #mysuperhero, mysuperherolist içinde var ise\n",
    "    print(\"avengers completed!\") #inputtan girdiğimiz değer listede varsa. \n",
    "else:\n",
    "    print(\"you're not avenger!\") #inputtan girdiğimiz değer listede yoksa.\n",
    "#spiderman liste içinde olduğu için ilk satır çalışır.."
   ]
  },
  {
   "cell_type": "code",
   "execution_count": null,
   "id": "04376ae0-569d-4931-818a-452a10667786",
   "metadata": {},
   "outputs": [],
   "source": [
    " "
   ]
  }
 ],
 "metadata": {
  "kernelspec": {
   "display_name": "Python 3 (ipykernel)",
   "language": "python",
   "name": "python3"
  },
  "language_info": {
   "codemirror_mode": {
    "name": "ipython",
    "version": 3
   },
   "file_extension": ".py",
   "mimetype": "text/x-python",
   "name": "python",
   "nbconvert_exporter": "python",
   "pygments_lexer": "ipython3",
   "version": "3.11.9"
  }
 },
 "nbformat": 4,
 "nbformat_minor": 5
}
