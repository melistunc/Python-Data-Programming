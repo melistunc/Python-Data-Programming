{
 "cells": [
  {
   "cell_type": "code",
   "execution_count": 1,
   "id": "1c5650b2-45e8-443e-90e5-9f79c861395b",
   "metadata": {},
   "outputs": [],
   "source": [
    "def divide_number(number):\n",
    "    return number / 2 # number değişkenini 2 ile bölüp return ile döndürdük."
   ]
  },
  {
   "cell_type": "code",
   "execution_count": 2,
   "id": "a91244bb-9331-4541-85be-33861cb70be5",
   "metadata": {},
   "outputs": [
    {
     "data": {
      "text/plain": [
       "10.0"
      ]
     },
     "execution_count": 2,
     "metadata": {},
     "output_type": "execute_result"
    }
   ],
   "source": [
    "divide_number(20)"
   ]
  },
  {
   "cell_type": "code",
   "execution_count": 3,
   "id": "e8d8a93b-da0e-4c02-ba84-46c9c2a28511",
   "metadata": {},
   "outputs": [],
   "source": [
    "myList = [3,5,7,10,20,30] #bunları ikiye bölüp yeni bir listeye kaydetmek istiyoruz."
   ]
  },
  {
   "cell_type": "code",
   "execution_count": 4,
   "id": "f295f2c1-f55a-48ea-8e2c-27ffe066ae0b",
   "metadata": {},
   "outputs": [
    {
     "name": "stdout",
     "output_type": "stream",
     "text": [
      "[1.5, 2.5, 3.5, 5.0, 10.0, 15.0]\n"
     ]
    }
   ],
   "source": [
    "myResultList = [] # boş liste\n",
    "for num in myList: # myList'tekileri num değişkenine aktardık.\n",
    "    myResultList.append(divide_number(num)) #myResulList içine divide_number fonksiyonunu parametre ile beraber atadık.Parametresinde myList elemanları vardır.\n",
    "#yukarıda oluşturduğumuz fonksiyonu boş bir listeye önceden tanımladığımız değerli listeyi aktararak oluşturduk.\n",
    "print(myResultList) \n",
    "# resultList'e aktardığımız (myList'ten) değerleri önceden tanımladığımız fonksiyon ile (önceden tanımladığımız fonksiyonu resulList'e append'ledik) değerleri ikiye böldü."
   ]
  },
  {
   "cell_type": "markdown",
   "id": "ab259dde-0ae3-4161-b514-814d267720fb",
   "metadata": {},
   "source": [
    "map, bir koleksiyonu alıp ona bazı işlemler uygulayıp farklı halini yeni bir koleksiyona kaydediyor. map bir sınıftır, fonksiyon değildir. map'e fonksiyonu ve koleksiyonu verirsek bize objeleri tek tek haritalıyor (o fonksiyonu bizim için içerisine uyguluyor.)"
   ]
  },
  {
   "cell_type": "code",
   "execution_count": 7,
   "id": "529b8eac-3520-49fa-b400-5222201560eb",
   "metadata": {},
   "outputs": [
    {
     "data": {
      "text/plain": [
       "<map at 0x1c2e3ce7700>"
      ]
     },
     "execution_count": 7,
     "metadata": {},
     "output_type": "execute_result"
    }
   ],
   "source": [
    "map(divide_number, myList) # mylist içerisindeki elemanları tek tek divide number'a uyguluyor.\n",
    "#uyguladıktan sonra aşağıdaki hafızaya kaydediyor. Bunu bir liste veya koleksiyona çevirmem lazım."
   ]
  },
  {
   "cell_type": "code",
   "execution_count": 8,
   "id": "997c26ea-2b8d-4289-ba0a-f886760cb6e4",
   "metadata": {},
   "outputs": [
    {
     "data": {
      "text/plain": [
       "[1.5, 2.5, 3.5, 5.0, 10.0, 15.0]"
      ]
     },
     "execution_count": 8,
     "metadata": {},
     "output_type": "execute_result"
    }
   ],
   "source": [
    " list(map(divide_number, myList)) # map'i list haline getirdi. Yani mylist içindeki elemanları divide_number fonksiyonuna uygulatıp (ikiye böldürüp tek tek tüm elemanları) ekrana yazdırıyor."
   ]
  },
  {
   "cell_type": "code",
   "execution_count": 9,
   "id": "c1f1b876-aa4d-4053-a883-10dff1f4621d",
   "metadata": {},
   "outputs": [],
   "source": [
    "def controlString(string):\n",
    "    return \"mel\" in string #string içinde mel geçiyor mu kontrol ettiriyoruz."
   ]
  },
  {
   "cell_type": "code",
   "execution_count": 11,
   "id": "b0a26963-7cee-414a-b80a-059dfe3ba64e",
   "metadata": {},
   "outputs": [
    {
     "data": {
      "text/plain": [
       "True"
      ]
     },
     "execution_count": 11,
     "metadata": {},
     "output_type": "execute_result"
    }
   ],
   "source": [
    "controlString(\"mel foxlve\") #içinde mel geçtiği için true dedi."
   ]
  },
  {
   "cell_type": "code",
   "execution_count": 12,
   "id": "337208b0-c454-4463-aaa8-d9a11b0d16aa",
   "metadata": {},
   "outputs": [
    {
     "data": {
      "text/plain": [
       "False"
      ]
     },
     "execution_count": 12,
     "metadata": {},
     "output_type": "execute_result"
    }
   ],
   "source": [
    "controlString(\"foxlve\") #içinde mel olmadığı için false der."
   ]
  },
  {
   "cell_type": "code",
   "execution_count": 15,
   "id": "2534cb4e-46be-405b-b7b4-492fe2df47df",
   "metadata": {},
   "outputs": [],
   "source": [
    "myStringList = [\"blackswan\",\"coraline\",\"matrix\",\"meltwilight\"]"
   ]
  },
  {
   "cell_type": "code",
   "execution_count": 16,
   "id": "29932d35-cd61-469d-94b7-a170c60d3a61",
   "metadata": {},
   "outputs": [
    {
     "data": {
      "text/plain": [
       "[False, False, False, True]"
      ]
     },
     "execution_count": 16,
     "metadata": {},
     "output_type": "execute_result"
    }
   ],
   "source": [
    "list(map(controlString,myStringList)) #mystringlist'i controlstringte uyguluyoruz. mystringlistte controlstringte yaptığımız fonksiyona göre mel stringi geçiyor mu geçmiyor mu sonucunda cevap verip kontrol ediyor."
   ]
  },
  {
   "cell_type": "markdown",
   "id": "5d83e000-bc15-491b-8b25-a230f4e486aa",
   "metadata": {},
   "source": [
    "filter, koleksiyondaki verileri filtreleyip sadece istediklerimiz bize gösteren fonksiyondur."
   ]
  },
  {
   "cell_type": "code",
   "execution_count": 17,
   "id": "23ecba75-403f-4a76-bccc-9491a86e41c7",
   "metadata": {},
   "outputs": [
    {
     "data": {
      "text/plain": [
       "['meltwilight']"
      ]
     },
     "execution_count": 17,
     "metadata": {},
     "output_type": "execute_result"
    }
   ],
   "source": [
    "list(filter(controlString,myStringList))#sadece mel geçenleri tutmak isteseydik.(sadece true olanları tut)\n",
    "#mystinglist içindekileri controlstring içinde filtreledik ve sadece mel olanları listeledik baştaki list sayesinde."
   ]
  },
  {
   "cell_type": "markdown",
   "id": "62472a7a-626a-4b36-bf0d-63b547ca8ece",
   "metadata": {},
   "source": [
    "lambda, tek satırda sonradan kullanmamıza gerek kalmayacak fonksiyonlardır. ikiyle çarpma fonksiyonu gibi"
   ]
  },
  {
   "cell_type": "code",
   "execution_count": 18,
   "id": "5e2a0034-8a2e-47ee-80a9-47901490b93d",
   "metadata": {},
   "outputs": [],
   "source": [
    "multiplyLambda = lambda num : num * 3 # sana bir numara verirse o numarayı 3 ile çarp diyoruz.\n",
    "#tek satırda yaptık."
   ]
  },
  {
   "cell_type": "code",
   "execution_count": 19,
   "id": "3a83236d-8bf8-4a99-b053-45f1aa87075a",
   "metadata": {},
   "outputs": [
    {
     "data": {
      "text/plain": [
       "function"
      ]
     },
     "execution_count": 19,
     "metadata": {},
     "output_type": "execute_result"
    }
   ],
   "source": [
    "type(multiplyLambda) # bir fonksiyondur lambda sayesinde."
   ]
  },
  {
   "cell_type": "code",
   "execution_count": 20,
   "id": "07cca03e-fe9d-4592-b5f0-78018b990407",
   "metadata": {},
   "outputs": [
    {
     "data": {
      "text/plain": [
       "60"
      ]
     },
     "execution_count": 20,
     "metadata": {},
     "output_type": "execute_result"
    }
   ],
   "source": [
    "multiplyLambda(20) # 20 ile çarpıldı. "
   ]
  },
  {
   "cell_type": "code",
   "execution_count": 21,
   "id": "0d3f2384-b3a1-4dea-b3eb-06ab35d74afb",
   "metadata": {},
   "outputs": [],
   "source": [
    "reslut = multiplyLambda(10)"
   ]
  },
  {
   "cell_type": "code",
   "execution_count": 22,
   "id": "04f6961a-f808-4bae-b182-5143102e4f79",
   "metadata": {},
   "outputs": [
    {
     "data": {
      "text/plain": [
       "30"
      ]
     },
     "execution_count": 22,
     "metadata": {},
     "output_type": "execute_result"
    }
   ],
   "source": [
    "reslut # sonucu geri de döndürüyor."
   ]
  },
  {
   "cell_type": "code",
   "execution_count": 23,
   "id": "7d280779-4254-440f-9bd3-9e8e99b5a070",
   "metadata": {},
   "outputs": [],
   "source": [
    "numList = [10,20,30,40] #bunşarı tek satırda 4'e bölmek istiyoruz."
   ]
  },
  {
   "cell_type": "code",
   "execution_count": 24,
   "id": "1b59e743-9724-40eb-b385-b63e5a6320bc",
   "metadata": {},
   "outputs": [
    {
     "data": {
      "text/plain": [
       "[2.5, 5.0, 7.5, 10.0]"
      ]
     },
     "execution_count": 24,
     "metadata": {},
     "output_type": "execute_result"
    }
   ],
   "source": [
    "list(map(lambda num:num/4,numList)) # tek satırda numlist içindekileri map içinde lambda fonksiyonuyla 4'e bölüp listeledi."
   ]
  },
  {
   "cell_type": "markdown",
   "id": "a55107f2-ab6e-4c95-a688-234eb3a942f9",
   "metadata": {},
   "source": [
    "scope (kapsam), her şeyin tanımaldığı bir kapsam var."
   ]
  },
  {
   "cell_type": "code",
   "execution_count": 26,
   "id": "73bd2b3e-93e3-41e2-8cc4-fc10a286cfbd",
   "metadata": {},
   "outputs": [],
   "source": [
    "x = 20 #burası fonksiyon dışında olan bir kapsamdır.\n",
    "def multiply(num):\n",
    "    x = 5 # bu fonksiyon içinde olan bir kapsamdır. Fonksiyon çalıştırılırken bu kısım çalıştırılır.\n",
    "    return num * x "
   ]
  },
  {
   "cell_type": "code",
   "execution_count": 28,
   "id": "9a2b43dd-a3a5-4f44-9089-ac8bb20ce6d3",
   "metadata": {},
   "outputs": [
    {
     "data": {
      "text/plain": [
       "50"
      ]
     },
     "execution_count": 28,
     "metadata": {},
     "output_type": "execute_result"
    }
   ],
   "source": [
    "multiply(10)"
   ]
  },
  {
   "cell_type": "code",
   "execution_count": 29,
   "id": "38f1462f-adda-4d4d-a52b-1a02fbf65026",
   "metadata": {},
   "outputs": [
    {
     "name": "stdout",
     "output_type": "stream",
     "text": [
      "20\n"
     ]
    }
   ],
   "source": [
    "print(x)"
   ]
  },
  {
   "cell_type": "code",
   "execution_count": 31,
   "id": "1a350420-863d-4537-be44-8fb7314fbeb5",
   "metadata": {},
   "outputs": [],
   "source": [
    "x = 20 \n",
    "def multiply(num):\n",
    "    x = 5 # kapsma içinde fonksiyon içinde burası fonksiyon için geçerlidir.\n",
    "    return num * x \n",
    "x = 10 # x kapsam dışında fakat burası en son tanımlanmış "
   ]
  },
  {
   "cell_type": "code",
   "execution_count": 32,
   "id": "6dd2bb0c-6d33-4cf3-951e-725c403b5557",
   "metadata": {},
   "outputs": [
    {
     "data": {
      "text/plain": [
       "10"
      ]
     },
     "execution_count": 32,
     "metadata": {},
     "output_type": "execute_result"
    }
   ],
   "source": [
    "x"
   ]
  },
  {
   "cell_type": "code",
   "execution_count": 33,
   "id": "db7124cf-63c8-47b4-aff9-b5b99642a17d",
   "metadata": {},
   "outputs": [
    {
     "data": {
      "text/plain": [
       "50"
      ]
     },
     "execution_count": 33,
     "metadata": {},
     "output_type": "execute_result"
    }
   ],
   "source": [
    "multiply(10)"
   ]
  },
  {
   "cell_type": "code",
   "execution_count": 34,
   "id": "127258cb-4a31-41d1-b44b-ef76e7a2c7fe",
   "metadata": {},
   "outputs": [],
   "source": [
    "x = 20  #burada kapsam içinde x tanımlanmamıştır kapsamda x yoktur burayı karar olarak alıp fonksiyon için çalıştırır.\n",
    "def multiply(num):\n",
    "    return num * x "
   ]
  },
  {
   "cell_type": "code",
   "execution_count": 35,
   "id": "dd2236de-3272-42e6-8d98-f86753ff0501",
   "metadata": {},
   "outputs": [
    {
     "data": {
      "text/plain": [
       "200"
      ]
     },
     "execution_count": 35,
     "metadata": {},
     "output_type": "execute_result"
    }
   ],
   "source": [
    "multiply(10)"
   ]
  },
  {
   "cell_type": "markdown",
   "id": "5fcf68bf-a499-42b2-919c-13e68a01d949",
   "metadata": {},
   "source": [
    "LEGB, bu duruma karar veren mekanizmadır. L:local E:enclosing G:global B:built in. "
   ]
  },
  {
   "cell_type": "code",
   "execution_count": 38,
   "id": "13f9a51c-645f-437e-bdc8-9cc33c10ef32",
   "metadata": {},
   "outputs": [],
   "source": [
    "my_string = \"mel\"\n",
    "\n",
    "def myFunction():\n",
    "    my_string = \"mel2\"\n",
    "\n",
    "    def myFunction2(): # myfunction2'yi myfunction içinde çağırabilirim.\n",
    "        my_string = \"mel3\"\n",
    "        print(my_string)\n",
    "        \n",
    "    myFunction2() #myfunction2'yi çalıştırıyoruz.\n"
   ]
  },
  {
   "cell_type": "code",
   "execution_count": 39,
   "id": "3a4e1443-9356-4def-b1cf-74c25bc92e26",
   "metadata": {},
   "outputs": [
    {
     "data": {
      "text/plain": [
       "'mel'"
      ]
     },
     "execution_count": 39,
     "metadata": {},
     "output_type": "execute_result"
    }
   ],
   "source": [
    "my_string "
   ]
  },
  {
   "cell_type": "code",
   "execution_count": 40,
   "id": "56a307bb-e460-43f8-b9e8-b71bfd0d036e",
   "metadata": {},
   "outputs": [
    {
     "name": "stdout",
     "output_type": "stream",
     "text": [
      "mel3\n"
     ]
    }
   ],
   "source": [
    "myFunction() # myfunction çalıştırılınca myunction2 çalıştı çünkü yukarıda myfunction2 çalıştırıldı."
   ]
  },
  {
   "cell_type": "code",
   "execution_count": 44,
   "id": "4995e20e-f4d2-4b30-b0a3-b05ce6ed2bc3",
   "metadata": {},
   "outputs": [],
   "source": [
    "#global\n",
    "my_string = \"mel\"\n",
    "\n",
    "def myFunction():\n",
    "    #enclosing\n",
    "    my_string = \"mel2\"\n",
    "    print(my_string)\n",
    "    def myFunction2(): # myfunction2'yi myfunction içinde çağırabilirim.\n",
    "        #local\n",
    "        my_string = \"mel3\"\n",
    "        print(my_string)\n",
    "        \n",
    "    myFunction2() #myfunction2'yi çalıştırıyoruz.\n"
   ]
  },
  {
   "cell_type": "markdown",
   "id": "34a8b8a1-fa4f-42c2-925b-5e756a8fd695",
   "metadata": {},
   "source": [
    "ilk önce local'e bakıyor my_string var mı diye eğer yoksa enclosing'e bakıyor var mı diye eğer orda da yoksa global'daki my_string'e bakıyor eğer orda da yoksa built yani genel olarak print var mı bakıyor eğer orda da yoksa hata veriyor. "
   ]
  },
  {
   "cell_type": "code",
   "execution_count": 45,
   "id": "c610cd94-0020-4ad1-a886-cbbd3c2b47a1",
   "metadata": {},
   "outputs": [
    {
     "data": {
      "text/plain": [
       "'mel'"
      ]
     },
     "execution_count": 45,
     "metadata": {},
     "output_type": "execute_result"
    }
   ],
   "source": [
    "my_string"
   ]
  },
  {
   "cell_type": "code",
   "execution_count": 46,
   "id": "192d6bfb-4040-44a7-b7fe-288f63b521ed",
   "metadata": {},
   "outputs": [
    {
     "name": "stdout",
     "output_type": "stream",
     "text": [
      "mel2\n",
      "mel3\n"
     ]
    }
   ],
   "source": [
    "myFunction() # myFunction ve myFunction iki çalıştırıldı. myfunction2 myfunction içerisindedir."
   ]
  },
  {
   "cell_type": "code",
   "execution_count": 47,
   "id": "34215f65-dc51-4ee9-b0b3-f031932b4dfe",
   "metadata": {},
   "outputs": [],
   "source": [
    "#global\n",
    "my_string = \"mel\"\n",
    "\n",
    "def myFunction():\n",
    "    #enclosing\n",
    "    my_string = \"mel2\"\n",
    "    print(my_string)\n",
    "    def myFunction2():\n",
    "        #local\n",
    "        #my_string = \"mel3\"\n",
    "        print(my_string)\n",
    "        \n",
    "    myFunction2() "
   ]
  },
  {
   "cell_type": "code",
   "execution_count": 48,
   "id": "00a7d17c-a0d3-4fbf-bd4b-02684db23876",
   "metadata": {},
   "outputs": [
    {
     "data": {
      "text/plain": [
       "'mel'"
      ]
     },
     "execution_count": 48,
     "metadata": {},
     "output_type": "execute_result"
    }
   ],
   "source": [
    "my_string"
   ]
  },
  {
   "cell_type": "code",
   "execution_count": 49,
   "id": "a612b936-a067-4a2f-9964-4540369a1405",
   "metadata": {},
   "outputs": [
    {
     "name": "stdout",
     "output_type": "stream",
     "text": [
      "mel2\n",
      "mel2\n"
     ]
    }
   ],
   "source": [
    "myFunction()  #ikinci function'da mysting olmadığı için myFunction'daki mystring'i yazdırıyor. Her iki function(Function1 ve Function2) mel2 yazdırıyor. enclosing'e geçiyor."
   ]
  },
  {
   "cell_type": "code",
   "execution_count": 50,
   "id": "8abc203d-988d-4031-a0aa-6c6c30107c7d",
   "metadata": {},
   "outputs": [],
   "source": [
    "#global\n",
    "my_string = \"mel\"\n",
    "\n",
    "def myFunction():\n",
    "    #enclosing\n",
    "   #my_string = \"mel2\"\n",
    "    print(my_string)\n",
    "    def myFunction2():\n",
    "        #local\n",
    "        #my_string = \"mel3\"\n",
    "        print(my_string)\n",
    "        \n",
    "    myFunction2() "
   ]
  },
  {
   "cell_type": "code",
   "execution_count": 51,
   "id": "00774200-7c4a-45ba-8a2b-43b1926b4831",
   "metadata": {},
   "outputs": [
    {
     "name": "stdout",
     "output_type": "stream",
     "text": [
      "mel\n",
      "mel\n"
     ]
    }
   ],
   "source": [
    "myFunction() # her iki function da mel yazdırır global'e geçer. iki function içinde de mystring olmadığı için."
   ]
  },
  {
   "cell_type": "code",
   "execution_count": 52,
   "id": "4eb128bf-57f0-4354-aa49-c8ab7e219936",
   "metadata": {},
   "outputs": [],
   "source": [
    "# global'den sonra bakınca da mystring bulamazsa built'e bakar yoksa hata verir."
   ]
  },
  {
   "cell_type": "code",
   "execution_count": 3,
   "id": "7cdca5d4-f033-4077-852c-71a1b0550fdb",
   "metadata": {},
   "outputs": [],
   "source": [
    "myVariable = 10 #değişken. değişken burada tanımlanırsa her iki fonksiyonu da kapsar.\n",
    "def test1(): # test1 fonksiyonu\n",
    "    print(myVariable * 2) # değişkeni 2 ile çarp.\n",
    "    \n",
    "def test2(): # test2 fonksiyonu\n",
    "    print(myVariable * 3) # değişkeni 3 ile çarptık."
   ]
  },
  {
   "cell_type": "code",
   "execution_count": 4,
   "id": "2638a660-bf3a-41c8-9bbb-6ee16b6311a2",
   "metadata": {},
   "outputs": [
    {
     "name": "stdout",
     "output_type": "stream",
     "text": [
      "20\n"
     ]
    }
   ],
   "source": [
    "test1() # test1 çalıştı. değişken her iki fonksiyonu da kapsar."
   ]
  },
  {
   "cell_type": "code",
   "execution_count": 5,
   "id": "6ecedc11-2504-4b3d-aae6-ec6c6653c113",
   "metadata": {},
   "outputs": [
    {
     "name": "stdout",
     "output_type": "stream",
     "text": [
      "30\n"
     ]
    }
   ],
   "source": [
    "test2() #test2 çalıştı."
   ]
  },
  {
   "cell_type": "code",
   "execution_count": 6,
   "id": "e557a156-bed9-48bd-9031-9ae023f5300d",
   "metadata": {},
   "outputs": [],
   "source": [
    "def test1(): # test1 fonksiyonu\n",
    "    myX = 10 \n",
    "    print(myX * 2) # değişkeni 2 ile çarp.\n",
    "    \n",
    "def test2(): # test2 fonksiyonu\n",
    "    print(myX * 3) # değişkeni 3 ile çarptık."
   ]
  },
  {
   "cell_type": "code",
   "execution_count": 7,
   "id": "519695ed-4ec8-4cae-83b7-29186e75a6e0",
   "metadata": {},
   "outputs": [
    {
     "name": "stdout",
     "output_type": "stream",
     "text": [
      "20\n"
     ]
    }
   ],
   "source": [
    "test1() #test1 çalışır değişken test1'i kapsar."
   ]
  },
  {
   "cell_type": "code",
   "execution_count": 8,
   "id": "17da61cc-411e-4316-a5d9-95dacb9bfded",
   "metadata": {},
   "outputs": [
    {
     "ename": "NameError",
     "evalue": "name 'myX' is not defined",
     "output_type": "error",
     "traceback": [
      "\u001b[1;31m---------------------------------------------------------------------------\u001b[0m",
      "\u001b[1;31mNameError\u001b[0m                                 Traceback (most recent call last)",
      "Cell \u001b[1;32mIn[8], line 1\u001b[0m\n\u001b[1;32m----> 1\u001b[0m test2()\n",
      "Cell \u001b[1;32mIn[6], line 6\u001b[0m, in \u001b[0;36mtest2\u001b[1;34m()\u001b[0m\n\u001b[0;32m      5\u001b[0m \u001b[38;5;28;01mdef\u001b[39;00m \u001b[38;5;21mtest2\u001b[39m(): \u001b[38;5;66;03m# test2 fonksiyonu\u001b[39;00m\n\u001b[1;32m----> 6\u001b[0m     \u001b[38;5;28mprint\u001b[39m(myX \u001b[38;5;241m*\u001b[39m \u001b[38;5;241m3\u001b[39m)\n",
      "\u001b[1;31mNameError\u001b[0m: name 'myX' is not defined"
     ]
    }
   ],
   "source": [
    "test2() #test2 çalışmaz çünkü değşiken test2 kapsamında değildir."
   ]
  },
  {
   "cell_type": "code",
   "execution_count": 11,
   "id": "af788af2-d7c9-4a67-9886-1efcd3f2aeef",
   "metadata": {},
   "outputs": [],
   "source": [
    "y = 10 # y değişkeni 10 atadık\n",
    "def new_fun(y): # yeni fonksiyon parametresi y \n",
    "    print(y) # y'yi yazdırdık.\n",
    "    y = 5 # y'ye yeni değer atadık.\n",
    "    print(y)\n",
    "    return y # y'yi döndürdük."
   ]
  },
  {
   "cell_type": "code",
   "execution_count": 12,
   "id": "a2b75078-8d4e-4f99-aa43-60833e76ee0c",
   "metadata": {},
   "outputs": [
    {
     "name": "stdout",
     "output_type": "stream",
     "text": [
      "10\n",
      "5\n"
     ]
    },
    {
     "data": {
      "text/plain": [
       "5"
      ]
     },
     "execution_count": 12,
     "metadata": {},
     "output_type": "execute_result"
    }
   ],
   "source": [
    "new_fun(10) # ilk önce ilk print(y)'deki y'yi yazdırdı. Sonra y 'yi 5'e eşitledi ve onu da ikinci print(y) ile ekrana yazdırdı (5). En sonda return y ile y'yi ekrana döndürdü sondaki 5."
   ]
  },
  {
   "cell_type": "code",
   "execution_count": 13,
   "id": "91a50a84-4ae8-4c0b-bcf8-09d1ea33bd38",
   "metadata": {},
   "outputs": [
    {
     "data": {
      "text/plain": [
       "10"
      ]
     },
     "execution_count": 13,
     "metadata": {},
     "output_type": "execute_result"
    }
   ],
   "source": [
    "y # y değeri 10 kalmıştır. Değişmemiştir. Y kapsam dahilinde değildir."
   ]
  },
  {
   "cell_type": "code",
   "execution_count": 14,
   "id": "0c3c5498-498a-4e22-a7dc-4f62141c082c",
   "metadata": {},
   "outputs": [],
   "source": [
    "y = 10\n",
    "\n",
    "def change_y():\n",
    "    global y #bunun anlamı global olarak (yukarıda )tanımladığım y'yi kullanacağım kapsam içinde.\n",
    "    y = 5\n",
    "    print(y)"
   ]
  },
  {
   "cell_type": "code",
   "execution_count": 15,
   "id": "c048b309-68b3-44d6-b82e-edd0ce1fa414",
   "metadata": {},
   "outputs": [
    {
     "name": "stdout",
     "output_type": "stream",
     "text": [
      "5\n"
     ]
    }
   ],
   "source": [
    "change_y() # yukarıda tanımladığımız y (10) kapsam içine girdi (global ile) sonra y'nin değeri 5 ile değiştirildi, y 5 oldu. Sonra y ekrana yazdırıldı. Fonksiyon ile y yazıldı."
   ]
  },
  {
   "cell_type": "code",
   "execution_count": 16,
   "id": "08c06c0f-fbbc-44ff-a2f6-1a6e87e06f36",
   "metadata": {},
   "outputs": [
    {
     "data": {
      "text/plain": [
       "5"
      ]
     },
     "execution_count": 16,
     "metadata": {},
     "output_type": "execute_result"
    }
   ],
   "source": [
    "y # y direkt fonksiyonsuz olarak yazılırsa da degismis hali olarak yazılır çünkü global yaparak üstteki y'yi kapsama almıştık değeri böyle değişebiliyor."
   ]
  },
  {
   "cell_type": "code",
   "execution_count": null,
   "id": "65a4ba81-7fc8-4418-995f-826416cf8c59",
   "metadata": {},
   "outputs": [],
   "source": []
  }
 ],
 "metadata": {
  "kernelspec": {
   "display_name": "Python 3 (ipykernel)",
   "language": "python",
   "name": "python3"
  },
  "language_info": {
   "codemirror_mode": {
    "name": "ipython",
    "version": 3
   },
   "file_extension": ".py",
   "mimetype": "text/x-python",
   "name": "python",
   "nbconvert_exporter": "python",
   "pygments_lexer": "ipython3",
   "version": "3.11.9"
  }
 },
 "nbformat": 4,
 "nbformat_minor": 5
}
