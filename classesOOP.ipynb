{
 "cells": [
  {
   "cell_type": "code",
   "execution_count": 1,
   "id": "d7c84b38-f919-4f49-830e-cf76356439d4",
   "metadata": {},
   "outputs": [],
   "source": [
    "melName = \"mel\""
   ]
  },
  {
   "cell_type": "code",
   "execution_count": 2,
   "id": "77ad27f3-1810-41db-8012-0b19f07d11cb",
   "metadata": {},
   "outputs": [],
   "source": [
    "melAge = 22"
   ]
  },
  {
   "cell_type": "code",
   "execution_count": 3,
   "id": "554dff84-20b9-4f94-ad15-daab7c13f9b2",
   "metadata": {},
   "outputs": [],
   "source": [
    "melHeight = 164"
   ]
  },
  {
   "cell_type": "code",
   "execution_count": 4,
   "id": "a5af790f-27df-4d3b-8985-e886be8edffc",
   "metadata": {},
   "outputs": [],
   "source": [
    "foxName = \"fox\""
   ]
  },
  {
   "cell_type": "code",
   "execution_count": 5,
   "id": "d7616929-c5ca-4215-b33f-f6c06d1c5e14",
   "metadata": {},
   "outputs": [],
   "source": [
    "foxAge = 22"
   ]
  },
  {
   "cell_type": "code",
   "execution_count": 6,
   "id": "0fb75c7b-7c4d-4b75-83d8-20f4e63d6795",
   "metadata": {},
   "outputs": [],
   "source": [
    "foxHeight = 180"
   ]
  },
  {
   "cell_type": "markdown",
   "id": "bacb506a-09c4-4334-a19a-7e7f5cacb63e",
   "metadata": {},
   "source": [
    "sınıflar, yapacagımız kodları daha yapısal daha okunaklı ve düzgün şekilde yazmamıza olanak sağlıyorlar. Sınıflar genellikle büyük harfle tanımlanır."
   ]
  },
  {
   "cell_type": "code",
   "execution_count": 7,
   "id": "a123e15a-1444-4d51-a961-ddb572ae4914",
   "metadata": {},
   "outputs": [],
   "source": [
    "class Person():# sınıf adı çalıştırma parantezi. Büyük harfle kullanılır. class ile sınıf tanımlanır.\n",
    "    name =\"\" # name değişkeni tanımladık. İçi boş."
   ]
  },
  {
   "cell_type": "code",
   "execution_count": 10,
   "id": "f8073db5-ba82-41d8-9d3c-97069182bd96",
   "metadata": {},
   "outputs": [],
   "source": [
    "mel = Person () # mel bir Person'dır diyebiliyoruz. mel'i Person sınıfı içine aldık."
   ]
  },
  {
   "cell_type": "code",
   "execution_count": 11,
   "id": "d47487ba-a4b6-46d8-a6c9-d01129914a9f",
   "metadata": {},
   "outputs": [
    {
     "data": {
      "text/plain": [
       "__main__.Person"
      ]
     },
     "execution_count": 11,
     "metadata": {},
     "output_type": "execute_result"
    }
   ],
   "source": [
    "type(mel) # main içinde Person sınıfında olan bir obje olduğunu görüyoruz."
   ]
  },
  {
   "cell_type": "code",
   "execution_count": 12,
   "id": "ad2eb7e1-e714-4e9f-977a-7d83f4518621",
   "metadata": {},
   "outputs": [
    {
     "data": {
      "text/plain": [
       "''"
      ]
     },
     "execution_count": 12,
     "metadata": {},
     "output_type": "execute_result"
    }
   ],
   "source": [
    "mel.name # mel tab yaparsak sadece name gelir çünkü sınıf içinde sadece name özelliğini koymuştuk."
   ]
  },
  {
   "cell_type": "code",
   "execution_count": 21,
   "id": "4cbdc65a-5e2c-4c71-8463-da63133ac21a",
   "metadata": {},
   "outputs": [],
   "source": [
    "class Person():\n",
    "    name =\"\"\n",
    "    age = 0\n",
    "    height = 0"
   ]
  },
  {
   "cell_type": "code",
   "execution_count": 22,
   "id": "8c2a435f-6919-4ac5-b235-5ad5d8eef548",
   "metadata": {},
   "outputs": [],
   "source": [
    "mel = Person() # mel Person class'ı içinde bir objedir."
   ]
  },
  {
   "cell_type": "code",
   "execution_count": 23,
   "id": "a7e9add7-b83d-4b0d-8075-bae3785a2a96",
   "metadata": {},
   "outputs": [],
   "source": [
    "mel.age\n",
    "mel.name \n",
    "mel.height\n",
    "pass\n",
    "# burada Person içinde hem age hem de name tanımlamıştık. Ve mel'i Person içinde obje olarak almıştık. mel. tab yaparsak Person içinde tanımladığımız değişkenleri mel için kullanabiliyoruz."
   ]
  },
  {
   "cell_type": "code",
   "execution_count": 24,
   "id": "7be9bbc2-5122-49cb-ae12-027d55c9142f",
   "metadata": {},
   "outputs": [],
   "source": [
    "mel.age = 22  # mel age artık 22 olarak kayıt edildi."
   ]
  },
  {
   "cell_type": "code",
   "execution_count": 25,
   "id": "dc3be31e-7cde-4f1b-82bf-f4f241f4806b",
   "metadata": {},
   "outputs": [],
   "source": [
    "mel.name = \"melfoxi\" # mel name melfoxie olarak kayıt edildi."
   ]
  },
  {
   "cell_type": "code",
   "execution_count": 26,
   "id": "67f8d9be-2dcb-4f74-b0af-820a3f6da351",
   "metadata": {},
   "outputs": [
    {
     "data": {
      "text/plain": [
       "22"
      ]
     },
     "execution_count": 26,
     "metadata": {},
     "output_type": "execute_result"
    }
   ],
   "source": [
    "mel.age #kayıt edilmiş."
   ]
  },
  {
   "cell_type": "code",
   "execution_count": 20,
   "id": "88ffd3be-703d-492a-836c-f56c5716fae3",
   "metadata": {},
   "outputs": [
    {
     "data": {
      "text/plain": [
       "'melfoxi'"
      ]
     },
     "execution_count": 20,
     "metadata": {},
     "output_type": "execute_result"
    }
   ],
   "source": [
    "mel.name # kayıt edilmiş."
   ]
  },
  {
   "cell_type": "code",
   "execution_count": 30,
   "id": "fccd9100-9e08-4ce4-9054-2ce90de4fbc7",
   "metadata": {},
   "outputs": [],
   "source": [
    "class Person(): #burada height'ı özel fonksiyon yapmak istiyoruz.\n",
    "    name =\"\"\n",
    "    age = 0\n",
    "    height = 0\n",
    "\n",
    "    # methood, initializer\n",
    "    def __init__(self):# özel fonksiyonlar __dss__ şeklinde yazılır. Sınıf içinde bir metot tanımlıyorsak init içine self keyword'ünü koymamız gerekiyor.\n",
    "    print(\"init executed\")"
   ]
  },
  {
   "cell_type": "markdown",
   "id": "3484063a-49b9-4968-8d0a-db0da51227c7",
   "metadata": {},
   "source": [
    "init (initializer), ilk defa oluşturup değer atamak."
   ]
  },
  {
   "cell_type": "code",
   "execution_count": 31,
   "id": "07da78e0-0a22-46aa-a536-33de34c8e90c",
   "metadata": {},
   "outputs": [
    {
     "name": "stdout",
     "output_type": "stream",
     "text": [
      "init executed\n"
     ]
    }
   ],
   "source": [
    "mel = Person() # yukarıda tanımladığımız init fonkiyonu her bir obje oluşturulduğunda çağırılacak."
   ]
  },
  {
   "cell_type": "code",
   "execution_count": 33,
   "id": "5e68caa9-b07e-43af-9b07-e5be36dea4a1",
   "metadata": {},
   "outputs": [
    {
     "name": "stdout",
     "output_type": "stream",
     "text": [
      "init executed\n"
     ]
    }
   ],
   "source": [
    "melfox = Person() # ne yazarsak yazalım bir obje oluşturulurken tanımladığımız init fonksiyonu oluşturulacak."
   ]
  },
  {
   "cell_type": "code",
   "execution_count": 34,
   "id": "de5eafb9-1107-4b78-adb2-d289d46c2783",
   "metadata": {},
   "outputs": [
    {
     "data": {
      "text/plain": [
       "__main__.Person"
      ]
     },
     "execution_count": 34,
     "metadata": {},
     "output_type": "execute_result"
    }
   ],
   "source": [
    "type(mel) # mel bir person"
   ]
  },
  {
   "cell_type": "code",
   "execution_count": 35,
   "id": "b92e1bf2-bff7-4644-be7a-ed4847afd296",
   "metadata": {},
   "outputs": [
    {
     "data": {
      "text/plain": [
       "__main__.Person"
      ]
     },
     "execution_count": 35,
     "metadata": {},
     "output_type": "execute_result"
    }
   ],
   "source": [
    "type(melfox) #melfox bir person."
   ]
  },
  {
   "cell_type": "code",
   "execution_count": 72,
   "id": "d6da30b9-917b-4248-947d-f91e7ef15429",
   "metadata": {},
   "outputs": [],
   "source": [
    "class Person(): #burada name, age ve height'ı özel fonksiyon yapmak istiyoruz.\n",
    "    #property\n",
    "    name =\"\"\n",
    "    age = 0\n",
    "    height = 0 # bu name, age,height kısmını da yazmamıza gerek yok çünkü altta self ile zaten referans kendiliğinden ediliyor. self, bu sınıfın name ile ilgili özelliğini olacağını anlar.\n",
    "    job = \"\" # değişken olsun ama girmek zorunlu olmasın ama değiştire de bileyim. \n",
    "\n",
    "    #initializer method\n",
    "    def __init__(self,name,age,height):# özel fonksiyonlar __dss__ şeklinde yazılır. Sınıf içinde bir metot tanımlıyorsak init içine self keyword'ünü koymamız gerekiyor. init parametresine name, height, age ekleyerek bunları çalıştıran kişiye vermesini zorunlu kılabiliriz. \n",
    "       self.name = name # self.name yukarıdaki name, eşittir sağındaki name init'teki name'dir.\n",
    "       self.age = age\n",
    "       self.height = height #self yukarıdan referans ediyor. dışarıdan gelecek değişkenleri init fonksiyonu ile zorunlu tutar. \n",
    "\n",
    "    #method\n",
    "    def PrintName(self):\n",
    "        print(self.name) # dışarıdan girilen zorunlu name'i göstermek istiyoruz bu yüzden self.name deriz.\n",
    "\n",
    "#burada init içindeki değişkenlerin başına self yazmamızın sebebi self'in class'ın kendisine referans verdiği(sınıftaki değişkenlere referans olduğu). self.age vs dediğimizde  class içindeki name age height'a referans vereceğini ve bu sınıfta oluşturulan objenin bu özellikleri değiştireceğini söylüyor.\n",
    "# yeni fonksiyon oluştursak bile self olarak argüman alırız.\n",
    "# zorunlu tuttuğumuz değişkenler: name,age,height; zorunlu tutmadıklarımız:job"
   ]
  },
  {
   "cell_type": "code",
   "execution_count": 38,
   "id": "30d34271-7d31-48ba-8f6a-85c05c48c069",
   "metadata": {},
   "outputs": [
    {
     "ename": "TypeError",
     "evalue": "Person.__init__() missing 3 required positional arguments: 'nameInput', 'ageInput', and 'heightInput'",
     "output_type": "error",
     "traceback": [
      "\u001b[1;31m---------------------------------------------------------------------------\u001b[0m",
      "\u001b[1;31mTypeError\u001b[0m                                 Traceback (most recent call last)",
      "Cell \u001b[1;32mIn[38], line 1\u001b[0m\n\u001b[1;32m----> 1\u001b[0m mel \u001b[38;5;241m=\u001b[39m Person ()\n",
      "\u001b[1;31mTypeError\u001b[0m: Person.__init__() missing 3 required positional arguments: 'nameInput', 'ageInput', and 'heightInput'"
     ]
    }
   ],
   "source": [
    "mel = Person () # burada hata mesajını görüyoruz. Bize diyor ki name age height girmek zorundasın. (yukarıda yaptımğımız init fonksiyonu sayesinde)."
   ]
  },
  {
   "cell_type": "code",
   "execution_count": 63,
   "id": "11ff87fc-5b5b-4346-9fe2-e12995fe8978",
   "metadata": {},
   "outputs": [],
   "source": [
    "mel = Person(\"melf\",\"23\",\"165\") # zorunlu olarak belirttiği değişkenleri giriyoruz."
   ]
  },
  {
   "cell_type": "code",
   "execution_count": 64,
   "id": "f2ca93d9-781f-4097-a330-adc844a14bbe",
   "metadata": {},
   "outputs": [
    {
     "data": {
      "text/plain": [
       "'melf'"
      ]
     },
     "execution_count": 64,
     "metadata": {},
     "output_type": "execute_result"
    }
   ],
   "source": [
    "mel.name #name çağırdığımızda girdiğimiz name gelir."
   ]
  },
  {
   "cell_type": "code",
   "execution_count": 65,
   "id": "4620aeea-db85-4936-99a8-4753263c6657",
   "metadata": {},
   "outputs": [
    {
     "data": {
      "text/plain": [
       "'23'"
      ]
     },
     "execution_count": 65,
     "metadata": {},
     "output_type": "execute_result"
    }
   ],
   "source": [
    "mel.age"
   ]
  },
  {
   "cell_type": "code",
   "execution_count": 66,
   "id": "43f0b926-7881-4848-b2ed-9ca91a2e8eaa",
   "metadata": {},
   "outputs": [
    {
     "data": {
      "text/plain": [
       "'165'"
      ]
     },
     "execution_count": 66,
     "metadata": {},
     "output_type": "execute_result"
    }
   ],
   "source": [
    "mel.height"
   ]
  },
  {
   "cell_type": "code",
   "execution_count": 67,
   "id": "00e1e19e-e56e-4631-abc8-8c91d0f8e9af",
   "metadata": {},
   "outputs": [],
   "source": [
    "## mel.test() # test fonksiyonunu mel objesine aktardık. artık mel objesinin çalıştırabileceği bir metot vardır."
   ]
  },
  {
   "cell_type": "code",
   "execution_count": 68,
   "id": "f2319f3e-f734-46bc-990f-c0cee7f57e00",
   "metadata": {},
   "outputs": [
    {
     "name": "stdout",
     "output_type": "stream",
     "text": [
      "melf\n"
     ]
    }
   ],
   "source": [
    "mel.PrintName() #printName fonksiyonu tanımlamıştık. self.name'i print etmesini istemiştik bu sayede dışaırdan girilen input name 'i görürüz."
   ]
  },
  {
   "cell_type": "code",
   "execution_count": 70,
   "id": "e0f44801-a865-4d29-aeb6-44a2c20a677f",
   "metadata": {},
   "outputs": [],
   "source": [
    "mel.job = \"developer\" # dışarıdan girdik değiştire de biliriz. Zorunlu tutulmaıd."
   ]
  },
  {
   "cell_type": "code",
   "execution_count": 71,
   "id": "cd125733-248c-48eb-9adf-cf5b8b99b11b",
   "metadata": {},
   "outputs": [
    {
     "data": {
      "text/plain": [
       "'developer'"
      ]
     },
     "execution_count": 71,
     "metadata": {},
     "output_type": "execute_result"
    }
   ],
   "source": [
    "mel.job # job kayıt edildi."
   ]
  },
  {
   "cell_type": "code",
   "execution_count": 79,
   "id": "50593884-312f-4452-ba7e-413467829230",
   "metadata": {},
   "outputs": [],
   "source": [
    "#kedinin yasını insan yasındaki karşılığını bulmak istiyorum.\n",
    "# 1.YÖNTEM:\n",
    "class Cat (): # cat sınıfı.\n",
    "    year = 7 #belki 7 yerine başka sayı da girebiliriz.\n",
    "    \n",
    "    def __init__(self,age): #init zorunluluk fonksiyonu. age zorunlu tutuldu.\n",
    "        self.age = age # self ile input age init age'e eşitlendi. \n",
    "    def humanAge(self):\n",
    "        return self.age * Cat.year # kedinin yaşı ile self.year'i çarpıp döndürecek. self.year class içindeki değişkenden referans alındı. self.year yerine Cat.year de yazabiliriz.(class'tan referans alındığı için)"
   ]
  },
  {
   "cell_type": "code",
   "execution_count": 80,
   "id": "b5c739b4-f1ec-457f-adad-9003f573edd2",
   "metadata": {},
   "outputs": [],
   "source": [
    "myCat = Cat(2) # mycat, cat sınıfı içinde obje olarak tanımlanıp değişkeni girildi."
   ]
  },
  {
   "cell_type": "code",
   "execution_count": 81,
   "id": "5746b987-731a-4013-8460-77dd9aedfe0f",
   "metadata": {},
   "outputs": [
    {
     "data": {
      "text/plain": [
       "2"
      ]
     },
     "execution_count": 81,
     "metadata": {},
     "output_type": "execute_result"
    }
   ],
   "source": [
    "myCat.age # değişken kayıt edildi."
   ]
  },
  {
   "cell_type": "code",
   "execution_count": 82,
   "id": "e24f55b7-a867-429e-8cb5-9909b2391e2b",
   "metadata": {},
   "outputs": [
    {
     "data": {
      "text/plain": [
       "14"
      ]
     },
     "execution_count": 82,
     "metadata": {},
     "output_type": "execute_result"
    }
   ],
   "source": [
    "myCat.humanAge() # fonksiyon çalıştı. "
   ]
  },
  {
   "cell_type": "markdown",
   "id": "b03cad1c-74de-4649-a5cc-2b63066a80ca",
   "metadata": {},
   "source": [
    "init, class'tan obje oluşturulduğunda çağırılacak mettottur."
   ]
  },
  {
   "cell_type": "code",
   "execution_count": 96,
   "id": "14a48a10-c4f7-4f19-8ac0-e02eb471dcfd",
   "metadata": {},
   "outputs": [],
   "source": [
    "#kedinin yasını insan yasındaki karşılığını bulmak istiyorum.\n",
    "# 2.YÖNTEM:\n",
    "class Cat(): \n",
    "    year = 7 \n",
    "    \n",
    "    def __init__(self,age=3): \n",
    "        self.age = age  \n",
    "        self.catHumanAge = age * self.year # init içinde class içinden catHumanAge değişkeni tanımlayarak age ile self.year işlemini burada da yapabiliriz extra metoda ihtiyaç duymayarak.\n",
    "        print(\"cat instance\")\n",
    "\n",
    "# init içinde print yapılabilir. default yapılabilir (age =5). "
   ]
  },
  {
   "cell_type": "code",
   "execution_count": 97,
   "id": "25ed589a-a455-4e7a-9d09-d9454a37332c",
   "metadata": {},
   "outputs": [
    {
     "name": "stdout",
     "output_type": "stream",
     "text": [
      "cat instance\n"
     ]
    }
   ],
   "source": [
    "myCat = Cat(2) #mycat objesini Cat class'ı içinde tanımladık."
   ]
  },
  {
   "cell_type": "code",
   "execution_count": 95,
   "id": "ae936624-06a9-49a0-a31d-cf7aad108a07",
   "metadata": {},
   "outputs": [
    {
     "data": {
      "text/plain": [
       "14"
      ]
     },
     "execution_count": 95,
     "metadata": {},
     "output_type": "execute_result"
    }
   ],
   "source": [
    "myCat.catHumanAge "
   ]
  },
  {
   "cell_type": "code",
   "execution_count": 98,
   "id": "69087c12-3474-4543-b554-f63d0d32542a",
   "metadata": {},
   "outputs": [
    {
     "name": "stdout",
     "output_type": "stream",
     "text": [
      "cat instance\n"
     ]
    }
   ],
   "source": [
    "scarlet = Cat() # benden zorunlu default değeri istemedi çünkü yukarıda default değeri zaten eşitlemiştik (age=3). Ama istersem gire de bilirim."
   ]
  },
  {
   "cell_type": "code",
   "execution_count": null,
   "id": "977af6a1-db10-43fb-a110-3696027208db",
   "metadata": {},
   "outputs": [],
   "source": []
  }
 ],
 "metadata": {
  "kernelspec": {
   "display_name": "Python 3 (ipykernel)",
   "language": "python",
   "name": "python3"
  },
  "language_info": {
   "codemirror_mode": {
    "name": "ipython",
    "version": 3
   },
   "file_extension": ".py",
   "mimetype": "text/x-python",
   "name": "python",
   "nbconvert_exporter": "python",
   "pygments_lexer": "ipython3",
   "version": "3.11.9"
  }
 },
 "nbformat": 4,
 "nbformat_minor": 5
}
