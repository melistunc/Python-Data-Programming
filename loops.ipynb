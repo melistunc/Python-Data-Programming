{
 "cells": [
  {
   "cell_type": "markdown",
   "id": "d28b3824-fd46-4b0f-bf61-b0bac8da4f57",
   "metadata": {},
   "source": [
    "Döngü, devamlı; belirli bir koşul tutana kadar yapılan işlemdir.  for loop'u Genelde koleksiyonlarla beraber kullanırız. \n",
    "for loop, while loop"
   ]
  },
  {
   "cell_type": "code",
   "execution_count": 1,
   "id": "c1a6f92d-0cf1-427c-9a29-0c39b6205e51",
   "metadata": {},
   "outputs": [],
   "source": [
    "my_list = [1,2,3,4,5,6,7]"
   ]
  },
  {
   "cell_type": "code",
   "execution_count": 2,
   "id": "5cd448d7-8c93-4b10-9991-9333f64ba231",
   "metadata": {},
   "outputs": [
    {
     "name": "stdout",
     "output_type": "stream",
     "text": [
      "1\n",
      "2\n",
      "3\n",
      "4\n",
      "5\n",
      "6\n",
      "7\n"
     ]
    }
   ],
   "source": [
    "for num in my_list: #num:herhangi bir değişken ismi. Benim listemin içindeki tüm numlar için.\n",
    "    print(num) \n",
    "#burası my_list içindeki elemanları tek tek alıp num isimli değişkene değerleri atıyor."
   ]
  },
  {
   "cell_type": "code",
   "execution_count": 3,
   "id": "5eee1796-bc68-4355-8eca-a37fa0f6b4bc",
   "metadata": {},
   "outputs": [
    {
     "name": "stdout",
     "output_type": "stream",
     "text": [
      "0.4\n",
      "0.8\n",
      "1.2\n",
      "1.6\n",
      "2.0\n",
      "2.4\n",
      "2.8\n"
     ]
    }
   ],
   "source": [
    "for num in my_list: \n",
    "    print(num / 5 * 2) # tüm değerleri 5'e bölüp 2 ile çarptı."
   ]
  },
  {
   "cell_type": "code",
   "execution_count": 4,
   "id": "5f6db64c-4b23-47ba-b4d5-4e91d0984e90",
   "metadata": {},
   "outputs": [
    {
     "name": "stdout",
     "output_type": "stream",
     "text": [
      "0.4\n",
      "0.8\n",
      "1.2\n",
      "1.6\n",
      "2.0\n",
      "2.4\n",
      "2.8\n"
     ]
    }
   ],
   "source": [
    "for x in my_list: # x değişkenini my_list içindeki değerlere atadık.\n",
    "    new_number = x / 5 * 2 # x değişkenini 5' bölüğ 2 ile çarpıp yeni değişkene atadık.\n",
    "    print(new_number) #yeni değişkeni ekrana yazdırdık.\n",
    "#üstteki kod ile aynı görevi yapar."
   ]
  },
  {
   "cell_type": "code",
   "execution_count": 5,
   "id": "c3ef6539-b685-47b2-bb30-602debb80fb4",
   "metadata": {},
   "outputs": [
    {
     "name": "stdout",
     "output_type": "stream",
     "text": [
      "for loop started\n",
      "0.4\n",
      "0.8\n",
      "1.2\n",
      "1.6\n",
      "2.0\n",
      "2.4\n",
      "2.8\n",
      "for loop ended\n"
     ]
    }
   ],
   "source": [
    "print(\"for loop started\")\n",
    "for x in my_list: \n",
    "    new_number = x / 5 * 2 \n",
    "    print(new_number)\n",
    "print(\"for loop ended\") #for döngüsü bitince buraya girdi.listede eleman bitince burası çalışır.\n",
    "#üsttekiyle aynıdır."
   ]
  },
  {
   "cell_type": "code",
   "execution_count": 6,
   "id": "078a63ec-ba5a-4d3f-865f-f23957a473bf",
   "metadata": {},
   "outputs": [
    {
     "name": "stdout",
     "output_type": "stream",
     "text": [
      "2\n",
      "4\n",
      "6\n"
     ]
    }
   ],
   "source": [
    "# mylist içinde 2'ye bölünenleri ekrana yazdırmak istiyoruz.\n",
    "for ok in my_list:\n",
    "    new_ok = ok % 2 # '%' işareti bir sayıdan kalanı verir. 2'ye bölümünden kalan : new_ok\n",
    "    if new_ok == 0:\n",
    "      print(ok)\n",
    "#2. satır: if ok % 2 == 0 olarak da yazılıp 3. satır yazılmayabilir."
   ]
  },
  {
   "cell_type": "code",
   "execution_count": 7,
   "id": "f5ec63b4-cec6-4c33-a02f-936cc3895637",
   "metadata": {},
   "outputs": [],
   "source": [
    "my_string = \"melfox lvve\""
   ]
  },
  {
   "cell_type": "code",
   "execution_count": 8,
   "id": "4609ef56-6c47-44f1-8dba-1f97d386e5ca",
   "metadata": {},
   "outputs": [
    {
     "name": "stdout",
     "output_type": "stream",
     "text": [
      "m\n",
      "e\n",
      "l\n",
      "f\n",
      "o\n",
      "x\n",
      " \n",
      "l\n",
      "v\n",
      "v\n",
      "e\n"
     ]
    }
   ],
   "source": [
    "for let in my_string:\n",
    "    print(let)\n",
    "#let değikenine string içindeki harfleri tek tek atıyor."
   ]
  },
  {
   "cell_type": "code",
   "execution_count": 9,
   "id": "5994199f-a7db-49d2-8846-2afefcc55e5b",
   "metadata": {},
   "outputs": [],
   "source": [
    "my_tuple = (1,2,3,4,5,6,7)"
   ]
  },
  {
   "cell_type": "code",
   "execution_count": 10,
   "id": "43e362ca-35fb-4117-858e-c737b1dd6b1f",
   "metadata": {},
   "outputs": [
    {
     "name": "stdout",
     "output_type": "stream",
     "text": [
      "0.4\n",
      "0.8\n",
      "1.2\n",
      "1.6\n",
      "2.0\n",
      "2.4\n",
      "2.8\n"
     ]
    }
   ],
   "source": [
    "for num in my_tuple:\n",
    "    print(num / 5 *2)\n",
    "#burada tuple'ı değiştirmiyoruz sadece mat işlemler uyguluyoruz."
   ]
  },
  {
   "cell_type": "code",
   "execution_count": 11,
   "id": "286299c1-d282-47bf-a78d-2f120ac9d1a2",
   "metadata": {},
   "outputs": [
    {
     "data": {
      "text/plain": [
       "(1, 2, 3, 4, 5, 6, 7)"
      ]
     },
     "execution_count": 11,
     "metadata": {},
     "output_type": "execute_result"
    }
   ],
   "source": [
    "my_tuple"
   ]
  },
  {
   "cell_type": "code",
   "execution_count": 12,
   "id": "5077e4ee-a7b5-4f7f-be72-45eb97d28ed3",
   "metadata": {},
   "outputs": [],
   "source": [
    "my_new_list = [(\"a\",\"b\"),(\"c\",\"d\"),(\"e\",\"f\"),(\"g\",\"h\")]"
   ]
  },
  {
   "cell_type": "code",
   "execution_count": 13,
   "id": "5a4fbe10-89a8-4414-9a8b-bb0884ce7a68",
   "metadata": {},
   "outputs": [
    {
     "data": {
      "text/plain": [
       "4"
      ]
     },
     "execution_count": 13,
     "metadata": {},
     "output_type": "execute_result"
    }
   ],
   "source": [
    "len(my_new_list) # 4 elemanımız var."
   ]
  },
  {
   "cell_type": "code",
   "execution_count": 14,
   "id": "7859b634-eeb3-4c9f-8eec-96eccbb93436",
   "metadata": {},
   "outputs": [
    {
     "data": {
      "text/plain": [
       "('a', 'b')"
      ]
     },
     "execution_count": 14,
     "metadata": {},
     "output_type": "execute_result"
    }
   ],
   "source": [
    "my_new_list[0] #ilk tuple değişkenini verdi."
   ]
  },
  {
   "cell_type": "code",
   "execution_count": 15,
   "id": "9a8edea3-f30b-4aef-9c5c-35ce1a4759ab",
   "metadata": {},
   "outputs": [
    {
     "name": "stdout",
     "output_type": "stream",
     "text": [
      "('a', 'b')\n",
      "('c', 'd')\n",
      "('e', 'f')\n",
      "('g', 'h')\n"
     ]
    }
   ],
   "source": [
    "for elm in my_new_list:\n",
    "    print(elm)\n",
    "# mynewlist içindeki elemanları elm'e atadık. Ekrana tek tek tuple değişkenleri şeklinde verir.    "
   ]
  },
  {
   "cell_type": "markdown",
   "id": "42b62903-5526-4f51-b4f1-6d675af8780d",
   "metadata": {},
   "source": [
    "tuple unpacking, tuple içindeki elemanlara tek tek ulaşmak istersek:"
   ]
  },
  {
   "cell_type": "markdown",
   "id": "339aa20f-a162-43c4-a9dc-ad8602771c04",
   "metadata": {},
   "source": [
    "1. uzun yol:"
   ]
  },
  {
   "cell_type": "code",
   "execution_count": 16,
   "id": "0f071fae-ee8c-4bd6-a4ab-495b2559364c",
   "metadata": {},
   "outputs": [
    {
     "data": {
      "text/plain": [
       "'b'"
      ]
     },
     "execution_count": 16,
     "metadata": {},
     "output_type": "execute_result"
    }
   ],
   "source": [
    "my_new_list[0][1] #list içindeki 0. elemanın 1. elemanını getir."
   ]
  },
  {
   "cell_type": "markdown",
   "id": "ecda7ffe-004d-4eb1-bd59-7c63e745804a",
   "metadata": {},
   "source": [
    "2. kısa yol:"
   ]
  },
  {
   "cell_type": "code",
   "execution_count": 17,
   "id": "cdfd25fc-8066-4699-af6e-91eb55060b15",
   "metadata": {},
   "outputs": [
    {
     "name": "stdout",
     "output_type": "stream",
     "text": [
      "a\n",
      "c\n",
      "e\n",
      "g\n"
     ]
    }
   ],
   "source": [
    "for(x,y) in my_new_list: # (x,y) tuple olanları temsil ederi buradaki x:a,c,e,g ; y:b,d,f,h 'dir. \n",
    "    print(x) # x'leri getirdi."
   ]
  },
  {
   "cell_type": "code",
   "execution_count": 18,
   "id": "92aded28-e8c0-4950-92ed-89cd5c8721e1",
   "metadata": {},
   "outputs": [],
   "source": [
    "my_tuple_list =[(0,1,2),(3,4,5),(6,7,8),(9,10,11)]"
   ]
  },
  {
   "cell_type": "code",
   "execution_count": 19,
   "id": "81182eac-8ac2-4f34-9c18-1a5b755a5c60",
   "metadata": {},
   "outputs": [
    {
     "data": {
      "text/plain": [
       "4"
      ]
     },
     "execution_count": 19,
     "metadata": {},
     "output_type": "execute_result"
    }
   ],
   "source": [
    "len(my_tuple_list) # 4 eleman vardır. 4 tuple eleman."
   ]
  },
  {
   "cell_type": "code",
   "execution_count": 20,
   "id": "739f9d6c-e0e6-4f20-a780-75ad42361fc9",
   "metadata": {},
   "outputs": [
    {
     "name": "stdout",
     "output_type": "stream",
     "text": [
      "0\n",
      "3\n",
      "6\n",
      "9\n"
     ]
    }
   ],
   "source": [
    "for(x,y,z) in my_tuple_list:\n",
    "    print(x) #liste içindeki tuple'ların ilk elemanlarına ulaştık."
   ]
  },
  {
   "cell_type": "code",
   "execution_count": 21,
   "id": "b0ab888f-423a-4039-a987-8ea0ecf7c6a9",
   "metadata": {},
   "outputs": [],
   "source": [
    "my_set = {1,2,3,4,5}"
   ]
  },
  {
   "cell_type": "code",
   "execution_count": 22,
   "id": "9125042a-a3bd-46c5-ba08-da2707e6e113",
   "metadata": {},
   "outputs": [
    {
     "data": {
      "text/plain": [
       "5"
      ]
     },
     "execution_count": 22,
     "metadata": {},
     "output_type": "execute_result"
    }
   ],
   "source": [
    "len(my_set)"
   ]
  },
  {
   "cell_type": "code",
   "execution_count": 23,
   "id": "71f23445-2752-476d-b631-1a3485f20bc3",
   "metadata": {},
   "outputs": [
    {
     "data": {
      "text/plain": [
       "set"
      ]
     },
     "execution_count": 23,
     "metadata": {},
     "output_type": "execute_result"
    }
   ],
   "source": [
    "type(my_set)"
   ]
  },
  {
   "cell_type": "code",
   "execution_count": 24,
   "id": "9ad0d71f-a572-4264-b3cc-b3d8380fa822",
   "metadata": {},
   "outputs": [
    {
     "name": "stdout",
     "output_type": "stream",
     "text": [
      "1\n",
      "2\n",
      "3\n",
      "4\n",
      "5\n"
     ]
    }
   ],
   "source": [
    "for num in my_set:\n",
    "    print(num)\n",
    "#set'te çalışma durumu."
   ]
  },
  {
   "cell_type": "code",
   "execution_count": 25,
   "id": "1b0bedbd-a45e-4ea8-8bea-071719445cf7",
   "metadata": {},
   "outputs": [],
   "source": [
    "my_dictionary = {\"k1\":100, \"k2\":200, \"k3\":300}"
   ]
  },
  {
   "cell_type": "code",
   "execution_count": 26,
   "id": "19be7bc5-3bdd-4541-870b-e86f8b367a18",
   "metadata": {},
   "outputs": [
    {
     "data": {
      "text/plain": [
       "3"
      ]
     },
     "execution_count": 26,
     "metadata": {},
     "output_type": "execute_result"
    }
   ],
   "source": [
    "len(my_dictionary)"
   ]
  },
  {
   "cell_type": "code",
   "execution_count": 27,
   "id": "696b6872-e8a5-414e-bd2d-cbcfd7c70c19",
   "metadata": {},
   "outputs": [
    {
     "name": "stdout",
     "output_type": "stream",
     "text": [
      "k1\n",
      "k2\n",
      "k3\n"
     ]
    }
   ],
   "source": [
    "for elm in my_dictionary:\n",
    "    print(elm) #sadece key'leri getirdi."
   ]
  },
  {
   "cell_type": "code",
   "execution_count": 28,
   "id": "eb427057-0cf5-4f93-b4dc-dfe4c5038214",
   "metadata": {},
   "outputs": [
    {
     "data": {
      "text/plain": [
       "dict_items([('k1', 100), ('k2', 200), ('k3', 300)])"
      ]
     },
     "execution_count": 28,
     "metadata": {},
     "output_type": "execute_result"
    }
   ],
   "source": [
    "my_dictionary.items() #dict içindeki elemanların eşleşmelerinin bir listesini verir."
   ]
  },
  {
   "cell_type": "code",
   "execution_count": 29,
   "id": "e120d127-c715-4e88-95e0-10c5f92bcd88",
   "metadata": {},
   "outputs": [
    {
     "name": "stdout",
     "output_type": "stream",
     "text": [
      "100\n",
      "200\n",
      "300\n"
     ]
    }
   ],
   "source": [
    "for (key,value) in my_dictionary.items(): #key,value değişkenleri mydict içindeki itemsler içindekilere eşitlenir.key değişkeni dict içindeki key'ler ile, value değişkeni value'ler ile eşleşir.\n",
    "    print(value)"
   ]
  },
  {
   "cell_type": "code",
   "execution_count": 30,
   "id": "a63148e4-d202-4e9b-b964-3ea184a12c9b",
   "metadata": {},
   "outputs": [
    {
     "name": "stdout",
     "output_type": "stream",
     "text": [
      "100\n",
      "200\n",
      "300\n"
     ]
    }
   ],
   "source": [
    "for num in my_dictionary.values(): #mydict icindeki sadece vaule'ları num değişkenine ata.\n",
    "    print(num)\n",
    "#bu şekilde de yukarıdaki tanımlamanın aynısını yapabiliriz."
   ]
  },
  {
   "cell_type": "markdown",
   "id": "83453929-c1f5-4049-9289-cb9e86574c84",
   "metadata": {},
   "source": [
    "continue, break, pass döngüden çıkmamıza olanak sağlıyorlar."
   ]
  },
  {
   "cell_type": "code",
   "execution_count": 31,
   "id": "47378f2a-04bb-4508-ad94-12f0d1528a2e",
   "metadata": {},
   "outputs": [],
   "source": [
    "my_list = [1,2,3,4,5,6,7,8,9]"
   ]
  },
  {
   "cell_type": "code",
   "execution_count": 32,
   "id": "c48898d6-2f73-497e-abb7-8e5bfa9e2718",
   "metadata": {},
   "outputs": [
    {
     "name": "stdout",
     "output_type": "stream",
     "text": [
      "for loop started\n",
      "1\n",
      "2\n",
      "3\n",
      "4\n",
      "5\n",
      "6\n",
      "7\n",
      "8\n",
      "9\n",
      "for loop ended\n"
     ]
    }
   ],
   "source": [
    "print(\"for loop started\")\n",
    "for num in my_list:\n",
    "    print(num)\n",
    "print(\"for loop ended\")\n",
    "# eleman bitene kadar çalışır."
   ]
  },
  {
   "cell_type": "code",
   "execution_count": 33,
   "id": "455c2dfa-f2a8-42b2-a06d-20fb263573ea",
   "metadata": {},
   "outputs": [
    {
     "name": "stdout",
     "output_type": "stream",
     "text": [
      "1\n",
      "2\n",
      "3\n",
      "4\n",
      "4 is available\n"
     ]
    }
   ],
   "source": [
    "for numb in my_list: # mylist içindekileri numb'a aktardı.\n",
    "    print(numb) #numb içindeki tüm elemanları ekrana yazdırdı.\n",
    "    if numb == 4: #numb içinden 4'u buldu.\n",
    "        print(\"4 is available\") # 4 mevcut yazdırdı.\n",
    "        break # 4'ü bulduktan sonra geri kalanları gereksiz olarak yazdırmamak için break 'çıkma' komutu kullanıldı."
   ]
  },
  {
   "cell_type": "code",
   "execution_count": 34,
   "id": "2a39903e-01d0-4ba4-870a-e3253e852baa",
   "metadata": {},
   "outputs": [
    {
     "name": "stdout",
     "output_type": "stream",
     "text": [
      "1\n",
      "2\n",
      "3\n",
      "'3' is available\n",
      "4\n",
      "5\n",
      "6\n",
      "7\n",
      "8\n",
      "9\n"
     ]
    }
   ],
   "source": [
    "for numb in my_list:\n",
    "    print(numb)\n",
    "    if numb == 3:\n",
    "        print(\"'3' is available\")\n",
    "        continue # burada 3'ü buldu ve sonra diğer sayılara devam etti."
   ]
  },
  {
   "cell_type": "code",
   "execution_count": 35,
   "id": "7f6a3d5f-2f6f-4716-9bc8-1b9844744e70",
   "metadata": {},
   "outputs": [
    {
     "name": "stdout",
     "output_type": "stream",
     "text": [
      "1\n",
      "2\n",
      "4\n",
      "5\n",
      "6\n",
      "7\n",
      "8\n",
      "9\n"
     ]
    }
   ],
   "source": [
    "for numb in my_list:\n",
    "    if numb == 3:\n",
    "        continue\n",
    "    print(numb) \n",
    "#burada liste numb'a atanır sonra if ile numb kontrolü başlanır. numb 3 olduğu zaman burası ekrana yazdırılmadan atlanır diğer kalan sayıların yazımına devam edilir."
   ]
  },
  {
   "cell_type": "code",
   "execution_count": 36,
   "id": "d77f9eae-8263-4f0c-8511-c9af728d5346",
   "metadata": {},
   "outputs": [],
   "source": [
    "for numb in my_list:\n",
    "    pass #pass geçmektir. kodu direkt atlar. genelde sonradan düzeltme için kullanılan koddur."
   ]
  },
  {
   "cell_type": "markdown",
   "id": "be6a9374-b233-4a2b-a396-4a213fe22a50",
   "metadata": {},
   "source": [
    "while, bu olduğu sürece devam et demektir."
   ]
  },
  {
   "cell_type": "code",
   "execution_count": 37,
   "id": "872d80bc-0672-4e45-993f-42a88d429799",
   "metadata": {},
   "outputs": [],
   "source": [
    "x = 0"
   ]
  },
  {
   "cell_type": "code",
   "execution_count": 38,
   "id": "5577c5d3-44fe-417c-8fb3-d58cd7c3d62f",
   "metadata": {},
   "outputs": [
    {
     "name": "stdout",
     "output_type": "stream",
     "text": [
      "while loop started\n",
      "0\n",
      "1\n",
      "2\n",
      "3\n",
      "4\n",
      "5\n",
      "6\n",
      "7\n",
      "8\n",
      "9\n",
      "while loop ended\n"
     ]
    }
   ],
   "source": [
    "print(\"while loop started\")\n",
    "while x < 10: # x her zaman 10'dan küçük olduğu için burası sonsuz döngü olur.\n",
    "    print(x)\n",
    "    x = x +1 #bunu koyma sebebim sonsuz döngü bir yerde kırılsın. Yani x 10'dan büyük olunca burası döngüden çıkar.\n",
    "print(\"while loop ended\")"
   ]
  },
  {
   "cell_type": "code",
   "execution_count": 39,
   "id": "eaf6d25a-51c4-439e-b5ca-32a6768bb464",
   "metadata": {},
   "outputs": [],
   "source": [
    "last_list = [10,20,30,40,50]"
   ]
  },
  {
   "cell_type": "code",
   "execution_count": 40,
   "id": "9d97d40e-4340-4f46-bf36-df19d4ddb641",
   "metadata": {},
   "outputs": [
    {
     "name": "stdout",
     "output_type": "stream",
     "text": [
      "20 in last list\n",
      "20 in last list\n",
      "20 in last list\n",
      "20 in last list\n"
     ]
    }
   ],
   "source": [
    "while 20 in last_list: # 20 sayısı listemde olduğu sürece yazdır. 20 her zaman liste içinde olduğu için burası sonsuz döngüde çalışır.\n",
    "    print(\"20 in last list\")\n",
    "    last_list.pop() # pop metodu sondan tek tek eleman çıkarır. Sonsuz döngü olmaması için bu satırı yazarız. Sondan elemanları çıkarıır 20'ye geldiği zaman 20'yi çıkarır ve durur."
   ]
  },
  {
   "cell_type": "code",
   "execution_count": 41,
   "id": "df7f85eb-1caa-4794-a0f7-faa55dd27e16",
   "metadata": {},
   "outputs": [
    {
     "ename": "SyntaxError",
     "evalue": "incomplete input (148141357.py, line 1)",
     "output_type": "error",
     "traceback": [
      "\u001b[1;36m  Cell \u001b[1;32mIn[41], line 1\u001b[1;36m\u001b[0m\n\u001b[1;33m    while True: #kullanırsak burası her zaman yapılır.\u001b[0m\n\u001b[1;37m                                                       ^\u001b[0m\n\u001b[1;31mSyntaxError\u001b[0m\u001b[1;31m:\u001b[0m incomplete input\n"
     ]
    }
   ],
   "source": [
    "while True: #kullanırsak burası her zaman yapılır. "
   ]
  },
  {
   "cell_type": "code",
   "execution_count": null,
   "id": "00da20da-7eb9-4579-b494-5c4e0f4714b6",
   "metadata": {},
   "outputs": [],
   "source": [
    "my_list = [10,20,30]"
   ]
  },
  {
   "cell_type": "code",
   "execution_count": null,
   "id": "0fb2a152-e26b-42fe-963a-feb671039042",
   "metadata": {},
   "outputs": [],
   "source": [
    "print(my_list)"
   ]
  },
  {
   "cell_type": "code",
   "execution_count": null,
   "id": "5d485d7f-0e96-4de8-98ae-1b0fff7adcc8",
   "metadata": {},
   "outputs": [],
   "source": [
    "print(f\"my_list: {my_list}\") #başına f koyarsak formatlı string olur. süslü parantezin içine değişken yazabiliriz."
   ]
  },
  {
   "cell_type": "code",
   "execution_count": null,
   "id": "6caafb24-25b7-4241-b39a-1ac91c5eacd8",
   "metadata": {},
   "outputs": [],
   "source": [
    "name = input(\"enter name:\")"
   ]
  },
  {
   "cell_type": "code",
   "execution_count": null,
   "id": "3f730845-d57c-4cda-a047-b4e882086a34",
   "metadata": {},
   "outputs": [],
   "source": [
    "print(f\"welcome {name}\") # input ile karakter girşi yaptık sonra f ile string girişi süslü parantez ile değişkeni yazdırdık."
   ]
  },
  {
   "cell_type": "code",
   "execution_count": null,
   "id": "9c784da6-f108-4074-b2a0-2e3ecdf90f2d",
   "metadata": {},
   "outputs": [],
   "source": [
    "print(\"welcome\",name) #bu şekilde de kullanılabilir."
   ]
  },
  {
   "cell_type": "code",
   "execution_count": 42,
   "id": "2d26296c-33c8-4adb-b968-818f0ad0757d",
   "metadata": {},
   "outputs": [
    {
     "name": "stdout",
     "output_type": "stream",
     "text": [
      "value of p: 0\n",
      "value of p: 1\n",
      "value of p: 2\n",
      "value of p: 3\n",
      "value of p: 4\n",
      "value of p: 5\n",
      "value of p: 6\n",
      "value of p: 7\n",
      "value of p: 8\n",
      "value of p: 9\n",
      "value of p: 10\n",
      "value of p: 11\n",
      "value of p: 12\n",
      "value of p: 13\n",
      "value of p: 14\n",
      "value of p: 15\n",
      "value of p: 16\n",
      "value of p: 17\n",
      "value of p: 18\n",
      "value of p: 19\n"
     ]
    }
   ],
   "source": [
    "p = 0\n",
    "while p < 20: # p 20'den küçük olduğu sürece çalışsın.\n",
    "    print(f\"value of p: {p}\") #ekrana yazdırma\n",
    "    p += 1 # p'ye her döngüde 1 ekleriz. 20'den büyük olunca döngüden çıkar."
   ]
  },
  {
   "cell_type": "code",
   "execution_count": null,
   "id": "f5c92018-7e05-4017-9f54-3cd624835afb",
   "metadata": {},
   "outputs": [],
   "source": []
  }
 ],
 "metadata": {
  "kernelspec": {
   "display_name": "Python 3 (ipykernel)",
   "language": "python",
   "name": "python3"
  },
  "language_info": {
   "codemirror_mode": {
    "name": "ipython",
    "version": 3
   },
   "file_extension": ".py",
   "mimetype": "text/x-python",
   "name": "python",
   "nbconvert_exporter": "python",
   "pygments_lexer": "ipython3",
   "version": "3.11.9"
  }
 },
 "nbformat": 4,
 "nbformat_minor": 5
}
